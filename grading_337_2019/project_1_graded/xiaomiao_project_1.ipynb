{
 "cells": [
  {
   "cell_type": "markdown",
   "metadata": {},
   "source": [
    "Name: Xiaomiao Zhuo\n",
    "UBID: 50236116"
   ]
  },
  {
   "cell_type": "code",
   "execution_count": 32,
   "metadata": {},
   "outputs": [
    {
     "data": {
      "text/plain": [
       "'C:\\\\Users\\\\admins\\\\Mth337'"
      ]
     },
     "execution_count": 32,
     "metadata": {},
     "output_type": "execute_result"
    }
   ],
   "source": [
    "pwd"
   ]
  },
  {
   "cell_type": "markdown",
   "metadata": {},
   "source": [
    "# Project 1: Prime and False Prime"
   ]
  },
  {
   "cell_type": "markdown",
   "metadata": {},
   "source": [
    "   There are infinite many numbers in number system. Prime number is a special kind of numbers. Numbers that can only be divid by itself and 1. Numbers like 2, 3, 5, 7, ...101, 233. Their factors are themself and one. Also there is another special kind of numbers, they are called False Prime. \n",
    "   \n",
    "   What is false prime? False Prime are numbers that satisfy two conditions. First, the equation $a^p\\equiv a$ (mod $p$), while 0<a<p, and p>=2. Secondly, they cant be a prime, because a lots of prime numbers satisfy the equation too.\n",
    "   \n",
    "   This project is aim to find the numbers are false prime. My first goal is to find the first 20 false prime numbers. I created 3 functions to help me to do so. **isprimelike**, a function that help me to find numbers that satisfy the condition of $a^p\\equiv a$ (mod $p$). **isprime** to find prime numbers. Combine them together that created the function **falseprime**, which finds the 20 false prime, by finding the numbers satisfy **isprimelike** while not **isprime**.\n",
    "   \n",
    "   In addition, to look deeper in to the false prime numbers. I tried to find the primary divisor for the first 20 false prime. using **isprime** to create a function that turn out a list of prime number thats least then the 20th falseprime. I use **primary** to find the primary divisors."
   ]
  },
  {
   "cell_type": "markdown",
   "metadata": {},
   "source": [
    "## part 1"
   ]
  },
  {
   "cell_type": "markdown",
   "metadata": {},
   "source": [
    "```Part 1. Write a Python script to find the first 20 false primes.```"
   ]
  },
  {
   "cell_type": "code",
   "execution_count": 17,
   "metadata": {},
   "outputs": [
    {
     "name": "stdout",
     "output_type": "stream",
     "text": [
      "[561, 1105, 1729, 2465, 2821, 6601, 8911, 10585, 15841, 29341, 41041, 46657, 52633, 62745, 63973, 75361, 101101, 115921, 126217, 162401, 172081]\n"
     ]
    }
   ],
   "source": [
    "def isprimelike(p):\n",
    "    primelike = True\n",
    "    if p<2:\n",
    "        primelike = False\n",
    "    for a in range(0,p):\n",
    "        if pow(a,p,p)!=(a%p):\n",
    "            primelike=False\n",
    "            break\n",
    "    return primelike\n",
    "\n",
    "def isprime(p):\n",
    "    prime = True\n",
    "    if p<2:\n",
    "        prime = False\n",
    "    for numbers in range(2,int(p**0.5)+1):\n",
    "        if p%numbers==0:\n",
    "            prime=False\n",
    "            break\n",
    "    return prime\n",
    "\n",
    "def falseprime():\n",
    "    falseprime2=[]\n",
    "    p=561\n",
    "    while p<=172081:\n",
    "        if not isprime(p) and isprimelike(p):\n",
    "                falseprime2.append(p)\n",
    "        p+=1\n",
    "    return falseprime2\n",
    "\n",
    "print(falseprime())"
   ]
  },
  {
   "cell_type": "markdown",
   "metadata": {},
   "source": [
    "## Part2"
   ]
  },
  {
   "cell_type": "code",
   "execution_count": 18,
   "metadata": {},
   "outputs": [],
   "source": [
    "#create a list to save prime numbers\n",
    "def primenumbers(p):\n",
    "    primenumber=[]\n",
    "    for numbers in range(2,p+1):\n",
    "        if isprime(numbers):\n",
    "            primenumber.append(numbers)\n",
    "    return primenumber"
   ]
  },
  {
   "cell_type": "code",
   "execution_count": 19,
   "metadata": {},
   "outputs": [
    {
     "data": {
      "text/plain": [
       "[2, 3, 5, 7]"
      ]
     },
     "execution_count": 19,
     "metadata": {},
     "output_type": "execute_result"
    }
   ],
   "source": [
    "# testing\n",
    "primenumbers(7)"
   ]
  },
  {
   "cell_type": "code",
   "execution_count": 20,
   "metadata": {},
   "outputs": [],
   "source": [
    "def primary(p):\n",
    "    primefactor=[]\n",
    "    for factors in primenumbers(p):\n",
    "        while p%factors==0:\n",
    "            primefactor.append(factors)\n",
    "            p//=factors\n",
    "        if p==1:\n",
    "            break\n",
    "    return primefactor"
   ]
  },
  {
   "cell_type": "code",
   "execution_count": 30,
   "metadata": {},
   "outputs": [
    {
     "name": "stdout",
     "output_type": "stream",
     "text": [
      "[3, 11, 17]\n",
      "[5, 13, 17]\n",
      "[7, 13, 19]\n",
      "[5, 17, 29]\n",
      "[7, 13, 31]\n",
      "[7, 23, 41]\n",
      "[7, 19, 67]\n",
      "[5, 29, 73]\n",
      "[7, 31, 73]\n",
      "[13, 37, 61]\n",
      "[7, 11, 13, 41]\n",
      "[7, 73, 103]\n",
      "[3, 5, 47, 89]\n",
      "[7, 13, 19, 37]\n",
      "[11, 13, 17, 31]\n",
      "[7, 11, 13, 101]\n",
      "[13, 37, 241]\n",
      "[7, 13, 19, 73]\n",
      "[17, 41, 233]\n",
      "[7, 13, 31, 61]\n"
     ]
    }
   ],
   "source": [
    "print(primary(561))\n",
    "print(primary(1105))\n",
    "print(primary(1729))\n",
    "print(primary(2465))\n",
    "print(primary(2821))\n",
    "print(primary(6601))\n",
    "print(primary(8911))\n",
    "print(primary(10585))\n",
    "print(primary(15841))\n",
    "print(primary(29341))\n",
    "print(primary(41041))\n",
    "print(primary(52633))\n",
    "print(primary(62745))\n",
    "print(primary(63973))\n",
    "print(primary(75361))\n",
    "print(primary(101101))\n",
    "print(primary(115921))\n",
    "print(primary(126217))\n",
    "print(primary(162401))\n",
    "print(primary(172081))"
   ]
  },
  {
   "cell_type": "markdown",
   "metadata": {},
   "source": [
    "## Part 3"
   ]
  },
  {
   "cell_type": "markdown",
   "metadata": {},
   "source": [
    "*Question*: What can you say or conjecture about properties of false primes?"
   ]
  },
  {
   "cell_type": "markdown",
   "metadata": {},
   "source": [
    "   Most of False prime's last digit turns out to be 1. 7 and 13 are the two most popular common factors that false prime shared. Most falseprime have one factor's single digit ends with 1. And there factors never repeat."
   ]
  },
  {
   "cell_type": "markdown",
   "metadata": {},
   "source": [
    "   In conlusion, look for false prime is a very new and fun experiment. Knowing the smallest false prime is 561, made me shock. To satisfy the condition of false prime wasnt easy, the number has to be both not prime and satsify the equation $a^p\\equiv a$ (mod $p$). Solving the number by hand is kinda impassible, therefore the coding made this mission doable."
   ]
  }
 ],
 "metadata": {
  "kernelspec": {
   "display_name": "Python 3",
   "language": "python",
   "name": "python3"
  },
  "language_info": {
   "codemirror_mode": {
    "name": "ipython",
    "version": 3
   },
   "file_extension": ".py",
   "mimetype": "text/x-python",
   "name": "python",
   "nbconvert_exporter": "python",
   "pygments_lexer": "ipython3",
   "version": "3.7.1"
  }
 },
 "nbformat": 4,
 "nbformat_minor": 2
}
