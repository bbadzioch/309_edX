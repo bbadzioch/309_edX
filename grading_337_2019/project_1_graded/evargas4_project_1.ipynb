{
 "cells": [
  {
   "cell_type": "markdown",
   "metadata": {},
   "source": [
    "# Introduction"
   ]
  },
  {
   "cell_type": "markdown",
   "metadata": {},
   "source": [
    "Prime numbers are very helpful in the sense that they have many different kinds of uses. Primes can be used in order to encrypt data in order to make financial transactions more secure and efficient. In an essensce they are the building blocks of all postive whole numbers. However, what criteria constitues a prime number exactly?"
   ]
  },
  {
   "cell_type": "markdown",
   "metadata": {},
   "source": [
    "## A number p, is prime if:\n"
   ]
  },
  {
   "cell_type": "markdown",
   "metadata": {},
   "source": [
    "* If its only factors are 1 and itself\n",
    "* It also passes a certain conqruency test "
   ]
  },
  {
   "cell_type": "markdown",
   "metadata": {},
   "source": [
    "## Congruency Test: "
   ]
  },
  {
   "cell_type": "markdown",
   "metadata": {},
   "source": [
    "The congruency thereom which demonstrates a criteria that prime numbers follow"
   ]
  },
  {
   "cell_type": "markdown",
   "metadata": {},
   "source": [
    "$$ (a)^p\\equiv a(modp) $$"
   ]
  },
  {
   "cell_type": "markdown",
   "metadata": {},
   "source": [
    "This thereom holds even for some nonprime numbers within the range $0 \\leq a<p$, these numbers are known as \"primelike\""
   ]
  },
  {
   "cell_type": "code",
   "execution_count": 1,
   "metadata": {},
   "outputs": [],
   "source": [
    "def isprimelike(p):\n",
    "    isprimelike=True\n",
    "    for a in range(2,p):\n",
    "        x=(pow(a,p,p)!=a%p) ##Pow test used to determine whether or not an integer is 'primelike'\n",
    "        if (x):\n",
    "            isprimelike=False \n",
    "    return isprimelike"
   ]
  },
  {
   "cell_type": "code",
   "execution_count": 2,
   "metadata": {},
   "outputs": [],
   "source": [
    "def prime2(p):\n",
    "    prime=True\n",
    "    if p<2:\n",
    "        prime=False\n",
    "    for i in range(2,int(p**0.5)+1): #Prime test to determine if a number is prime \n",
    "        if p%i==0:\n",
    "            prime=False\n",
    "            break\n",
    "    return prime"
   ]
  },
  {
   "cell_type": "code",
   "execution_count": 3,
   "metadata": {},
   "outputs": [],
   "source": [
    "def falseprimes(p):\n",
    "    if isprimelike(p) and not prime2(p): #Function used to combine the first two criteria for primelike inetegers\n",
    "        return True\n",
    "    else: \n",
    "        return False"
   ]
  },
  {
   "cell_type": "code",
   "execution_count": 24,
   "metadata": {},
   "outputs": [
    {
     "name": "stdout",
     "output_type": "stream",
     "text": [
      "[561, 1105, 1729, 2465, 2821, 6601, 8911]\n"
     ]
    }
   ],
   "source": [
    "fplist=[]\n",
    "for i in range(2,10000):\n",
    "    if falseprimes(i):  #Creating a list for the first twenty prime numbers \n",
    "        fplist.append(i)\n",
    "print(fplist)            \n",
    "        "
   ]
  },
  {
   "cell_type": "markdown",
   "metadata": {},
   "source": [
    "# Part 2 "
   ]
  },
  {
   "cell_type": "code",
   "execution_count": 16,
   "metadata": {},
   "outputs": [
    {
     "name": "stdout",
     "output_type": "stream",
     "text": [
      "[2, 3, 5, 7, 11, 13, 17, 19]\n"
     ]
    }
   ],
   "source": [
    "primelist=[]\n",
    "for i in range(20):\n",
    "    if prime2(i):\n",
    "        primelist.append(i)\n",
    "print(primelist)        "
   ]
  },
  {
   "cell_type": "code",
   "execution_count": 17,
   "metadata": {},
   "outputs": [
    {
     "name": "stdout",
     "output_type": "stream",
     "text": [
      "[2, 3, 5, 7, 11, 13, 17, 19]\n"
     ]
    }
   ],
   "source": [
    "print(primelist)"
   ]
  },
  {
   "cell_type": "code",
   "execution_count": 18,
   "metadata": {},
   "outputs": [
    {
     "name": "stdout",
     "output_type": "stream",
     "text": [
      "[2, 3, 5, 7, 11, 13, 17, 19]\n"
     ]
    }
   ],
   "source": [
    "print(primelist)"
   ]
  },
  {
   "cell_type": "code",
   "execution_count": 22,
   "metadata": {},
   "outputs": [],
   "source": [
    "def primefac(n):\n",
    "\n",
    "    return primelist"
   ]
  },
  {
   "cell_type": "code",
   "execution_count": 23,
   "metadata": {},
   "outputs": [
    {
     "data": {
      "text/plain": [
       "[2, 3, 5, 7, 11, 13, 17, 19]"
      ]
     },
     "execution_count": 23,
     "metadata": {},
     "output_type": "execute_result"
    }
   ],
   "source": []
  },
  {
   "cell_type": "markdown",
   "metadata": {},
   "source": [
    "# Part 3 "
   ]
  },
  {
   "cell_type": "markdown",
   "metadata": {},
   "source": [
    "What can be interepted from the properties of false primes is that they behave like any other positive integer. Just like any other number it can be broken down into a product of multiple primes. Prime numbers are the building blocks of all real positive intgers."
   ]
  }
 ],
 "metadata": {
  "kernelspec": {
   "display_name": "Python 3",
   "language": "python",
   "name": "python3"
  },
  "language_info": {
   "codemirror_mode": {
    "name": "ipython",
    "version": 3
   },
   "file_extension": ".py",
   "mimetype": "text/x-python",
   "name": "python",
   "nbconvert_exporter": "python",
   "pygments_lexer": "ipython3",
   "version": "3.7.3"
  }
 },
 "nbformat": 4,
 "nbformat_minor": 2
}
