{
 "cells": [
  {
   "cell_type": "code",
   "execution_count": 9,
   "metadata": {},
   "outputs": [],
   "source": [
    "def isprime(n):\n",
    "    isprime=True\n",
    "    if n<2:\n",
    "        isprime=False\n",
    "    for w in range(2,int(n**(1/2))+1):\n",
    "        if n%w==0:\n",
    "            isprime=False\n",
    "            break\n",
    "    return isprime\n",
    "\n"
   ]
  },
  {
   "cell_type": "code",
   "execution_count": 22,
   "metadata": {},
   "outputs": [
    {
     "name": "stdout",
     "output_type": "stream",
     "text": [
      "[]\n"
     ]
    }
   ],
   "source": [
    "def falseprime():\n",
    "    list1=[]\n",
    "    for a in range(4800,5000):\n",
    "        n=0\n",
    "        if not isprime(a):\n",
    "            for b in range(a):\n",
    "                if b**a%a==b%a:\n",
    "                    n=n+1\n",
    "                    if n==a-1:\n",
    "                        list1.append(a)\n",
    "    return list1\n",
    "print(falseprime())"
   ]
  },
  {
   "cell_type": "code",
   "execution_count": null,
   "metadata": {},
   "outputs": [],
   "source": []
  }
 ],
 "metadata": {
  "kernelspec": {
   "display_name": "Python 3",
   "language": "python",
   "name": "python3"
  },
  "language_info": {
   "codemirror_mode": {
    "name": "ipython",
    "version": 3
   },
   "file_extension": ".py",
   "mimetype": "text/x-python",
   "name": "python",
   "nbconvert_exporter": "python",
   "pygments_lexer": "ipython3",
   "version": "3.7.3"
  }
 },
 "nbformat": 4,
 "nbformat_minor": 2
}
