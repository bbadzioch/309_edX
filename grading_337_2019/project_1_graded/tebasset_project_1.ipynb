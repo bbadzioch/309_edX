{
 "cells": [
  {
   "cell_type": "markdown",
   "metadata": {},
   "source": [
    "# Project 1\n",
    "## Prime Numbers - Thomas Bassett (50190029)"
   ]
  },
  {
   "cell_type": "markdown",
   "metadata": {},
   "source": [
    "## Introduction:"
   ]
  },
  {
   "cell_type": "markdown",
   "metadata": {},
   "source": [
    "A prime number is simply defined as any number greater than one that has divisors other than itself and one. Due to this property which differentiates them, prime numbers are often utilized in data security and encryption protocols. False primes, which are definitionally not prime numbers, represent another unique catagory of numbers in that they share some important characteristics of true primes numbers, such as congruene. For the purpose of this project, congruency will be defined as follows:"
   ]
  },
  {
   "cell_type": "markdown",
   "metadata": {},
   "source": [
    "<center>For any integer P such that $P > a > 0$<center>"
   ]
  },
  {
   "cell_type": "markdown",
   "metadata": {},
   "source": [
    "<center>$a^P=a(mod P)$<center>"
   ]
  },
  {
   "cell_type": "markdown",
   "metadata": {},
   "source": [
    "While the overwhelming majority of numbers (P) that satisfy this relation are prime numbers, there does exists values of P > 2 were P is not a prime number, making it a false prime. What this means is that the mod of $a^P$ is going to be equivalent to $a(modP)$ for all values of a from 1 up to that value P. If this is the case, the P value is either a prime number or has Prime like properties. A differentiation between prime or prime like can then be made using a prime number test, in which those found to be non-prime numbers are then assumed to be prime like, and therefor a false prime. "
   ]
  },
  {
   "cell_type": "markdown",
   "metadata": {},
   "source": [
    "The goal of this project is to calculate a list of the first 20 false prime numbers. False primes are relatively few and far inbetween, as suggested by the first false prime appearing at P = 561. Because of this, false prime 20 can be assumed to be a very high number, making it necessary to take into account computational efficiency when creating a solution. The general approach to solving this problem will be as follows: make a function identiying primes; make a function identifying if a number is prime like; combining the functions into a singular function to calculate the first 20 prime numbers; making a function to calculate the primary decomposition of a number; using that primary decomposition function on the 20 prime numbers calculated."
   ]
  },
  {
   "cell_type": "markdown",
   "metadata": {},
   "source": [
    "## Report Content & Python Code:"
   ]
  },
  {
   "cell_type": "markdown",
   "metadata": {},
   "source": [
    "### Exercise 1: Write a Python function *myprimes(n)* that returns the list of all primes smaller or equal to n, ordered from the smallest to the largest:"
   ]
  },
  {
   "cell_type": "markdown",
   "metadata": {},
   "source": [
    "The first step in building a function that returns a list of all prime numbers is to first design a helper function, **isPrime(n)**, which will determine if a number is infact prime."
   ]
  },
  {
   "cell_type": "code",
   "execution_count": 1,
   "metadata": {},
   "outputs": [],
   "source": [
    "def isPrime(n):\n",
    "    if(n == 2):\n",
    "        return True\n",
    "    for x in range(2,n):\n",
    "        if((n % x) == 0):\n",
    "            return False\n",
    "    return True"
   ]
  },
  {
   "cell_type": "markdown",
   "metadata": {},
   "source": [
    "In this *Helper Function*, only values greater than 2 need to be considered, as the definition of a prime number only includes numbers greater than 1. The first thing that is checked for in the function above is if n is 2, in which the function returns **True**, as 2 is the first prime number. If it is not the case that n is 2, the function then progresses through a loop considering all numbers between 2 and n, and checks to see if the remainder of n and said numbers is ever zero. If it is the case that the remainder is zero for any of these iterated numbers, that number is a diviser of n and therefor n is not a prime number, returning **False**. If the loop is completed without returning False, it can then be assumed that n has ne divisors besides 1 and n, making n a prime number, in which case the function returns **True**."
   ]
  },
  {
   "cell_type": "markdown",
   "metadata": {},
   "source": [
    "*isPrime* test cases:"
   ]
  },
  {
   "cell_type": "code",
   "execution_count": 2,
   "metadata": {},
   "outputs": [
    {
     "name": "stdout",
     "output_type": "stream",
     "text": [
      "2  is True\n",
      "4  is False\n",
      "7  is True\n",
      "9  is False\n",
      "11 is True\n",
      "15 is False\n"
     ]
    }
   ],
   "source": [
    "print(\"2  is \" + str(isPrime(2)))\n",
    "print(\"4  is \" + str(isPrime(4)))\n",
    "print(\"7  is \" + str(isPrime(7)))\n",
    "print(\"9  is \" + str(isPrime(9)))\n",
    "print(\"11 is \" + str(isPrime(11)))\n",
    "print(\"15 is \" + str(isPrime(15)))"
   ]
  },
  {
   "cell_type": "markdown",
   "metadata": {},
   "source": [
    "With the help of *isPrime*, we can create a function *myprimes* that satisfies the requirements layed out for exercise 1."
   ]
  },
  {
   "cell_type": "code",
   "execution_count": 3,
   "metadata": {},
   "outputs": [],
   "source": [
    "def myprimes(n):\n",
    "    myprimes = []\n",
    "    for x in range(2,n+1):\n",
    "        if (isPrime(x)):\n",
    "            myprimes.append(x)\n",
    "    return myprimes"
   ]
  },
  {
   "cell_type": "markdown",
   "metadata": {},
   "source": [
    "Much like with *isPrime*, only numbers 2 greater than or equal to 2 need to be considered, as layed out in the definition of a prime number. This is accomplished by running a for-loop between 2 and n+1, so that the *isPrime* function is only called on the appropriate subset of integers. If *isPrime* returns true on any given input, that integer is then added to the output list of prime numbers."
   ]
  },
  {
   "cell_type": "markdown",
   "metadata": {},
   "source": [
    "*myprimes* test cases:"
   ]
  },
  {
   "cell_type": "code",
   "execution_count": 4,
   "metadata": {},
   "outputs": [
    {
     "name": "stdout",
     "output_type": "stream",
     "text": [
      " 5: [2, 3, 5]\n",
      "11: [2, 3, 5, 7, 11]\n",
      "18: [2, 3, 5, 7, 11, 13, 17]\n",
      "23: [2, 3, 5, 7, 11, 13, 17, 19, 23]\n",
      "49: [2, 3, 5, 7, 11, 13, 17, 19, 23, 29, 31, 37, 41, 43, 47]\n",
      "76: [2, 3, 5, 7, 11, 13, 17, 19, 23, 29, 31, 37, 41, 43, 47, 53, 59, 61, 67, 71, 73]\n"
     ]
    }
   ],
   "source": [
    "print(\" 5: \" + str(myprimes(5)))\n",
    "print(\"11: \" + str(myprimes(11)))\n",
    "print(\"18: \" + str(myprimes(18)))\n",
    "print(\"23: \" + str(myprimes(23)))\n",
    "print(\"49: \" + str(myprimes(49)))\n",
    "print(\"76: \" + str(myprimes(76)))"
   ]
  },
  {
   "cell_type": "markdown",
   "metadata": {},
   "source": [
    "### Exercise 2: Write a Python function *primary(n)* that for each integer n greater than 1 returns a list $[p_1,p_2,...,p_m]$ where $p_1,...,p_m$ are primes and $n = p_1*p_2*...*p_m$"
   ]
  },
  {
   "cell_type": "markdown",
   "metadata": {},
   "source": [
    "The function *primary* can be implemented through the use of the previous function implementations *isPrime* and *myprimes*."
   ]
  },
  {
   "cell_type": "code",
   "execution_count": 5,
   "metadata": {},
   "outputs": [],
   "source": [
    "def primary(n):\n",
    "    workingList = myprimes(n)\n",
    "    finalList = []\n",
    "    while(not isPrime(n)):\n",
    "        for x in workingList:\n",
    "            if(n%x == 0):\n",
    "                finalList.append(x)\n",
    "                n = n//x\n",
    "                break\n",
    "    if(isPrime(n)):\n",
    "        finalList.append(n)\n",
    "    return finalList"
   ]
  },
  {
   "cell_type": "markdown",
   "metadata": {},
   "source": [
    "In order to generate the list as defined by the exercise, which equates to the prime factorization of any given number, a working list is generated by the earlier defined *myprimes* function. This list provides all of the posible factors of n, which could be included in the final list. Next, a for-loop is nested within a while loop, to iterate through the the working list to find the lowest, none 1 factor of n, which is always the first value on the list. Once this value is identified, is is added to the output list, n is adjusted by factoring out the newly identified value of x, and the for-loop is broken and restarted to account for possible repeat output list variables. Once the remaining n value becomes prime, the while loop is terminated and the resulting n value is added to the end of the output list."
   ]
  },
  {
   "cell_type": "markdown",
   "metadata": {},
   "source": [
    "*primary* test cases:"
   ]
  },
  {
   "cell_type": "code",
   "execution_count": 6,
   "metadata": {},
   "outputs": [
    {
     "name": "stdout",
     "output_type": "stream",
     "text": [
      " 2: [2]\n",
      "23: [23]\n",
      "10: [2, 5]\n",
      "57: [3, 19]\n",
      " 8: [2, 2, 2]\n",
      "90: [2, 3, 3, 5]\n"
     ]
    }
   ],
   "source": [
    "print(\" 2: \" + str(primary(2)))\n",
    "print(\"23: \" + str(primary(23)))\n",
    "print(\"10: \" + str(primary(10)))\n",
    "print(\"57: \" + str(primary(57)))\n",
    "print(\" 8: \" + str(primary(8)))\n",
    "print(\"90: \" + str(primary(90)))"
   ]
  },
  {
   "cell_type": "markdown",
   "metadata": {},
   "source": [
    "### Project - Part 1: Write a Python script to find the first 20 false primes."
   ]
  },
  {
   "cell_type": "markdown",
   "metadata": {},
   "source": [
    "In order to generate the desired list of False Primes, the helper function *isPrimeLike* is defined to determine if a number follows the predetermined congruency rules (is prime like) as layed out for part 1."
   ]
  },
  {
   "cell_type": "code",
   "execution_count": 7,
   "metadata": {},
   "outputs": [],
   "source": [
    "def isPrimeLike(n):\n",
    "    for x in range(1,n):\n",
    "        if(not(pow(x,n,n) == x%n)):\n",
    "            return False\n",
    "    return True"
   ]
  },
  {
   "cell_type": "markdown",
   "metadata": {},
   "source": [
    "This helper function takes in a number n and determines if that number is prime like. The range of required tests is generated by running a for-loop to iterate through all of the possible values of X for the expression $X^P \\equiv X (mod  P)$ such that $0 \\leq X < P$. The expression is then varified through the use of the *pow* and % functions which ultimatley checks for congruence. If the loop is allowed to progress to its natural terminus, it will return true varifying the relaion. If not, it will return false refuting the relation."
   ]
  },
  {
   "cell_type": "markdown",
   "metadata": {},
   "source": [
    "*isPrimeLike* test cases:"
   ]
  },
  {
   "cell_type": "code",
   "execution_count": 8,
   "metadata": {},
   "outputs": [
    {
     "name": "stdout",
     "output_type": "stream",
     "text": [
      " 2: True\n",
      " 4: False\n",
      " 7: True\n",
      "20: False\n",
      "47: True\n",
      "50: False\n"
     ]
    }
   ],
   "source": [
    "print(\" 2: \" + str(isPrimeLike(2)))\n",
    "print(\" 4: \" + str(isPrimeLike(4)))\n",
    "print(\" 7: \" + str(isPrimeLike(7)))\n",
    "print(\"20: \" + str(isPrimeLike(20)))\n",
    "print(\"47: \" + str(isPrimeLike(47)))\n",
    "print(\"50: \" + str(isPrimeLike(50)))"
   ]
  },
  {
   "cell_type": "markdown",
   "metadata": {},
   "source": [
    "The function *findFalsePrimes* can be implemented through the use of the previous function implementations *isPrimeLike* and *isPrime*."
   ]
  },
  {
   "cell_type": "code",
   "execution_count": 9,
   "metadata": {},
   "outputs": [],
   "source": [
    "def findFalsePrimes(n):\n",
    "    y = 562\n",
    "    outputList = [561]\n",
    "    for x in range(1,n):\n",
    "        while(True):\n",
    "            if(not(isPrime(y))):\n",
    "                if(isPrimeLike(y)):\n",
    "                    outputList.append(y)\n",
    "                    y = y + 1\n",
    "                    break\n",
    "            y = y + 1\n",
    "    return outputList"
   ]
  },
  {
   "cell_type": "markdown",
   "metadata": {},
   "source": [
    "Since it is already known that the first False Prime within a list is 562, that number can be automatically added to the output list and iterations can start at the integer 562, saving computational time. From here, a for-loop is run from 1 to n, which in this case represents the total number of false primes desired within the list. Nested within this loop is a while loop, which acts to iterate though each possible integer checking both *isPrime* and *isPrimeLike*. If a number is found to be prime-like but not a prime number, it is assumed to be a false prime and added to output list. When this occurs, the while loop is broken and restarted, which allows the for-loop to be incremented, keeping track of the overall list size. When the for-loop terminates, the output list is returned containing all of the requested false primes."
   ]
  },
  {
   "cell_type": "markdown",
   "metadata": {},
   "source": [
    "Primary Requirement for Part 1:"
   ]
  },
  {
   "cell_type": "code",
   "execution_count": 10,
   "metadata": {},
   "outputs": [
    {
     "data": {
      "text/plain": [
       "[561,\n",
       " 1105,\n",
       " 1729,\n",
       " 2465,\n",
       " 2821,\n",
       " 6601,\n",
       " 8911,\n",
       " 10585,\n",
       " 15841,\n",
       " 29341,\n",
       " 41041,\n",
       " 46657,\n",
       " 52633,\n",
       " 62745,\n",
       " 63973,\n",
       " 75361,\n",
       " 101101,\n",
       " 115921,\n",
       " 126217,\n",
       " 162401]"
      ]
     },
     "execution_count": 10,
     "metadata": {},
     "output_type": "execute_result"
    }
   ],
   "source": [
    "findFalsePrimes(20)"
   ]
  },
  {
   "cell_type": "markdown",
   "metadata": {},
   "source": [
    "### Project - Part 2: Compute the primary decomposition of each false prime you found"
   ]
  },
  {
   "cell_type": "markdown",
   "metadata": {},
   "source": [
    "Primary Requirement for Part 2:"
   ]
  },
  {
   "cell_type": "code",
   "execution_count": 11,
   "metadata": {},
   "outputs": [
    {
     "name": "stdout",
     "output_type": "stream",
     "text": [
      "Primary Decomposition for 561 is: [3, 11, 17]\n",
      "Primary Decomposition for 1105 is: [5, 13, 17]\n",
      "Primary Decomposition for 1729 is: [7, 13, 19]\n",
      "Primary Decomposition for 2465 is: [5, 17, 29]\n",
      "Primary Decomposition for 2821 is: [7, 13, 31]\n",
      "Primary Decomposition for 6601 is: [7, 23, 41]\n",
      "Primary Decomposition for 8911 is: [7, 19, 67]\n",
      "Primary Decomposition for 10585 is: [5, 29, 73]\n",
      "Primary Decomposition for 15841 is: [7, 31, 73]\n",
      "Primary Decomposition for 29341 is: [13, 37, 61]\n",
      "Primary Decomposition for 41041 is: [7, 11, 13, 41]\n",
      "Primary Decomposition for 46657 is: [13, 37, 97]\n",
      "Primary Decomposition for 52633 is: [7, 73, 103]\n",
      "Primary Decomposition for 62745 is: [3, 5, 47, 89]\n",
      "Primary Decomposition for 63973 is: [7, 13, 19, 37]\n",
      "Primary Decomposition for 75361 is: [11, 13, 17, 31]\n",
      "Primary Decomposition for 101101 is: [7, 11, 13, 101]\n",
      "Primary Decomposition for 115921 is: [13, 37, 241]\n",
      "Primary Decomposition for 126217 is: [7, 13, 19, 73]\n",
      "Primary Decomposition for 162401 is: [17, 41, 233]\n"
     ]
    }
   ],
   "source": [
    "for x in [561,1105,1729,2465,2821,6601,8911,10585,15841,29341,41041,46657,52633,62745,63973,75361,101101,115921,126217,162401]:\n",
    "    print(\"Primary Decomposition for \" + str(x) + \" is: \" + str(primary(x)))"
   ]
  },
  {
   "cell_type": "markdown",
   "metadata": {},
   "source": [
    "The Primary Decompositions for the numbers generated with the command findFalsePrimes(20) were calculated with the help of the function *primary*, as defined above. A for-loop was used to iterate through the 20 numbers within the false prime list, and primary was was called on each. str() and print() were used for formating."
   ]
  },
  {
   "cell_type": "markdown",
   "metadata": {},
   "source": [
    "### Project - Part 3: What can you say or conjecture about properties of false primes?"
   ]
  },
  {
   "cell_type": "markdown",
   "metadata": {},
   "source": [
    "When simply looking at the first 20 false primes and there primary decompositions, the first thing that I noticed was that all of the false primes were odd numbers, which to me was unexpected. As false primes are non-prime numbers that mirror some properties of prime numbers, I was expecting some of the tabulated numbers to be even. Likewise, when looking at the primary decomposition of the 20 calculated numbers, none of them have 2 as a factor, which is one of the requirnments for having an even number. Another very odd occurance that was observable in this calculated group of false primes was the numbers distribution along a standard integer numberline. For example, if you were to look at the seporation between false prime 10 and false prime 11, you would see a seporation of 11,700. Looking at the seporation for the next group, false prime 11 and false prime 12, you get a seporation of 5,616. For 12 and 13, that seporation becomes 5,976. This is particularly odd in that it doesn't emediatly appear to follow any form of standard growth model, such as linear or exponential, as per my expectations. A final interesting occurance that I noticed in the primary distrubution of the false primes was that the highest prime factors, allong with the lowest prime factors, did not seem to follow any noticable patterns in terms of there distributions amoung the 20 false primes. One trend that was apparent, and expected, is that as the value of the false prime increases, both the number of factors and the magnitude of the factors tended to increase. A final trend that can be observed in the primary decomposition of the false primes is that no two numbers are repeated in the decomposition, which is a bit strange. Many odd numbers, such as 49, have a decomposition that involves doubles odd numbers, producing another odd number. This does not seem to occur here, atleast within this small sample size. Based off of these findings, it might be concluded that the seemingly random nature of these numbers, lacking apparent connectivity, it was makes them so unique and applicable to add aplications."
   ]
  },
  {
   "cell_type": "markdown",
   "metadata": {},
   "source": [
    "## Conclusion:"
   ]
  },
  {
   "cell_type": "markdown",
   "metadata": {},
   "source": [
    "The method through which we went about accomplishing the main objective of this project was quite efficient, both in terms of algorithm complexity and computation, given the restaints fundemental to the problem. In breaking down the overarching problem into a series of smaller problems, such as *isPrime*, *myprimes*, *primary*, and *isPrimeLike* made the problem much more approachable and visually less confusing, in addition to increasing operational efficiency. "
   ]
  },
  {
   "cell_type": "markdown",
   "metadata": {},
   "source": [
    "In terms of overall computational intensity, the the helper function *isPrimeLike* was among the most computationally expensive components of the solutions. Fortunatley, the way the solution was implemented decreased the overall number of calls for that function, decreasing the burden that function had on the run time. Specifically, this solution nested the if statements in *isPrimeLike* so that it was called on functions that met the other requirnments for being a false prime, in this case returning false for *isPrime*. A second thrick that was used to increase the overall efficiency of the *findFalsePrimes* solution function was to utilize the math function Pow() as opposed to using the remained function %. Due to the way both functions are designed, using Pow() multiple times is less computationally expensive than the alternative in this case. A final thing that was implemented to reduce the algorithms computational complexity was starting the integer search at *n = 562* as opposed to 2, as the instructions clearly specified that 561 was the first false prime. In doing so, we reduced unnecessary computations for numbers below 562, whose membership to the false prime number set was already established. "
   ]
  },
  {
   "cell_type": "markdown",
   "metadata": {},
   "source": [
    "In calculating the primary decomposition values for the first 20 false primes, we were able to get some insight into the patterns present within these sparsely populated numbers. Of the primary findings was that there was no obvious patterns connecting the false primes to eachother, besides the fact that they each satisfied the prime like requirements as detailed in the introduction. The uneven spacing between the calculated numbers was what emediatley alterted me to the oddities associated with this set. This is one potential reason that cryptographers are so reliant on said numbers. "
   ]
  },
  {
   "cell_type": "markdown",
   "metadata": {},
   "source": [
    "Of the major take aways from completing this fuction is that false primes are very sparsely populated amoung any calculated list of prime numbers using a less direct version of prime number detection. Given the extremely specific set of characteristics that a false prime needs to meet in order to actually be a false prime, it is not surprising how uncommon they actually are. This, unfortunately, ties into the fact that identifying false primes is extremely computationally expensive, as hinted at by the roughly 2:30 second run time assoiated with simpley returning the first 20 false primes on a standard number line. According to Carl Pomerance, it would cost as much as 10 million dollars to complete the required factorization to positively identify a 144 digit false prime in 1988 when the calculation was completed, and that cost scales 100 billion for a 200 digit number [1]. While it must be noted that those quoted numbers have decreased since the turn of the century, the cost is still in many cases prohibitive. This has had effects on the feilds of key-cryptography, which heavily utilizes false prime numbers."
   ]
  },
  {
   "cell_type": "code",
   "execution_count": null,
   "metadata": {},
   "outputs": [],
   "source": []
  }
 ],
 "metadata": {
  "kernelspec": {
   "display_name": "Python 3",
   "language": "python",
   "name": "python3"
  },
  "language_info": {
   "codemirror_mode": {
    "name": "ipython",
    "version": 3
   },
   "file_extension": ".py",
   "mimetype": "text/x-python",
   "name": "python",
   "nbconvert_exporter": "python",
   "pygments_lexer": "ipython3",
   "version": "3.7.4"
  }
 },
 "nbformat": 4,
 "nbformat_minor": 2
}
