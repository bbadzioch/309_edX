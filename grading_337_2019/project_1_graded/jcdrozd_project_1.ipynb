{
 "cells": [
  {
   "cell_type": "markdown",
   "metadata": {},
   "source": [
    "# $$Introduction$$"
   ]
  },
  {
   "cell_type": "markdown",
   "metadata": {},
   "source": [
    "In our mathematical number system we split up whole numbers greater than one into 2 categories, primes and non-primes. Prime numbers are any numbers that only have 2 divisors being that of one and itself. Some examples of prime numbers are 2,3,5,7,11,13 and many many more. Non-primes are kind of self explanatory. They are numbers that have more than 2 divisors whether it is 3, 7, or even 1000 doesnt matter they would all be non-primes\n",
    "\n",
    "**The goals of this project is to create a program in order to**\n",
    "1. Be able to create a program to find the first 20 primes\n",
    "2. Compute the primary decomposition of the primes\n",
    "3. What can you say about the propeties of false primes"
   ]
  },
  {
   "cell_type": "markdown",
   "metadata": {},
   "source": [
    "###  1. Creating a program to find the first 20 primes"
   ]
  },
  {
   "cell_type": "code",
   "execution_count": 131,
   "metadata": {},
   "outputs": [],
   "source": [
    "y=[]\n",
    "def twentyprimes(n):\n",
    "    #setting the value of prime\n",
    "    prime=True \n",
    "    #if the number is less than 2 we can get rid of it right away\n",
    "    if n<2:\n",
    "        prime=False\n",
    "    #cheching numbers greater than 2 if it is a prime    \n",
    "    for i in range(2,n):\n",
    "        if n%i==0:\n",
    "            prime=False\n",
    "            break\n",
    "        prime=True\n",
    "    #adding the prime to our list\n",
    "    if prime==True:\n",
    "        y.append(n)\n",
    "    #a system to stop the code when we reach a list of 20\n",
    "    if len(y)==20:\n",
    "        print(y)\n",
    "        \n",
    "        \n",
    "\n",
    "        "
   ]
  },
  {
   "cell_type": "code",
   "execution_count": 132,
   "metadata": {},
   "outputs": [
    {
     "name": "stdout",
     "output_type": "stream",
     "text": [
      "[2, 3, 5, 7, 11, 13, 17, 19, 23, 29, 31, 37, 41, 43, 47, 53, 59, 61, 67, 71]\n",
      "[2, 3, 5, 7, 11, 13, 17, 19, 23, 29, 31, 37, 41, 43, 47, 53, 59, 61, 67, 71]\n"
     ]
    }
   ],
   "source": [
    "for x in range(1,200):\n",
    "    twentyprimes(x)\n"
   ]
  },
  {
   "cell_type": "markdown",
   "metadata": {},
   "source": [
    "### 2. Computing the decomposition\n",
    "Because of the basis of what a prime is it is not possible for us to be able to create a primary decomposition of prime numbers. The basis of being a prime number is that you can not divide that said number by any number besides itself or zero. f you were able to divide it and do the primary decomposition that number would not be a prime."
   ]
  },
  {
   "cell_type": "markdown",
   "metadata": {},
   "source": [
    "### 3. Properties of false primes\n",
    "False primes are a very weird situation mathematics. You can figure out which number is a false primes by doing two tests on the number. The first is to test if the number is not a prime. This is very simply done by just seeing if there is a number that can divide it other than one and itself. The second is the fermat primality test. This test is to see and figure out if a number is prime-like. most of the time if it passes the number is a prime but there are very rare scenarios where it does not pass and we call these numbers a false prime. some of these numbers include 91, 121, 341, and 561.\n"
   ]
  },
  {
   "cell_type": "code",
   "execution_count": 66,
   "metadata": {},
   "outputs": [
    {
     "name": "stdout",
     "output_type": "stream",
     "text": [
      "9\n"
     ]
    }
   ],
   "source": []
  },
  {
   "cell_type": "code",
   "execution_count": null,
   "metadata": {},
   "outputs": [],
   "source": []
  }
 ],
 "metadata": {
  "kernelspec": {
   "display_name": "Python 3",
   "language": "python",
   "name": "python3"
  },
  "language_info": {
   "codemirror_mode": {
    "name": "ipython",
    "version": 3
   },
   "file_extension": ".py",
   "mimetype": "text/x-python",
   "name": "python",
   "nbconvert_exporter": "python",
   "pygments_lexer": "ipython3",
   "version": "3.7.4"
  }
 },
 "nbformat": 4,
 "nbformat_minor": 2
}
