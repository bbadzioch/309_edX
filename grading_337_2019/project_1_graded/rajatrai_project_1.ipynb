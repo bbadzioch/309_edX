{
 "cells": [
  {
   "cell_type": "markdown",
   "metadata": {},
   "source": [
    "## **Introduction** :"
   ]
  },
  {
   "cell_type": "markdown",
   "metadata": {},
   "source": [
    "### Prime numbers: "
   ]
  },
  {
   "cell_type": "markdown",
   "metadata": {},
   "source": [
    "Prime numbers are those numbers that cannot be perfectly divided (i.e. the remainder equals 0) by any other number other than 1 and itslef. For example, 7 is a prime number because no number other than 1 and 7 can divide it without leaving a remainder. "
   ]
  },
  {
   "cell_type": "markdown",
   "metadata": {},
   "source": [
    "### Congruency:"
   ]
  },
  {
   "cell_type": "markdown",
   "metadata": {},
   "source": [
    "Prime numbers have several properties that are unique when compared to other numbers. One of those properties is congruency. Congruency can be tested using the following equation:\n",
    "\n",
    "$$a^p\\equiv a(mod\\,p)$$ where, $\\{a \\in \\mathbb{N} : a < p$\\} and $p$ = the number we are testing for congruency.\n",
    "If the number satisfies the equation, it is said to be congruent.\n",
    "\n",
    "Eg. $$(3^4\\,mod\\, 3\\, =\\, 1)\\not \\equiv\\, (3\\, mod\\, 4\\, =\\, 3)\\\\\\Rightarrow 4\\, is\\, not\\, congruent.$$\n",
    "\n",
    "Similarly,\n",
    "    $$(3^5\\,mod\\, 5\\, =\\, 3) \\equiv\\, (3\\, mod\\, 5\\, =\\, 3)\\\\\\Rightarrow 5\\, is\\, congruent.$$\n",
    "    \n",
    "Since all primes are congruent, this property can be useful in determining if a number is prime or not."
   ]
  },
  {
   "cell_type": "markdown",
   "metadata": {},
   "source": [
    "### False primes:"
   ]
  },
  {
   "cell_type": "markdown",
   "metadata": {},
   "source": [
    "As mentioned earlier, all primes are congruent. However, there are numbers that pass the congruency test but are not necessarily prime. Such numbers are known as false-prime numbers. Therefore, false prime numbers are those numbers that are congruent but not prime i.e. perfectly divisible by numbers other than 1 or itself."
   ]
  },
  {
   "cell_type": "markdown",
   "metadata": {},
   "source": [
    "### Primary decomposition:"
   ]
  },
  {
   "cell_type": "markdown",
   "metadata": {},
   "source": [
    "All numbers can be broken down as multiples of other numbers. Eg:\n",
    "\n",
    "$$20 = 2 \\times 10, 5 \\times 4, 2 \\times 2 \\times 5, etc$$\n",
    "\n",
    "In the above example, the last way of breaking down 20 is an instance where primary decomposition is used. Primary decomposition is the method of writing numbers as multiples of the smallest prime numbers or prime factors. "
   ]
  },
  {
   "cell_type": "markdown",
   "metadata": {},
   "source": [
    "### Methodology:"
   ]
  },
  {
   "cell_type": "markdown",
   "metadata": {},
   "source": [
    "For this project, all the terms discussed above will be used to calculate the first 20 false prime numbers and return them in a list. Then they will be broken down through the method of prime factorization for further analysis. Some pattern or relation among false-primes is expected from doing so. This could be helpful in understanding more about false-primes. \n",
    "\n",
    "For a number to be a false-prime it needs to satisfy the following two criterias:\n",
    "\n",
    "* Not be prime\n",
    "* Pass the congruency test\n",
    "\n",
    "\n",
    "A function for each of the criteria above will be defined:\n",
    "\n",
    "* A function to check if a number is prime or not (**isprime(n)**)\n",
    "* A function to check if a number is congruent or not (**congruent(p)**)\n",
    "\n",
    "Since the results will be combined to determine if a number is false prim\n",
    "e or not, the functions will return a boolean value. \n",
    "\n",
    "Once both the functions are defined, another function **falseprime(n)** will be defined that checks if a number is a false-prime by combining the two tests. This function will also return a boolean since our goal is to create a list of the first 20 false-primes. So the conditions for false-primes should be checked for a range of numbers. \n",
    "\n",
    "After the above steps are completed, a function **falseprimeslist(n)** will be defined that will check for false primes in a range of numbers and return the required number of false-primes within that list. The function will then return a list of the false-primes found within that range. This function will be defined so that it finds the first 'n' numbers instead of the first 20 for more flexibility and will return a list instead of printing for the same purpose. \n",
    "\n",
    "A function named **primary(n)** will be defined which will return a list of the prime factors of the number n. The value returned by the function will later be used for the primary decomposition of the false-primes. \n",
    "\n",
    "Finally, a function **prime_decomposition(n)** will be used to return a list using **primary(n)** containing the primary decompositions of all the false primes obtained from **falseprimeslist(n)**. \n",
    "\n",
    "Throughout the project, Python's time function will be used to record the runtime for the functions defined"
   ]
  },
  {
   "cell_type": "code",
   "execution_count": 90,
   "metadata": {},
   "outputs": [],
   "source": [
    "import time ## imports the time function which will be used to calculate the runtimes of the functions in this project"
   ]
  },
  {
   "cell_type": "markdown",
   "metadata": {},
   "source": [
    "The function to check if a number is prime or not i.e. **isprime(n)**. This function returns False if the number entered is divisible by any of the numbers between 2 and the square root of the number including 2 and the square root; it returns True otherwise because if it is not divisible by any of the numbers, it would mean that the number is prime:"
   ]
  },
  {
   "cell_type": "code",
   "execution_count": 91,
   "metadata": {},
   "outputs": [],
   "source": [
    "def isprime(n): ##Checks if the number entered as the argument is prime or not and returns boolean value\n",
    "    prime=True\n",
    "    if n<2:\n",
    "        prime=False\n",
    "    for i in range(2,int(n**0.5)+1):\n",
    "        if n%i==0:\n",
    "            prime=False\n",
    "            break\n",
    "    return prime"
   ]
  },
  {
   "cell_type": "markdown",
   "metadata": {},
   "source": [
    "The function to check if a number is congruent or not (**congruent(p)**) is defined below. It uses the property of congruence. The **pow(i,p,p)** function is equivalent to $i^p \\equiv i\\,(mod\\,p)$. It returns true if both sides of the congruence equation are equal and False if they are not:"
   ]
  },
  {
   "cell_type": "code",
   "execution_count": 92,
   "metadata": {},
   "outputs": [],
   "source": [
    "def congruent(p): ##Checks if the number enetered as the argument passes the congruence test and returns boolean value\n",
    "    for i in range(2,p):\n",
    "        if not((pow(i,p,p))== i%p):\n",
    "            return False\n",
    "    return True"
   ]
  },
  {
   "cell_type": "markdown",
   "metadata": {},
   "source": [
    "The function **falseprimes(n)** that determines if a number n is false-prime using the boolean values returned from the two functions above is defined here. The function returns true if the number entered is not prime but congruent as this would mean that the number is a false-prime:"
   ]
  },
  {
   "cell_type": "code",
   "execution_count": 93,
   "metadata": {},
   "outputs": [],
   "source": [
    "def falseprime(n): ##Checks if the number enetered as the argument is a false prime: i.e. prime-like but not prime and returns boolean value\n",
    "    if ((not isprime(n))and congruent(n)):\n",
    "        return True\n",
    "    return False"
   ]
  },
  {
   "cell_type": "markdown",
   "metadata": {},
   "source": [
    "The function above will now be used to create a list of the first n number of false-primes in a certain range. The range will and should be changed according to the number of false-primes needed. The if-statement that checks if the list of items in the list is equal to the required number should make the runtime faster as it skips checking if the next number is a false-prime if its not necessary:"
   ]
  },
  {
   "cell_type": "code",
   "execution_count": 94,
   "metadata": {},
   "outputs": [],
   "source": [
    "def falseprimeslist(n): ##Creates and returns a list of the first n false prime numbers\n",
    "    list1 = []\n",
    "    for i in range(2,1000000000):##Upper limit of range should be changed depeding on number of false primes needed\n",
    "        if(len(list1)== n):\n",
    "            break\n",
    "        elif ((not isprime(i))and congruent(i)):\n",
    "            list1.append(i)\n",
    "    return list1       "
   ]
  },
  {
   "cell_type": "code",
   "execution_count": 100,
   "metadata": {},
   "outputs": [
    {
     "name": "stdout",
     "output_type": "stream",
     "text": [
      "[561, 1105, 1729, 2465, 2821, 6601, 8911, 10585, 15841, 29341, 41041, 46657, 52633, 62745, 63973, 75361, 101101, 115921, 126217, 162401]\n",
      "2.484252691268921\n"
     ]
    }
   ],
   "source": [
    "t0 = time.time()\n",
    "print(falseprimeslist(20)) ##Prints a list of the first 20 primes\n",
    "t1 = time.time()\n",
    "print(t1-t0)"
   ]
  },
  {
   "cell_type": "markdown",
   "metadata": {},
   "source": [
    "The **primary(n)** function defined below returns a list containing the primary decompositions i.e. prime factors of the number n. It checks if the entered number is divisible by all prime numbers upto and including the entered number and if it is, checks the same for the quotient of the division. This continues in a loop until the value of the number being checked changes to 1. Since 1 is not a prime number, the loop stops and the function returns the list of all the primary decompositions:"
   ]
  },
  {
   "cell_type": "code",
   "execution_count": 101,
   "metadata": {},
   "outputs": [],
   "source": [
    "def primary(n): ##Returns a list containing the prime numbers in the primary decomposition of the argument n\n",
    "    list2=[]\n",
    "    for i in range(n+1):\n",
    "        while isprime(i)and (n % i == 0):\n",
    "            list2.append(i)\n",
    "            n = n/i\n",
    "    return list2          "
   ]
  },
  {
   "cell_type": "markdown",
   "metadata": {},
   "source": [
    "The **prime_decomposition(n)** function returns the list containing lists with primary decompositions of the first n false-primes. This function takes all the false-primes returned by the **falseprimeslist(n)** function above and then calls the **primary(n)** function for the all the numbers in the list one-by-one. It then adds the numbers in the lists returned to another list. This gives a separate list of primary decompositions for each of the false-primes."
   ]
  },
  {
   "cell_type": "code",
   "execution_count": 102,
   "metadata": {},
   "outputs": [],
   "source": [
    "def prime_decomposition(n): ##Returns a list containing the primary decompositions of the first n false-primes\n",
    "    prime_list = []\n",
    "    for i in falseprimeslist(n):\n",
    "        list_temp = []\n",
    "        for j in primary(i):\n",
    "            list_temp.append(j)\n",
    "        prime_list.append(list_temp)\n",
    "    return prime_list"
   ]
  },
  {
   "cell_type": "code",
   "execution_count": 103,
   "metadata": {},
   "outputs": [
    {
     "name": "stdout",
     "output_type": "stream",
     "text": [
      "[[3, 11, 17], [5, 13, 17], [7, 13, 19], [5, 17, 29], [7, 13, 31], [7, 23, 41], [7, 19, 67], [5, 29, 73], [7, 31, 73], [13, 37, 61], [7, 11, 13, 41], [13, 37, 97], [7, 73, 103], [3, 5, 47, 89], [7, 13, 19, 37], [11, 13, 17, 31], [7, 11, 13, 101], [13, 37, 241], [7, 13, 19, 73], [17, 41, 233]]\n",
      "4.896464109420776\n"
     ]
    }
   ],
   "source": [
    "t0 = time.time()\n",
    "print(prime_decomposition(20)) ##Prints a list containing primary decompositions of the first 20 prime numbers\n",
    "t1 = time.time()\n",
    "print(t1-t0)"
   ]
  },
  {
   "cell_type": "markdown",
   "metadata": {},
   "source": [
    "## Conclusions:"
   ]
  },
  {
   "cell_type": "markdown",
   "metadata": {},
   "source": [
    "The following observations were made about false-primes:\n",
    "\n",
    "* There are infinitely many false-primes. However, they seem to be very rare and they get more rare as they increase.\n",
    "\n",
    "* None of the prime factors in their primary decompositions seem to be repeated. Each of the prime factors of the first 20 false-primes are unique. \n",
    "\n",
    "* The primary decomposition of the first 20 false-primes returned no more than 4 prime numbers. \n",
    "\n"
   ]
  }
 ],
 "metadata": {
  "kernelspec": {
   "display_name": "Python 3",
   "language": "python",
   "name": "python3"
  },
  "language_info": {
   "codemirror_mode": {
    "name": "ipython",
    "version": 3
   },
   "file_extension": ".py",
   "mimetype": "text/x-python",
   "name": "python",
   "nbconvert_exporter": "python",
   "pygments_lexer": "ipython3",
   "version": "3.7.3"
  }
 },
 "nbformat": 4,
 "nbformat_minor": 2
}
