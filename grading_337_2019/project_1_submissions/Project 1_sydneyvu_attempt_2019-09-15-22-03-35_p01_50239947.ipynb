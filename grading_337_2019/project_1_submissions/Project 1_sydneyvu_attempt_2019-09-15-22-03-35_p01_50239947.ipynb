{
 "cells": [
  {
   "cell_type": "markdown",
   "metadata": {},
   "source": [
    "# Project 1: A Prime or Not a Prime\n",
    "## By: Sydney Vullo\n",
    "## Person Number: 50239947"
   ]
  },
  {
   "cell_type": "markdown",
   "metadata": {},
   "source": [
    "## Introduction\n",
    "A prime number is an integer that is only divisible by one and itself. Prime numbers are greater than one. All prime numbers, with the except for 2, are odd numbers. \n",
    "Here is a list of the first 10 prime numbers:\n",
    "$$2,3,5,7,11,13,17,19,23,29$$\n",
    "\n",
    "Prime numbers can be used for many different things. In computer science, prime numbers are commonly used for cybersecurity. This is because, in simple terms, it is very easy for a computer to multiply prime numbers, but more difficult to do the opposite. Because of this prime numbers are used for encryption algorithms, passwords, and security numbers."
   ]
  },
  {
   "cell_type": "markdown",
   "metadata": {},
   "source": [
    "All numbers can be expressed by using only prime numbers. One can express any number by using a *primary decomposition*.\n",
    "\n",
    "A **primary decomposition** is a way to express any integer greater than one with only prime numbers. A primary decomposition is expressed by multiplying prime numbers.\n",
    "\n",
    "An integer, n>1, can be written as a primary decomposition:\n",
    "$$n=p_1\\cdot\\,p_2\\cdot\\,p_3\\cdot\\,\\ldots\\cdot\\,p_m$$ where $$p_1<p_2<p_3<\\ldots<p_m$$"
   ]
  },
  {
   "cell_type": "markdown",
   "metadata": {},
   "source": [
    "For example, the primary decomposition of the number 100 is shown below:\n",
    "$$100=2\\cdot\\,2\\cdot\\,5\\cdot\\,5$$"
   ]
  },
  {
   "cell_type": "markdown",
   "metadata": {},
   "source": [
    "Some integers my carry some of the same characteristics as prime numbers, these are referred to as **false primes**. \n",
    "One theorem proves correlates prime numbers and congruences:\n",
    "$$a^p\\equiv\\,a(mod\\,p)$$ for any integer where: $$p>a\\geq\\,0$$\n",
    "For example, for $p=5$:\n",
    "$$1^5=1\\equiv\\,1(mod\\,5)$$\n",
    "$$2^5=32\\equiv\\,2(mod\\,5)$$\n",
    "$$3^5=243\\equiv\\,3(mod\\,5)$$\n",
    "This property is also true in numbers that are false primes."
   ]
  },
  {
   "cell_type": "markdown",
   "metadata": {},
   "source": [
    "### Project Goals\n",
    "\n",
    "In this project we plan to create a code that can detect these false prime numbers. This can be accomplished by first creating a code to detect whether or not a number is prime. Then, we can create a code that is able to determine whether numbers are \"prime like.\" This code would not only return prime numbers but false primes as well. We can then combine both codes to create a list of numbers that are prime like, but *not* prime, then we will have a list of false primes.  \n",
    "\n",
    "In this project, we hope to:\n",
    "* Write a code that prints the first 20 false primes\n",
    "* Compute the primary decomposition of each of the found false primes\n",
    "* Determine some of the characteristics of false primes"
   ]
  },
  {
   "cell_type": "markdown",
   "metadata": {},
   "source": [
    "## Part 1: Write a Python script to find the first 20 false primes"
   ]
  },
  {
   "cell_type": "code",
   "execution_count": 1,
   "metadata": {},
   "outputs": [],
   "source": [
    "def isprime(n):\n",
    "    '''isprime determines whether a number is prime or not'''\n",
    "    prime=True\n",
    "    if n<2:\n",
    "        prime=False\n",
    "    for i in range(2,int(n**0.5)+1): # range from 2 to n**.5\n",
    "        if n%i==0:\n",
    "            prime=False\n",
    "            break\n",
    "    return prime"
   ]
  },
  {
   "cell_type": "markdown",
   "metadata": {},
   "source": [
    "The function `isprime(n)` can be used to determine whether an integer is prime or not. A number is prime when it is only divisible by itself and one. The function `isprime(n)` checks every number from 2 to the integer $\\sqrt{n}\\,$ to see if there are any integers that are multiples of n. If there are more factors than 1 and n, the function returns `False`."
   ]
  },
  {
   "cell_type": "markdown",
   "metadata": {},
   "source": [
    "We are able to limit our function to $\\sqrt{n}$. This is because if n is not prime, it will have at least one factor that is smaller than $\\sqrt{n}$.\n",
    "\n",
    "For example, we can determine whether or not the number 27 is prime:"
   ]
  },
  {
   "cell_type": "code",
   "execution_count": 2,
   "metadata": {},
   "outputs": [
    {
     "data": {
      "text/plain": [
       "False"
      ]
     },
     "execution_count": 2,
     "metadata": {},
     "output_type": "execute_result"
    }
   ],
   "source": [
    "isprime(27)"
   ]
  },
  {
   "cell_type": "code",
   "execution_count": 3,
   "metadata": {},
   "outputs": [],
   "source": [
    "def myprimes(n):\n",
    "    '''myprimes creates a list of prime numbers less than or equal to n'''\n",
    "    numlist=[]\n",
    "    for x in range(n+1): \n",
    "        if isprime(x):\n",
    "            numlist.append(x) # add to list if number is prime\n",
    "    return numlist"
   ]
  },
  {
   "cell_type": "markdown",
   "metadata": {},
   "source": [
    "The function `myprimes(n)` uses the output created by the function `isprime(n)` to create a list of all prime numbers less than or equal to n.\n",
    "For example, when we set $n=26$:"
   ]
  },
  {
   "cell_type": "code",
   "execution_count": 4,
   "metadata": {},
   "outputs": [
    {
     "data": {
      "text/plain": [
       "[2, 3, 5, 7, 11, 13, 17, 19, 23]"
      ]
     },
     "execution_count": 4,
     "metadata": {},
     "output_type": "execute_result"
    }
   ],
   "source": [
    "myprimes(26)"
   ]
  },
  {
   "cell_type": "code",
   "execution_count": 5,
   "metadata": {},
   "outputs": [],
   "source": [
    "def isprimelike(n):\n",
    "    '''isprimelike determines whether a number is primelike'''\n",
    "    for a in range(n):\n",
    "        if not pow(a,n,n)==a%n: \n",
    "            return False\n",
    "    return True"
   ]
  },
  {
   "cell_type": "code",
   "execution_count": 6,
   "metadata": {},
   "outputs": [],
   "source": [
    "def falseprimes(n):\n",
    "    falselist=[]\n",
    "    for w in range(2,n+1):\n",
    "        if isprimelike(w) and (not isprime(w)): #if w is prime like but not prime\n",
    "            falselist.append(w) # add w to list\n",
    "        if len(falselist)>19: # stop after list reaches 20 numbers\n",
    "            break\n",
    "    return falselist"
   ]
  },
  {
   "cell_type": "markdown",
   "metadata": {},
   "source": [
    "The function `falseprimes(n)` can be used to find the first 20 false primes. It uses the functions `isprimelike(n)` and `isprime(n)` in order to determine whether or not an integer is a false prime. The function `isprimelike(n)` is used to find integers that have the congruence relation found in all prime numbers. The function `isprime(n)` is used to determine whether or not an integer is prime. We can use **not** to find integers that are *not* prime. By using these functions together, we can find all integers that have the qualities of prime numbers, but are *not* prime numbers.\n",
    "\n",
    "The first 20 false primes are shown below:"
   ]
  },
  {
   "cell_type": "code",
   "execution_count": 7,
   "metadata": {},
   "outputs": [
    {
     "data": {
      "text/plain": [
       "[561,\n",
       " 1105,\n",
       " 1729,\n",
       " 2465,\n",
       " 2821,\n",
       " 6601,\n",
       " 8911,\n",
       " 10585,\n",
       " 15841,\n",
       " 29341,\n",
       " 41041,\n",
       " 46657,\n",
       " 52633,\n",
       " 62745,\n",
       " 63973,\n",
       " 75361,\n",
       " 101101,\n",
       " 115921,\n",
       " 126217,\n",
       " 162401]"
      ]
     },
     "execution_count": 7,
     "metadata": {},
     "output_type": "execute_result"
    }
   ],
   "source": [
    "falseprimes(165000)"
   ]
  },
  {
   "cell_type": "markdown",
   "metadata": {},
   "source": [
    "## Part 2: Compute the primary decomposition of each false prime you found"
   ]
  },
  {
   "cell_type": "code",
   "execution_count": 8,
   "metadata": {},
   "outputs": [],
   "source": [
    "def primary(n):\n",
    "    '''primary prints a list of the integers that make up the primary decomposition of n'''\n",
    "    diviser=[]\n",
    "    for w in myprimes(n):\n",
    "        while n%w==0: #if w is a factor of n\n",
    "            diviser.append(w) # add w to list\n",
    "            n=n/w # divide n by w to get down to a primary number\n",
    "        if n==1: # stop once n is equal to 1\n",
    "            break\n",
    "    print(diviser)"
   ]
  },
  {
   "cell_type": "markdown",
   "metadata": {},
   "source": [
    "The function `primary(n)` is used to return a list of an integers primary decomposition. For prime numbers, such as 3, the function will only return the prime number itself."
   ]
  },
  {
   "cell_type": "code",
   "execution_count": 9,
   "metadata": {
    "scrolled": true
   },
   "outputs": [
    {
     "name": "stdout",
     "output_type": "stream",
     "text": [
      "[3]\n"
     ]
    }
   ],
   "source": [
    "primary(3)"
   ]
  },
  {
   "cell_type": "markdown",
   "metadata": {},
   "source": [
    "We can use the function `primary(n)` to find the primary decomposition of each of our previously found false primes."
   ]
  },
  {
   "cell_type": "code",
   "execution_count": 11,
   "metadata": {},
   "outputs": [
    {
     "name": "stdout",
     "output_type": "stream",
     "text": [
      "[3, 11, 17]\n"
     ]
    }
   ],
   "source": [
    "primary(561)"
   ]
  },
  {
   "cell_type": "code",
   "execution_count": 12,
   "metadata": {},
   "outputs": [
    {
     "name": "stdout",
     "output_type": "stream",
     "text": [
      "[5, 13, 17]\n"
     ]
    }
   ],
   "source": [
    "primary(1105)"
   ]
  },
  {
   "cell_type": "code",
   "execution_count": 13,
   "metadata": {},
   "outputs": [
    {
     "name": "stdout",
     "output_type": "stream",
     "text": [
      "[7, 13, 19]\n"
     ]
    }
   ],
   "source": [
    "primary(1729)"
   ]
  },
  {
   "cell_type": "code",
   "execution_count": 14,
   "metadata": {},
   "outputs": [
    {
     "name": "stdout",
     "output_type": "stream",
     "text": [
      "[5, 17, 29]\n"
     ]
    }
   ],
   "source": [
    "primary(2465)"
   ]
  },
  {
   "cell_type": "code",
   "execution_count": 15,
   "metadata": {},
   "outputs": [
    {
     "name": "stdout",
     "output_type": "stream",
     "text": [
      "[7, 13, 31]\n"
     ]
    }
   ],
   "source": [
    "primary(2821)"
   ]
  },
  {
   "cell_type": "code",
   "execution_count": 16,
   "metadata": {},
   "outputs": [
    {
     "name": "stdout",
     "output_type": "stream",
     "text": [
      "[7, 23, 41]\n"
     ]
    }
   ],
   "source": [
    "primary(6601)"
   ]
  },
  {
   "cell_type": "code",
   "execution_count": 17,
   "metadata": {},
   "outputs": [
    {
     "name": "stdout",
     "output_type": "stream",
     "text": [
      "[7, 19, 67]\n"
     ]
    }
   ],
   "source": [
    "primary(8911)"
   ]
  },
  {
   "cell_type": "code",
   "execution_count": 18,
   "metadata": {},
   "outputs": [
    {
     "name": "stdout",
     "output_type": "stream",
     "text": [
      "[5, 29, 73]\n"
     ]
    }
   ],
   "source": [
    "primary(10585)"
   ]
  },
  {
   "cell_type": "code",
   "execution_count": 19,
   "metadata": {},
   "outputs": [
    {
     "name": "stdout",
     "output_type": "stream",
     "text": [
      "[7, 31, 73]\n"
     ]
    }
   ],
   "source": [
    "primary(15841)"
   ]
  },
  {
   "cell_type": "code",
   "execution_count": 20,
   "metadata": {},
   "outputs": [
    {
     "name": "stdout",
     "output_type": "stream",
     "text": [
      "[13, 37, 61]\n"
     ]
    }
   ],
   "source": [
    "primary(29341)"
   ]
  },
  {
   "cell_type": "code",
   "execution_count": 22,
   "metadata": {},
   "outputs": [
    {
     "name": "stdout",
     "output_type": "stream",
     "text": [
      "[7, 11, 13, 41]\n"
     ]
    }
   ],
   "source": [
    "primary(41041)"
   ]
  },
  {
   "cell_type": "code",
   "execution_count": 23,
   "metadata": {},
   "outputs": [
    {
     "name": "stdout",
     "output_type": "stream",
     "text": [
      "[13, 37, 97]\n"
     ]
    }
   ],
   "source": [
    "primary(46657)"
   ]
  },
  {
   "cell_type": "code",
   "execution_count": 24,
   "metadata": {},
   "outputs": [
    {
     "name": "stdout",
     "output_type": "stream",
     "text": [
      "[7, 73, 103]\n"
     ]
    }
   ],
   "source": [
    "primary(52633)"
   ]
  },
  {
   "cell_type": "code",
   "execution_count": 27,
   "metadata": {},
   "outputs": [
    {
     "name": "stdout",
     "output_type": "stream",
     "text": [
      "[3, 5, 47, 89]\n"
     ]
    }
   ],
   "source": [
    "primary(62745)"
   ]
  },
  {
   "cell_type": "code",
   "execution_count": 28,
   "metadata": {},
   "outputs": [
    {
     "name": "stdout",
     "output_type": "stream",
     "text": [
      "[7, 13, 19, 37]\n"
     ]
    }
   ],
   "source": [
    "primary(63973)"
   ]
  },
  {
   "cell_type": "code",
   "execution_count": 29,
   "metadata": {},
   "outputs": [
    {
     "name": "stdout",
     "output_type": "stream",
     "text": [
      "[11, 13, 17, 31]\n"
     ]
    }
   ],
   "source": [
    "primary(75361)"
   ]
  },
  {
   "cell_type": "code",
   "execution_count": 30,
   "metadata": {},
   "outputs": [
    {
     "name": "stdout",
     "output_type": "stream",
     "text": [
      "[7, 11, 13, 101]\n"
     ]
    }
   ],
   "source": [
    "primary(101101)"
   ]
  },
  {
   "cell_type": "code",
   "execution_count": 31,
   "metadata": {},
   "outputs": [
    {
     "name": "stdout",
     "output_type": "stream",
     "text": [
      "[13, 37, 241]\n"
     ]
    }
   ],
   "source": [
    "primary(115921)"
   ]
  },
  {
   "cell_type": "code",
   "execution_count": 32,
   "metadata": {},
   "outputs": [
    {
     "name": "stdout",
     "output_type": "stream",
     "text": [
      "[7, 13, 19, 73]\n"
     ]
    }
   ],
   "source": [
    "primary(126217)"
   ]
  },
  {
   "cell_type": "code",
   "execution_count": 33,
   "metadata": {},
   "outputs": [
    {
     "name": "stdout",
     "output_type": "stream",
     "text": [
      "[17, 41, 233]\n"
     ]
    }
   ],
   "source": [
    "primary(162401)"
   ]
  },
  {
   "cell_type": "markdown",
   "metadata": {},
   "source": [
    "## Part 3: What can you say or conclude about the properties of false primes"
   ]
  },
  {
   "cell_type": "markdown",
   "metadata": {},
   "source": [
    "A list of each prime number used in the primary decompositions is shown below:\n",
    "$$3,5,7,11,13,17,19,23,29,31,37,41,47,61,67,73,89,97,101,103,233,241$$\n",
    "\n",
    "One of the first things I determined was that the most common false primes were 7 and 13. Both 7 and 13 were found in half (10/20) of the false primes that were observed. In 5 of these cases, they were in the same primary decomposition. \n",
    "\n",
    "I also realized that ten of the primary numbers found in the decompositions were unique. They were only found in their decomposition. These primaries are listed below:\n",
    "$$23,47,61,67,89,97,101,103,233,241$$\n",
    "\n",
    "I am assuming that as the list goes on, these numbers would be used more than once. But, this can only be proven by continuing the list. Every prime number up to 43 has been used at least once within the first 20 false prime decompositions. It can be predicted that as the list continues, the unused prime numbers, such as 43 and 53, will show up in a decomposition. \n",
    "\n",
    "As the prime numbers get larger, they show up less in the decompositions. New primes are also increasing at an exponential rate, hense the jump from 103 to 233. As the list gets longer, the prime numbers increase in value."
   ]
  },
  {
   "cell_type": "markdown",
   "metadata": {},
   "source": [
    "## Conclusion"
   ]
  },
  {
   "cell_type": "markdown",
   "metadata": {},
   "source": [
    "In this project, we used our knowledge of prime numbers to create a list of false primes. We created a function that found numbers that were prime like but were *not* prime. This function allowed us to create a list of the first 20 false primes and then find their primary decompositions. A numbers primary decomposition is the most basic makeup of that number and can be used to analyze the number more in-depth.\n",
    "\n",
    "In order to make more accurate assumptions, we would need to continue our list further. But, based on what we found, it can be predicted that as the list goes on, every prime number will be used in at least one primary decomposition. As the prime numbers get larger, numbers other than 7 and 13 will become more prominent.\n",
    "More observations are listed below:\n",
    "\n",
    "* 7 and 13 were in 50% of the primary decompositions we found\n",
    "* 7 and 13 were in the same decomposition 25% of the time\n",
    "* Ten of the primary numbers found were unique, and not found in more than one of the found decompositions\n",
    "* Each primary number, up until 43, was used at least once\n",
    "* Smaller prime numbers were found to be used in more than one decomposition\n",
    "* Larger prime numbers were more likely to only be found in one decomposition"
   ]
  }
 ],
 "metadata": {
  "kernelspec": {
   "display_name": "Python 3",
   "language": "python",
   "name": "python3"
  },
  "language_info": {
   "codemirror_mode": {
    "name": "ipython",
    "version": 3
   },
   "file_extension": ".py",
   "mimetype": "text/x-python",
   "name": "python",
   "nbconvert_exporter": "python",
   "pygments_lexer": "ipython3",
   "version": "3.6.5"
  }
 },
 "nbformat": 4,
 "nbformat_minor": 2
}
