{
 "cells": [
  {
   "cell_type": "markdown",
   "metadata": {},
   "source": [
    "# A Prime or Not a Prime\n",
    "\n",
    "\n",
    "\n",
    "# Introduction\n",
    "\n",
    "The following code was written to find a list of numbers that $\\geq2$ that are considered false primes. A false prime resembles a prime number in the sense that $a^{p}\\equiv a(mod p)$ for all integers $0 \\leq a < p$. This trait is something that all prime numbers have and since there are also some non prime numbers that have this trait they receive the title as a \"false prime\". Of course these numbers are not prime and they have more than just 1 and itself as divisors. So, the following code finds the first 20 false prime numbers and the decomposes those numbers into the prime factors that derive them, printing those results."
   ]
  },
  {
   "cell_type": "markdown",
   "metadata": {},
   "source": [
    "## The following 6 cells of code define functions to help find decompose the false primes"
   ]
  },
  {
   "cell_type": "markdown",
   "metadata": {},
   "source": [
    "### The function `isprimelike` checks to see if a given number p is prime like:"
   ]
  },
  {
   "cell_type": "code",
   "execution_count": 1,
   "metadata": {},
   "outputs": [],
   "source": [
    "def isprimelike(p):\n",
    "    if p >=2:\n",
    "        #checks to see if p has the prime number trait for all a\n",
    "        for a in range(p):\n",
    "            if pow(a,p,p) != a%p:\n",
    "                return False \n",
    "    return True"
   ]
  },
  {
   "cell_type": "markdown",
   "metadata": {},
   "source": [
    "### The function `isprime` checks to see if a given number n is prime:"
   ]
  },
  {
   "cell_type": "code",
   "execution_count": 2,
   "metadata": {},
   "outputs": [],
   "source": [
    "def isprime(n):\n",
    "    prime=True\n",
    "    if n<2:\n",
    "        return False\n",
    "    #checks the necessary numbers to determine if n is prime\n",
    "    for i in range(2,int(n**.5)+1):\n",
    "        if n%i==0:\n",
    "            prime=False\n",
    "            break #if not prime no need to continue checking\n",
    "            \n",
    "    return prime"
   ]
  },
  {
   "cell_type": "markdown",
   "metadata": {},
   "source": [
    "### The function `firsttwentyfalseprimes` checks numbers starting at 2 until it has a list of 20 false prime numbers:"
   ]
  },
  {
   "cell_type": "code",
   "execution_count": 4,
   "metadata": {},
   "outputs": [],
   "source": [
    "def firsttwentyfalseprimes():\n",
    "    falseprimes=[] #list of false primes found\n",
    "    numbertocheck = 2\n",
    "    #loop that continues until 20 false primes are found\n",
    "    while len(falseprimes) < 20:\n",
    "        #calls functions to check the conditions for false prime numbers\n",
    "        if isprime(numbertocheck) == False:\n",
    "            if isprimelike(numbertocheck) == True:\n",
    "                falseprimes.append(numbertocheck)\n",
    "        numbertocheck+=1\n",
    "    return falseprimes"
   ]
  },
  {
   "cell_type": "markdown",
   "metadata": {},
   "source": [
    "### The function `findprimes` finds all the prime numbers up to a given value:"
   ]
  },
  {
   "cell_type": "code",
   "execution_count": 5,
   "metadata": {},
   "outputs": [],
   "source": [
    "def findprimes(n):\n",
    "    primes=[] #list that stores the primes found\n",
    "    #cycles throught the numbers in the given range to check if theyre prime\n",
    "    for w in range(2,n+1):\n",
    "        if isprime(w):\n",
    "            primes.append(w)\n",
    "            \n",
    "    return primes\n",
    "    "
   ]
  },
  {
   "cell_type": "markdown",
   "metadata": {},
   "source": [
    "### The function `primary` finds the primary decompostion of the given number using the given list of prime numbers:"
   ]
  },
  {
   "cell_type": "code",
   "execution_count": 6,
   "metadata": {},
   "outputs": [],
   "source": [
    "def primary(n,primeslist):\n",
    "    decomposition=[] #list to hold the factors found to decompose \n",
    "    plist= primeslist\n",
    "    #checks if the current number in the list is a factor of n\n",
    "    for k in plist:\n",
    "        :#checks if the same number factors twice\n",
    "        while n%k==0:#checks if the same number factors twice\n",
    "            decomposition.append(k)\n",
    "            n=n/k\n",
    "        #ends loop when final factor is found\n",
    "        if n==1:\n",
    "            break\n",
    "    return decomposition"
   ]
  },
  {
   "cell_type": "markdown",
   "metadata": {},
   "source": [
    "### The function `decomposefalseprimes` takes the list of false primes found, decomposes each number and prints out the decompostion"
   ]
  },
  {
   "cell_type": "code",
   "execution_count": 15,
   "metadata": {},
   "outputs": [],
   "source": [
    "def decomposefalseprimes(falseprimes):\n",
    "    #decomposes every number in the given list\n",
    "    for w in range(len(falseprimes)):\n",
    "        primes = findprimes(falseprimes[w])\n",
    "        print(\"\\ndecomposition for \" + f'{falseprimes[w]}' + \" is:  \" + f'{primary(falseprimes[w],primes)}')  "
   ]
  },
  {
   "cell_type": "markdown",
   "metadata": {},
   "source": [
    "## Execution of functions to determine false primes and their decomposition\n",
    "\n",
    "The following cell of code gets the list of false primes and prints them using the functions previously defined above."
   ]
  },
  {
   "cell_type": "code",
   "execution_count": 12,
   "metadata": {
    "scrolled": true
   },
   "outputs": [
    {
     "name": "stdout",
     "output_type": "stream",
     "text": [
      "561\n",
      "1105\n",
      "1729\n",
      "2465\n",
      "2821\n",
      "6601\n",
      "8911\n",
      "10585\n",
      "15841\n",
      "29341\n",
      "41041\n",
      "46657\n",
      "52633\n",
      "62745\n",
      "63973\n",
      "75361\n",
      "101101\n",
      "115921\n",
      "126217\n",
      "162401\n"
     ]
    }
   ],
   "source": [
    "falseprimes = firsttwentyfalseprimes()\n",
    "for w in range(len(falseprimes)):\n",
    "    print(falseprimes[w])"
   ]
  },
  {
   "cell_type": "markdown",
   "metadata": {},
   "source": [
    "This next cell of code calls the function to decompose each of the false prime numbers printed above to show that the numbers found to satisfy $a^{p}\\equiv a(mod p)$ for all integers $0 \\leq a < p$ have the same trait as prime numbers yet they are clearly not prime."
   ]
  },
  {
   "cell_type": "code",
   "execution_count": 39,
   "metadata": {},
   "outputs": [
    {
     "name": "stdout",
     "output_type": "stream",
     "text": [
      "\n",
      "decomposition for 561 is:  [3, 11, 17]\n",
      "\n",
      "decomposition for 1105 is:  [5, 13, 17]\n",
      "\n",
      "decomposition for 1729 is:  [7, 13, 19]\n",
      "\n",
      "decomposition for 2465 is:  [5, 17, 29]\n",
      "\n",
      "decomposition for 2821 is:  [7, 13, 31]\n",
      "\n",
      "decomposition for 6601 is:  [7, 23, 41]\n",
      "\n",
      "decomposition for 8911 is:  [7, 19, 67]\n",
      "\n",
      "decomposition for 10585 is:  [5, 29, 73]\n",
      "\n",
      "decomposition for 15841 is:  [7, 31, 73]\n",
      "\n",
      "decomposition for 29341 is:  [13, 37, 61]\n",
      "\n",
      "decomposition for 41041 is:  [7, 11, 13, 41]\n",
      "\n",
      "decomposition for 46657 is:  [13, 37, 97]\n",
      "\n",
      "decomposition for 52633 is:  [7, 73, 103]\n",
      "\n",
      "decomposition for 62745 is:  [3, 5, 47, 89]\n",
      "\n",
      "decomposition for 63973 is:  [7, 13, 19, 37]\n",
      "\n",
      "decomposition for 75361 is:  [11, 13, 17, 31]\n",
      "\n",
      "decomposition for 101101 is:  [7, 11, 13, 101]\n",
      "\n",
      "decomposition for 115921 is:  [13, 37, 241]\n",
      "\n",
      "decomposition for 126217 is:  [7, 13, 19, 73]\n",
      "\n",
      "decomposition for 162401 is:  [17, 41, 233]\n"
     ]
    }
   ],
   "source": [
    "decomposefalseprimes(falseprimes)"
   ]
  },
  {
   "cell_type": "markdown",
   "metadata": {},
   "source": [
    "# Conclusion"
   ]
  },
  {
   "cell_type": "markdown",
   "metadata": {},
   "source": [
    "After running my code and analyzing the output it appears that false prime numbers do not occur as frequently compared to the rate at which prime numbers occur. The first appeared at 541 and the twentieth didn't occur until 162,401. Looking at the list of false primes I see that they are always an odd number and coincidentally or not the final digit is 1 far more often than any other number. It is also interesting that all false primes observed can be decomposed into sets of real prime numbers. These sets are usually only composed of 3 elements but as the false primes become larger their decomposition set does appear to become larger. Also it appears that the majority of false primes first divisor is 7, which is interesting given that 3 and 5 are smaller and would seem more likely to be the first divisor."
   ]
  }
 ],
 "metadata": {
  "kernelspec": {
   "display_name": "Python 3",
   "language": "python",
   "name": "python3"
  },
  "language_info": {
   "codemirror_mode": {
    "name": "ipython",
    "version": 3
   },
   "file_extension": ".py",
   "mimetype": "text/x-python",
   "name": "python",
   "nbconvert_exporter": "python",
   "pygments_lexer": "ipython3",
   "version": "3.7.3"
  }
 },
 "nbformat": 4,
 "nbformat_minor": 2
}
