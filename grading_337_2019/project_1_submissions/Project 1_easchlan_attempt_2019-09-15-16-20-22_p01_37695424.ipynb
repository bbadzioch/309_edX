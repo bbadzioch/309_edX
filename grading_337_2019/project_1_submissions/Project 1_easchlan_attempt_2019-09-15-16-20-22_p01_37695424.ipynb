{
 "cells": [
  {
   "cell_type": "markdown",
   "metadata": {},
   "source": [
    "# A Prime or Not a Prime\n",
    "### By Elizabeth Schlant (37695424)"
   ]
  },
  {
   "cell_type": "markdown",
   "metadata": {},
   "source": [
    "## **Section 1: Introduction**"
   ]
  },
  {
   "cell_type": "markdown",
   "metadata": {},
   "source": [
    "A theorem has been proposed that attempts to describe prime numbers through a modulus equivalency (referred to in this report as *Prime Modulus Theorem*). This theorem is described below. It appears, however, that this theorem does not always give an accurate result when used to determine all prime numbers. There are purpoted to be some numbers which satisfy the *Prime Modulus Theorem* but which are not truly prime numbers. This set of numbers will be called 'false primes,' as the *Prime Modulus Theorem* wrongly reports them to be prime. \n",
    "\n",
    "**Theorem:** \n",
    "If the remainder of $\\frac{a^p}{p}$ is equal to the remainder of $\\frac{a}{p}$, for all numbers $0<a<p$, then $p$ is prime.\n",
    "$$\\frac {a^p}{p}=\\frac{a}{p} \\quad (mod p) $$ \n",
    "\n",
    "In this report, the *Prime Modulus Theorem* and its exceptions will be investigated. Specifically, the results of this report detail the primary decomposition of the first twenty false primes.  The primary decomposition of a number, n, is a set of prime factors of $n$ which multiply to equal $n$. For example, the factors of $12$ include $[1, 2, 3, 4, 6, 12]$. The prime factors of $12$ are a subset of this: $[2,3]$. The primary decomposition of $12$ is $[2,2,3]$, because $2*2=4 4*3=12$. The primary decomposition can be used to determine some important properties of numbers. The conclusion section of this report describes some of the properties of false primes that can be determined by analysis of their primary decompositions. "
   ]
  },
  {
   "cell_type": "markdown",
   "metadata": {},
   "source": [
    "## **Section 2: Prime Modulus Theorem Exploration**"
   ]
  },
  {
   "cell_type": "markdown",
   "metadata": {},
   "source": [
    "**1.**  First, it was necessary to create a function that determines whether or not a number is prime, according to the definition of a prime, which is that it has no factors except one and itself. This function takes an input of a number, $n$, and responds with a `True` or `False` to indicate whether or not $n$ is prime. "
   ]
  },
  {
   "cell_type": "code",
   "execution_count": 35,
   "metadata": {},
   "outputs": [],
   "source": [
    "def isprime(n):\n",
    "#Returns'False' if it finds a factor of n larger than 1 and less than or equal to the square root of n \n",
    "    prime=True\n",
    "# First condition returns false if n is less than 2\n",
    "    if n<2:\n",
    "        prime=False\n",
    "    for i in range(2,int(n**0.5)+1):\n",
    "        if n%i==0:\n",
    "            prime=False\n",
    "            break\n",
    "    return prime"
   ]
  },
  {
   "cell_type": "markdown",
   "metadata": {},
   "source": [
    "*Examples:* To demonstrate the validity of the function for known primes and not-primes"
   ]
  },
  {
   "cell_type": "markdown",
   "metadata": {},
   "source": [
    "Prime numbers should get an output `True`"
   ]
  },
  {
   "cell_type": "code",
   "execution_count": 36,
   "metadata": {},
   "outputs": [
    {
     "data": {
      "text/plain": [
       "True"
      ]
     },
     "execution_count": 36,
     "metadata": {},
     "output_type": "execute_result"
    }
   ],
   "source": [
    "isprime(3)"
   ]
  },
  {
   "cell_type": "code",
   "execution_count": 37,
   "metadata": {},
   "outputs": [
    {
     "data": {
      "text/plain": [
       "True"
      ]
     },
     "execution_count": 37,
     "metadata": {},
     "output_type": "execute_result"
    }
   ],
   "source": [
    "isprime(11)"
   ]
  },
  {
   "cell_type": "markdown",
   "metadata": {},
   "source": [
    "Not-prime numbers should get an output `False`"
   ]
  },
  {
   "cell_type": "code",
   "execution_count": 38,
   "metadata": {},
   "outputs": [
    {
     "data": {
      "text/plain": [
       "False"
      ]
     },
     "execution_count": 38,
     "metadata": {},
     "output_type": "execute_result"
    }
   ],
   "source": [
    "isprime(10)"
   ]
  },
  {
   "cell_type": "code",
   "execution_count": 39,
   "metadata": {},
   "outputs": [
    {
     "data": {
      "text/plain": [
       "False"
      ]
     },
     "execution_count": 39,
     "metadata": {},
     "output_type": "execute_result"
    }
   ],
   "source": [
    "isprime(18)"
   ]
  },
  {
   "cell_type": "markdown",
   "metadata": {},
   "source": [
    "As evidenced above, this function can determine whether or not a number is prime. This will be used later on to help determine when a number is a false prime."
   ]
  },
  {
   "cell_type": "markdown",
   "metadata": {},
   "source": [
    "**2.** Next, a function needed to be developed that could create an output of all prime numbers that are less than or equal to the input number, $n$. This code will be used in later functions to create the primary decomposition of a number."
   ]
  },
  {
   "cell_type": "code",
   "execution_count": 40,
   "metadata": {},
   "outputs": [],
   "source": [
    "def myprimes(n):\n",
    "#Returns a list of all prime numbers less than or equal to n\n",
    "    numlist=[]\n",
    "    for x in range(n+1):\n",
    "        if isprime(x):\n",
    "            numlist.append(x)\n",
    "    return numlist"
   ]
  },
  {
   "cell_type": "markdown",
   "metadata": {},
   "source": [
    "*Examples:* To demonstrate the validity of the above function."
   ]
  },
  {
   "cell_type": "code",
   "execution_count": 41,
   "metadata": {},
   "outputs": [
    {
     "data": {
      "text/plain": [
       "[2, 3, 5, 7]"
      ]
     },
     "execution_count": 41,
     "metadata": {},
     "output_type": "execute_result"
    }
   ],
   "source": [
    "myprimes(10)"
   ]
  },
  {
   "cell_type": "code",
   "execution_count": 42,
   "metadata": {},
   "outputs": [
    {
     "data": {
      "text/plain": [
       "[2, 3, 5, 7, 11, 13, 17, 19, 23, 29, 31, 37, 41, 43, 47, 53, 59]"
      ]
     },
     "execution_count": 42,
     "metadata": {},
     "output_type": "execute_result"
    }
   ],
   "source": [
    "myprimes(60)"
   ]
  },
  {
   "cell_type": "markdown",
   "metadata": {},
   "source": [
    "As evidenced in these examples, the function can take any number $n$ and return a list of all prime numbers less than or equal to $n$. "
   ]
  },
  {
   "cell_type": "markdown",
   "metadata": {},
   "source": [
    " **3.** The next step was to create a function which will determine if a number, $n$, is 'prime-like,' which is how this report will refer to numbers that satisfy the *Prime Modulus Theorem,* since it appears that satisfying this theorem does not mean a number is prime, merely prime-like. This function can take an input of any number, $n$, and repond with `True` if the number is prime-like or `False` if it is not. As a reminder, the *Prime Modulus Theorem* is: $$ \\frac{a^p}{p} = \\frac{a}{p} \\quad(mod p)$$"
   ]
  },
  {
   "cell_type": "code",
   "execution_count": 43,
   "metadata": {},
   "outputs": [],
   "source": [
    "def isprimelike(n):\n",
    "#Returns'False' if n does not obey the congruence test described above\n",
    "    primelike=True\n",
    "    #First condition defines that n is not prime-like if n is less than 2 \n",
    "    if n<2:\n",
    "        primelike=False\n",
    "    for a in range(0,n):\n",
    "        #n is used in this code instead of p\n",
    "        #this line says prime-like is false if the Prime Modulus Theorem shown above is not true\n",
    "        if pow(a,n,n)!=a%n:\n",
    "            primelike=False\n",
    "            break\n",
    "    return primelike"
   ]
  },
  {
   "cell_type": "markdown",
   "metadata": {},
   "source": [
    "*Examples:* To demonstrate the validity of the above function for numbers that are known to be prime or not-prime"
   ]
  },
  {
   "cell_type": "markdown",
   "metadata": {},
   "source": [
    "Prime numbers should generally be prime-like, resulting in `True`"
   ]
  },
  {
   "cell_type": "code",
   "execution_count": 44,
   "metadata": {},
   "outputs": [
    {
     "data": {
      "text/plain": [
       "True"
      ]
     },
     "execution_count": 44,
     "metadata": {},
     "output_type": "execute_result"
    }
   ],
   "source": [
    "isprimelike(17)"
   ]
  },
  {
   "cell_type": "code",
   "execution_count": 45,
   "metadata": {},
   "outputs": [
    {
     "data": {
      "text/plain": [
       "True"
      ]
     },
     "execution_count": 45,
     "metadata": {},
     "output_type": "execute_result"
    }
   ],
   "source": [
    "isprimelike(11)"
   ]
  },
  {
   "cell_type": "markdown",
   "metadata": {},
   "source": [
    "Not-prime numbers should generally not be prime-like, resulting in `False`"
   ]
  },
  {
   "cell_type": "code",
   "execution_count": 46,
   "metadata": {},
   "outputs": [
    {
     "data": {
      "text/plain": [
       "False"
      ]
     },
     "execution_count": 46,
     "metadata": {},
     "output_type": "execute_result"
    }
   ],
   "source": [
    "isprimelike(4)"
   ]
  },
  {
   "cell_type": "code",
   "execution_count": 47,
   "metadata": {},
   "outputs": [
    {
     "data": {
      "text/plain": [
       "False"
      ]
     },
     "execution_count": 47,
     "metadata": {},
     "output_type": "execute_result"
    }
   ],
   "source": [
    "isprimelike(12)"
   ]
  },
  {
   "cell_type": "markdown",
   "metadata": {},
   "source": [
    "**4.** This code uses the functions developed in steps 1 and 3 to find the first twenty instances of false primes, which are numbers, $x$, for which $x$ is prime-like (obeys the *Prime Modulus Theory*) but $x$ is not prime. A list will be returned containing the first twenty false primes."
   ]
  },
  {
   "cell_type": "code",
   "execution_count": 48,
   "metadata": {},
   "outputs": [],
   "source": [
    "#Creates a list of the first twenty false primes, titled 'fprimes'\n",
    "x=4\n",
    "fprimes=[]\n",
    "#the while loop indicates that the function should keep checking until the list has 20 items\n",
    "while len(fprimes)<=19:\n",
    "    #this isprime function is used first in order to make this step faster\n",
    "    if not isprime(x):\n",
    "        if isprimelike(x): \n",
    "            fprimes.append(x)\n",
    "    x=x+1\n",
    "    #x will increase by 1 until 20 false primes have been found"
   ]
  },
  {
   "cell_type": "markdown",
   "metadata": {},
   "source": [
    "*Example:* To display the first 20 false prime numbers"
   ]
  },
  {
   "cell_type": "code",
   "execution_count": 49,
   "metadata": {},
   "outputs": [
    {
     "name": "stdout",
     "output_type": "stream",
     "text": [
      "[561, 1105, 1729, 2465, 2821, 6601, 8911, 10585, 15841, 29341, 41041, 46657, 52633, 62745, 63973, 75361, 101101, 115921, 126217, 162401]\n"
     ]
    }
   ],
   "source": [
    "print(fprimes) #First 20 false primes"
   ]
  },
  {
   "cell_type": "markdown",
   "metadata": {},
   "source": [
    "The smallest false prime is 561 and the largest is 162,401. The difference between one false prime and the next gets progressively larger, starting with a difference of 544 between the second and first false primes, and increasing to 36,184 between the 20th and 19th false primes. "
   ]
  },
  {
   "cell_type": "markdown",
   "metadata": {},
   "source": [
    "**5.** This code creates a function for determining the primary decomposition of any number, $n$, which means it returns a list containing a list of the primary factors of $n$ which multiply together to equal $n$. "
   ]
  },
  {
   "cell_type": "code",
   "execution_count": 50,
   "metadata": {},
   "outputs": [],
   "source": [
    "def primary(n):\n",
    "#Returns a list containing the primary decomposition of a number n\n",
    "    decomplist=[]\n",
    "    plist=[]\n",
    "    #this is the same code as in the myprimes function\n",
    "    for k in range(n+1):\n",
    "        if isprime(k):\n",
    "            plist.append(k)\n",
    "\n",
    "    for x in plist:\n",
    "        #this checks which primes less than n are factors of n\n",
    "        while n%x==0:\n",
    "            decomplist.append(x)\n",
    "            n=n/x\n",
    "            #n gets redefined each time as n divided by the last prime number that was checked\n",
    "        if n==1:\n",
    "            break\n",
    "            #when n becomes 1, the function will stop\n",
    "    return decomplist"
   ]
  },
  {
   "cell_type": "markdown",
   "metadata": {},
   "source": [
    "*Examples:* To show evidence of the validity of the above function."
   ]
  },
  {
   "cell_type": "code",
   "execution_count": 51,
   "metadata": {},
   "outputs": [
    {
     "data": {
      "text/plain": [
       "[2, 3, 3, 5]"
      ]
     },
     "execution_count": 51,
     "metadata": {},
     "output_type": "execute_result"
    }
   ],
   "source": [
    "primary(90)"
   ]
  },
  {
   "cell_type": "code",
   "execution_count": 52,
   "metadata": {},
   "outputs": [
    {
     "data": {
      "text/plain": [
       "[2, 2, 3]"
      ]
     },
     "execution_count": 52,
     "metadata": {},
     "output_type": "execute_result"
    }
   ],
   "source": [
    "primary(12)"
   ]
  },
  {
   "cell_type": "code",
   "execution_count": 60,
   "metadata": {},
   "outputs": [
    {
     "data": {
      "text/plain": [
       "[7, 7]"
      ]
     },
     "execution_count": 60,
     "metadata": {},
     "output_type": "execute_result"
    }
   ],
   "source": [
    "primary(49)"
   ]
  },
  {
   "cell_type": "markdown",
   "metadata": {},
   "source": [
    "Primary decompositions of even numbers contain the factor 2. If a number, $n$, contains two repeated prime factors in its primary decomposition, then the square of that number is a factor of $n$."
   ]
  },
  {
   "cell_type": "markdown",
   "metadata": {},
   "source": [
    "The primary decomposition of a prime number is only itself."
   ]
  },
  {
   "cell_type": "code",
   "execution_count": 53,
   "metadata": {},
   "outputs": [
    {
     "data": {
      "text/plain": [
       "[11]"
      ]
     },
     "execution_count": 53,
     "metadata": {},
     "output_type": "execute_result"
    }
   ],
   "source": [
    "primary(11)"
   ]
  },
  {
   "cell_type": "markdown",
   "metadata": {},
   "source": [
    "**6.** Finally, the code developed in sections 4 and 5 will be combined to compute the primary decomposition of each of the first twenty false primes."
   ]
  },
  {
   "cell_type": "markdown",
   "metadata": {},
   "source": [
    "This piece of code creates a new list containing the primary decompositions of the false primes."
   ]
  },
  {
   "cell_type": "code",
   "execution_count": 54,
   "metadata": {},
   "outputs": [],
   "source": [
    "primaryfprimes=[]\n",
    "for i in fprimes: #Primary decomposition of the first 20 false primes\n",
    "    primaryfprimes.append(primary(i))"
   ]
  },
  {
   "cell_type": "markdown",
   "metadata": {},
   "source": [
    "This is what the list looks like when it is printed:"
   ]
  },
  {
   "cell_type": "code",
   "execution_count": 55,
   "metadata": {},
   "outputs": [
    {
     "name": "stdout",
     "output_type": "stream",
     "text": [
      "[[3, 11, 17], [5, 13, 17], [7, 13, 19], [5, 17, 29], [7, 13, 31], [7, 23, 41], [7, 19, 67], [5, 29, 73], [7, 31, 73], [13, 37, 61], [7, 11, 13, 41], [13, 37, 97], [7, 73, 103], [3, 5, 47, 89], [7, 13, 19, 37], [11, 13, 17, 31], [7, 11, 13, 101], [13, 37, 241], [7, 13, 19, 73], [17, 41, 233]]\n"
     ]
    }
   ],
   "source": [
    "print(primaryfprimes)"
   ]
  },
  {
   "cell_type": "markdown",
   "metadata": {},
   "source": [
    "This code displays the list of false primes and their primary decomposition side-by-side for easier analysis."
   ]
  },
  {
   "cell_type": "code",
   "execution_count": 57,
   "metadata": {
    "scrolled": true
   },
   "outputs": [
    {
     "name": "stdout",
     "output_type": "stream",
     "text": [
      "The primary decomposition of 561 is [3, 11, 17]\n",
      "The primary decomposition of 1105 is [5, 13, 17]\n",
      "The primary decomposition of 1729 is [7, 13, 19]\n",
      "The primary decomposition of 2465 is [5, 17, 29]\n",
      "The primary decomposition of 2821 is [7, 13, 31]\n",
      "The primary decomposition of 6601 is [7, 23, 41]\n",
      "The primary decomposition of 8911 is [7, 19, 67]\n",
      "The primary decomposition of 10585 is [5, 29, 73]\n",
      "The primary decomposition of 15841 is [7, 31, 73]\n",
      "The primary decomposition of 29341 is [13, 37, 61]\n",
      "The primary decomposition of 41041 is [7, 11, 13, 41]\n",
      "The primary decomposition of 46657 is [13, 37, 97]\n",
      "The primary decomposition of 52633 is [7, 73, 103]\n",
      "The primary decomposition of 62745 is [3, 5, 47, 89]\n",
      "The primary decomposition of 63973 is [7, 13, 19, 37]\n",
      "The primary decomposition of 75361 is [11, 13, 17, 31]\n",
      "The primary decomposition of 101101 is [7, 11, 13, 101]\n",
      "The primary decomposition of 115921 is [13, 37, 241]\n",
      "The primary decomposition of 126217 is [7, 13, 19, 73]\n",
      "The primary decomposition of 162401 is [17, 41, 233]\n"
     ]
    }
   ],
   "source": [
    "for k in range(20):\n",
    "    #takes the elements in each list one at a time and inserts them into the sentence below\n",
    "    print(f'The primary decomposition of {fprimes[k]} is {primaryfprimes[k]}')"
   ]
  },
  {
   "cell_type": "markdown",
   "metadata": {},
   "source": [
    "None of the first twenty false primes are even, therefore 2 never appears in their primary decomposition. \n",
    "\n",
    "Primary decompositions of the first twenty false primes never have a repeating factor: unlike 12, where the primary decomposition contains [2,2,3], none of the sets of primary decompositions for false primes contains any repeating factors. In the primary decomposition of 12, [2,2,3] implies that $2^2$ is a factor of 12. By extension, the factors of false primes never contain the square of a number. \n",
    "\n",
    "43 is the only prime number less than 50 that does not show up in any of the primary decompositions of the first twenty false primes. "
   ]
  },
  {
   "cell_type": "markdown",
   "metadata": {},
   "source": [
    "## **Section 3: Conclusions**"
   ]
  },
  {
   "cell_type": "markdown",
   "metadata": {},
   "source": [
    "This report has shown that there are indeed numbers which satisfy the *Prime Modulus Theorem* but are not actually prime numbers. The first twenty examples of these false prime numbers displayed above give a sample set which can be used to determine several properties of false primes. It seems noteworthy that there are no examples of even false primes, so the number 2 never appears as a member of the set of numbers comprising the primary decomposition of the first twenty false primes. False primes also do not seem to have factors which are the squares of other prime numbers, since each prime factor in the primary decomposition set is only listed once. Finally, though prime factors in the primary decompositions of the first twenty false primes contain prime numbers between 3 and 233, 43 never appears, making it the only prime number less than 50 to not be a member of the primary decomposition sets of the first twenty false primes. \n",
    " \n",
    "It can also be seen that the distance from one false prime to the next increases progressively throughout the set, with the difference between the second and the first false primes being 544, and the distance between the 20th and the 19th false primes being 36,184. The fact that the first prime number is 561 and that the distance between each successive false prime grows bigger implies that the *Prime Modulus Theorem* is a decent approximation of prime numbers for a good proportion of prime numbers and a perfect theorem when working with small numbers below 561. Beyond 561, this theorem is bad for awhile as every few hundred numbers provides a false prime, but it improves again, though is no longer perfect, as larger numbers are assessed since the space between false primes increases. "
   ]
  }
 ],
 "metadata": {
  "kernelspec": {
   "display_name": "Python 3",
   "language": "python",
   "name": "python3"
  },
  "language_info": {
   "codemirror_mode": {
    "name": "ipython",
    "version": 3
   },
   "file_extension": ".py",
   "mimetype": "text/x-python",
   "name": "python",
   "nbconvert_exporter": "python",
   "pygments_lexer": "ipython3",
   "version": "3.7.3"
  }
 },
 "nbformat": 4,
 "nbformat_minor": 2
}
