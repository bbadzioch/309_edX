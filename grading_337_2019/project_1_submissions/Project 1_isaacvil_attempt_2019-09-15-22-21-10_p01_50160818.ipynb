{
 "cells": [
  {
   "cell_type": "markdown",
   "metadata": {},
   "source": [
    "# 1   Introduction"
   ]
  },
  {
   "cell_type": "markdown",
   "metadata": {},
   "source": [
    "In order to fully comprehend the objective of the project it is crucial to understand what a prime and a false prime are. A prime number can be defined as a number that is a positive none zero integer that is divisible by 1 and itself. All prime and false prime will pass the congruence test. Passing said test does not automatically make it a prime number.\n",
    "\n",
    "The primary purpose of the project is to accurately find the first 20 false primes. After obtaining the false primes a primary decomposition of each false prime must be done. A simple way to for prime like numbers is by a congruence test. This can be done using the `pow` command in a function called `congru`. If the number passes the congruence test, the next step is to determine if the number is prime. If the number is not prime, then it must be a false prime. This was done using a function used in lecture called `isprime2`. The last step of the project is to develop the primary decomposition of each false prime. This was done using a function called `factors`.  \n"
   ]
  },
  {
   "cell_type": "markdown",
   "metadata": {},
   "source": [
    "# 2 Functions"
   ]
  },
  {
   "cell_type": "markdown",
   "metadata": {},
   "source": [
    "## 2.1 Importing Modules"
   ]
  },
  {
   "cell_type": "markdown",
   "metadata": {},
   "source": [
    "The following modules are important to import at the start of the project. Importing time from time will help determine the total run time of the code. This is important when trying to decrease the run time of the overall project. The next module that is imported is pprint from pprint. This is used later in the code to display the results in columns. This makes it easier to show the results. Importing modules at the beginning of a project is important as it will allow for all function to be ready to use reducing time. "
   ]
  },
  {
   "cell_type": "code",
   "execution_count": 11,
   "metadata": {},
   "outputs": [],
   "source": [
    "from time import time\n",
    "from pprint import pprint"
   ]
  },
  {
   "cell_type": "markdown",
   "metadata": {},
   "source": [
    "## 2.2 Congruence Test "
   ]
  },
  {
   "cell_type": "markdown",
   "metadata": {},
   "source": [
    "The first step in the project is to determine a list of prime like numbers. In order to do this a function called `congru` is used. The function utilizes a built in command called `pow` this command does the same this as: `(a**n)%k`. The only difference is that `pow` is more efficient and will reduce the time significantly. The function is set up to take one number (one parameter) ‘n’. The function will then run a congruence test. The first thing done in the code is to initialize variable ‘ans’ to `True`. Variable ‘ans’ will be used to store the result of the congruence test and will be returned at the end of the function. The next step is to use ‘i’ to iterate through the range of the parameter. This is done to check the congruence for all numbers less than or equal to the parameter. The way `pow` is used in the code it is that it takes three parameters, `pow(i,n,n)`. If that does not return the same value of ‘i’ then the code will update the value of ‘ans’ to `False`. This will cause the code to break and return the value of ‘ans’. The break is important. If the code doesn’t break it will continue to run until the end of the loop and update 'ans' which would result in incorrect results. If the number is large this will cause the code to take longer to run as well.  "
   ]
  },
  {
   "cell_type": "code",
   "execution_count": 12,
   "metadata": {},
   "outputs": [],
   "source": [
    "def congru(n):               # congruence test function\n",
    "    ans = True               # initializes ans to True\n",
    "    for i in list(range(n)): # produces a list from 0 to n-1 to be itterated in loop\n",
    "        if pow(i,n,n) != i:  # pow does this (i**n)%n if the result is not i \n",
    "            ans = False      # if the if statement is true then change ans to false\n",
    "            break            # after changing the value of false break the code\n",
    "    return ans               # returns the value of ans "
   ]
  },
  {
   "cell_type": "markdown",
   "metadata": {},
   "source": [
    "## 2.3 Determining if a Number is Prime"
   ]
  },
  {
   "cell_type": "markdown",
   "metadata": {},
   "source": [
    "The next logical step in the project is to determine which numbers from the prime like list obtained from `congru` are actual primes and which are not. In order to effectively do this an understanding of what a prime number |. A prime number can be defined as a positive none zero integer that is only divisible by 1 and itself. With that in mind a function can be written to check if a number is prime by checking if a remainder exists. During lecture a few different functions were constructed to determine if an integer was prime. The functions were bulky but obtained desirable results. The only issue being that for large numbers the time required to run the functions increases. Thus, causing the project to run even longer. A solution was present by the instructor. Rather than iterating through a list from 2 to ‘n’, where ‘n’ is the parameter of the function, the function can be set from 2 to `int(n**0.5)+1` doing this will give the same results as before but would run much faster. This is because the number of iterations will decrease. \n",
    "\n",
    "The way `isprime2` works is by first initializing ‘prime’ to `True`. The next step is an if statement that if ‘n’ is less than 2 then ‘prime’ is updated to `True`. For our project this is not needed, but won’t change the change the run time and so it was left in. The next step is crucial as this is the most demanding part of the function. Using a for loop ‘i’ will iterate from 2 to `int(n**0.5)+1`. This cuts the running time of the function by a lot. The next part is an if statement for which if `n%i == 0` then ‘prime’ updates to `False`. This is because a prime number is only divisible by 1 and itself. The range is from 2 to a number less than ‘n’. Thus, if ‘n’ is prime ‘i’ will never cause `n%i` to equal 0. If this happens the number is not prime. After this is done the code breaks to prevent unnecessary calculation resulting in a shorter run time. \n"
   ]
  },
  {
   "cell_type": "code",
   "execution_count": 13,
   "metadata": {},
   "outputs": [],
   "source": [
    "def isprime2(n):\n",
    "    prime = True\n",
    "    if n < 2:\n",
    "        prime = True\n",
    "    for i in range(2,int(n**0.5)+1):\n",
    "        if n%i == 0:\n",
    "            prime = False\n",
    "            break\n",
    "    return prime "
   ]
  },
  {
   "cell_type": "markdown",
   "metadata": {},
   "source": [
    "## 2.4 Primary Decomposition"
   ]
  },
  {
   "cell_type": "markdown",
   "metadata": {},
   "source": [
    " One of the last things that needs to be achieved for the project is the primary decomposition of the 20 false primes found. A primary decomposition is finding the smallest prime number that when multiplied together give you the initial value. The function `factors` will return the primary decomposition for any number ‘n’. The function starts off by initializing ‘i’ to 2. Variable ‘i’ cannot start at 0 as 0 is not a prime number. For a similar reason ‘i’ cannot be 1 because 1 is a factor for all numbers. Thus, starting at the smallest prime number, 2 makes the most sense. The next step is to create an empty list where the factors can be added to. The while loop used states that `i*i <=  n`, this means that ‘i’ * ‘i’ cannot be greater than ‘n’.  This is a simple check to keep the function moving. Multiplying two potential factors should never be larger than ‘n’. Thus, preventing incorrect results. If `n%i` is not equal to 0 then ‘i’ is increased by 1. Else, ‘i’ is a factor and can be added to the list. After a factor is found the number ‘n’ needs to decrease. This is because the factor found makes up part of the original number. Thus, diving ‘n’ by ‘i’ is needed. Floor division is used because it will make each variations of ‘n’ into an `int` rather than a `float`. Type casting could have been used to achieve the same results. After the while loop is done there is one last if statement, if ‘n’ is greater than 1 then we can add ‘n’ to the list. This is because the remanding part is also a factor of the original ‘n’."
   ]
  },
  {
   "cell_type": "code",
   "execution_count": 14,
   "metadata": {},
   "outputs": [],
   "source": [
    "def factors(n):\n",
    "    i = 2                     # initializing i for loop\n",
    "    fact = []                 # initializing list\n",
    "                 \n",
    "    while i * i <= n:         # makes sure factors don't multiply to a number bigger than n\n",
    "        if n%i !=0 :          # if the remainder is not 0 then this takes place\n",
    "            i = i + 1         # increasing by 1 after each loop\n",
    "\n",
    "        else:                 # if the previous if statement is false this takes place\n",
    "            n = n//i          # floor division makes number into int rather than float replaces n\n",
    "            fact.append(i)    # adds number to list\n",
    "\n",
    "    if n > 1:                 # starts after while loop\n",
    "        fact.append(n)        # adds last factor to list\n",
    "    return fact"
   ]
  },
  {
   "cell_type": "markdown",
   "metadata": {},
   "source": [
    "## 2.5 Main Function"
   ]
  },
  {
   "cell_type": "markdown",
   "metadata": {},
   "source": [
    "The overarching function is called `project`. The purpose of the function is to introduce the initial conditions and then then call on the pervious function to successfully find the first 20 false primes as well as the primary decomposition of each. Since, the function is designed to find numbers that are unknown, the function must do all the work. Thus, no parameters are needed. The sole purpose of the function is to start at the initial condition, 560 and iterate by increments of 1 until 20 false primes are found. The initial condition of 560 is chosen because the first false prime was given of 561. The function starts off by initializing ‘n’ as 560, the function will add 1 to ‘n’ through each iteration in the while loop. The first time in the loop ‘n’ becomes 561 which is the first false prime number as stateted in the project documentation. If 561 was chosen instead the first prime number would have been missed. Next, an empty list is created ‘falseprimelst’ and an empty dictionary is created called ‘ans’. The first step is done in a while loop. While the length of ‘falseprimelst’ is less than 20 it will keep looping. Thus, resulting in a list of 20 false primes. The first conditional statement is if ‘n’ is greater than or equal to 0 add update ‘n’ by adding 1. The next step is to send ‘n’ to `isprime2` if the result is `False` then send ‘n’ to `congru` if the result is `True` then ‘n’ gets added to ‘falseprimelst’. This order is important, if congruence is checked first and then if its prime the run time will increase. This happens until 20 false primes are found. The next step in the function is to obtain the primary decomposition of the false primes. In order to do this a for loop is needed, in which ‘i’ will iterate through ‘falseprimelst’. At this point the empty dictionary ‘ans’ will be used to store the false primes as keys and the primary decomposition as the values. This is done to show the results in a more organized way. In the loop ‘ans’ of ‘i’ can be set to the result of ‘i’ in `factors`. Once, this is completed the command `pprint` is used to print the dictionary. `pprint` prints the results in two columns, one column of keys and the other of values. This allows for a more organized way to displace the results. "
   ]
  },
  {
   "cell_type": "code",
   "execution_count": 15,
   "metadata": {},
   "outputs": [],
   "source": [
    "def project():\n",
    "    n = 560                              # initalizing n with inital condition\n",
    "    falseprimelst = []                   # setting an empty list for false primes\n",
    "    ans = {}                             # setting an empty dictionary for final answer\n",
    "    while len(falseprimelst) < 20:       # while loop used to obtain exactly 20 false primes\n",
    "        if n >= 0:                       # n will always be greater then or equal to 0\n",
    "            n = n+1                      # increasing n after every pass\n",
    "        if not isprime2(n):              # send to other function to check if its prime\n",
    "            if congru(n):                # send to other function to check congruence          \n",
    "                falseprimelst.append(n)  # adding false primes values to list     \n",
    "    for i in falseprimelst:              # iterating through list\n",
    "            ans[i] = factors(i)          # making the false prime the key in the dictionary and the prime factors the values\n",
    "    return pprint(ans)"
   ]
  },
  {
   "cell_type": "markdown",
   "metadata": {},
   "source": [
    "## 3 Results"
   ]
  },
  {
   "cell_type": "markdown",
   "metadata": {},
   "source": [
    "The first step to running the project is to set ‘start’ to `time()` will store the initial time. Then, `project()` can run and after ‘end’ can be set to `time()`. Doing this in this order will give you an initial start time and end time for the project. Then setting ‘T’ to the difference of ‘start’ and ‘end’ and dividing by 60 will result in the overall run time of the project in minutes. Lastly, the following command can be used to display the run time in a nicer way ` print(f'Run Time is {T:.2f} minutes')`. "
   ]
  },
  {
   "cell_type": "code",
   "execution_count": 16,
   "metadata": {},
   "outputs": [
    {
     "name": "stdout",
     "output_type": "stream",
     "text": [
      "{561: [3, 11, 17],\n",
      " 1105: [5, 13, 17],\n",
      " 1729: [7, 13, 19],\n",
      " 2465: [5, 17, 29],\n",
      " 2821: [7, 13, 31],\n",
      " 6601: [7, 23, 41],\n",
      " 8911: [7, 19, 67],\n",
      " 10585: [5, 29, 73],\n",
      " 15841: [7, 31, 73],\n",
      " 29341: [13, 37, 61],\n",
      " 41041: [7, 11, 13, 41],\n",
      " 46657: [13, 37, 97],\n",
      " 52633: [7, 73, 103],\n",
      " 62745: [3, 5, 47, 89],\n",
      " 63973: [7, 13, 19, 37],\n",
      " 75361: [11, 13, 17, 31],\n",
      " 101101: [7, 11, 13, 101],\n",
      " 115921: [13, 37, 241],\n",
      " 126217: [7, 13, 19, 73],\n",
      " 162401: [17, 41, 233]}\n",
      "Run Time is 5.29 minutes\n"
     ]
    }
   ],
   "source": [
    "start = time()                         # Start time for project\n",
    "\n",
    "project()                              # Running the project\n",
    "\n",
    "end = time()                           # End time of project\n",
    "T = (end - start)/60                   # Total run time of project, converting from seconds to minutes\n",
    "\n",
    "print(f'Run Time is {T:.2f} minutes')"
   ]
  },
  {
   "cell_type": "markdown",
   "metadata": {},
   "source": [
    "## 4 Conclusion"
   ]
  },
  {
   "cell_type": "markdown",
   "metadata": {},
   "source": [
    "False primes are numbers that can be confused for a prime number. This is due to the fact that they occur randomly like prime numbers. There is no pattern to them either. Both false prime and prime numbers pass the congruence test. From the result of the project it is clear that false prime numbers are odd and not even. Another observation from the results is that 70% of the false primes have only three prime factors. The rest, 30%, have four prime factors. Other numbers, near the larger false prime numbers could have more than 4 prime factors. For example, 29340 has 6 prime factors and 162400 has 9 prime factors. It is interesting how the first 20 false primes strictly have 3 or 4 prime factors. "
   ]
  },
  {
   "cell_type": "code",
   "execution_count": 18,
   "metadata": {},
   "outputs": [
    {
     "name": "stdout",
     "output_type": "stream",
     "text": [
      "70% have 3 prime factors and 30% have 4 prime factors\n",
      "29340 has 6 prime factors\n",
      "162400 has 9 prime factors\n"
     ]
    }
   ],
   "source": [
    "# a is the results from the project \n",
    "a = {561: [3, 11, 17],\n",
    " 1105: [5, 13, 17],\n",
    " 1729: [7, 13, 19],\n",
    " 2465: [5, 17, 29],\n",
    " 2821: [7, 13, 31],\n",
    " 6601: [7, 23, 41],\n",
    " 8911: [7, 19, 67],\n",
    " 10585: [5, 29, 73],\n",
    " 15841: [7, 31, 73],\n",
    " 29341: [13, 37, 61],\n",
    " 41041: [7, 11, 13, 41],\n",
    " 46657: [13, 37, 97],\n",
    " 52633: [7, 73, 103],\n",
    " 62745: [3, 5, 47, 89],\n",
    " 63973: [7, 13, 19, 37],\n",
    " 75361: [11, 13, 17, 31],\n",
    " 101101: [7, 11, 13, 101],\n",
    " 115921: [13, 37, 241],\n",
    " 126217: [7, 13, 19, 73],\n",
    " 162401: [17, 41, 233]}\n",
    "\n",
    "num3 = 0                      # num3 is initialized as 0\n",
    "num4 = 0                      # num4 is initialized as 0\n",
    "\n",
    "for i in a.values():          # iterates through the values of a \n",
    "    if len(i) == 3:           # if the length of i is 3 then add 1 to num3\n",
    "        num3 = num3 + 1\n",
    "    if len(i) == 4:           # if the length of i is 4 then add 1 to num4\n",
    "        num4 = num4 + 1 \n",
    "    n3 = num3/(num4+num3)*100 # the percent of false primes with 3 factors\n",
    "    n4 = num4/(num4+num3)*100 # the percent of false primes with 4 factors \n",
    "print(str(int(n3)) + '% have 3 prime factors and ' + str(int(n4)) + '% have 4 prime factors')\n",
    "print('29340 has ' + str(len(factors(29340))) + ' prime factors')\n",
    "print('162400 has ' + str(len(factors(162400))) + ' prime factors')"
   ]
  },
  {
   "cell_type": "code",
   "execution_count": null,
   "metadata": {},
   "outputs": [],
   "source": []
  }
 ],
 "metadata": {
  "kernelspec": {
   "display_name": "Python 3",
   "language": "python",
   "name": "python3"
  },
  "language_info": {
   "codemirror_mode": {
    "name": "ipython",
    "version": 3
   },
   "file_extension": ".py",
   "mimetype": "text/x-python",
   "name": "python",
   "nbconvert_exporter": "python",
   "pygments_lexer": "ipython3",
   "version": "3.7.3"
  }
 },
 "nbformat": 4,
 "nbformat_minor": 2
}
