{
 "cells": [
  {
   "cell_type": "code",
   "execution_count": 28,
   "metadata": {},
   "outputs": [],
   "source": [
    "def isprime2(n):\n",
    "    prime=True\n",
    "    if n<2:\n",
    "        prime=False\n",
    "    for i in range(2,int(n**0.5)+1):\n",
    "        if n%i==0:\n",
    "            prime=False\n",
    "            break\n",
    "    return prime\n",
    "\n",
    "def myprime(n):\n",
    "    primelist=[]\n",
    "    for x in range(2,n+1):\n",
    "        if isprime2(x):\n",
    "            primelist.append(x)\n",
    "    return primelist"
   ]
  },
  {
   "cell_type": "code",
   "execution_count": 29,
   "metadata": {},
   "outputs": [],
   "source": [
    "def primelike(n):\n",
    "    primelike=True\n",
    "    if n<2:\n",
    "        primelike=False\n",
    "    for a in range(n):\n",
    "        if not pow(a,n,n)==a%n:\n",
    "            primelike=False\n",
    "            break\n",
    "    return primelike"
   ]
  },
  {
   "cell_type": "code",
   "execution_count": 30,
   "metadata": {},
   "outputs": [
    {
     "name": "stdout",
     "output_type": "stream",
     "text": [
      "[561, 1105, 1729, 2465, 2821, 6601, 8911, 10585, 15841, 29341, 41041, 46657, 52633, 62745, 63973, 75361, 101101, 115921, 126217, 162401]\n"
     ]
    }
   ],
   "source": [
    "def falseprime():\n",
    "    falseprimelist=[]\n",
    "    n=561\n",
    "    while len(falseprimelist)<20:\n",
    "            if not isprime2(n) and primelike(n):\n",
    "                falseprimelist.append(n)\n",
    "            n+=1\n",
    "    return falseprimelist\n",
    "print(falseprime())"
   ]
  },
  {
   "cell_type": "code",
   "execution_count": 31,
   "metadata": {},
   "outputs": [],
   "source": [
    "def primary(n):\n",
    "    decomposition=[]\n",
    "    plist=myprime(n)\n",
    "    for k in plist:\n",
    "        while n%k==0:\n",
    "            decomposition.append(k)\n",
    "            n=n/k\n",
    "        if n==1:\n",
    "            break\n",
    "    return decomposition"
   ]
  },
  {
   "cell_type": "code",
   "execution_count": 32,
   "metadata": {},
   "outputs": [
    {
     "name": "stdout",
     "output_type": "stream",
     "text": [
      "[[3, 11, 17], [5, 13, 17], [7, 13, 19], [5, 17, 29], [7, 13, 31], [7, 23, 41], [7, 19, 67], [5, 29, 73], [7, 31, 73], [13, 37, 61], [7, 11, 13, 41], [13, 37, 97], [7, 73, 103], [3, 5, 47, 89], [7, 13, 19, 37], [11, 13, 17, 31], [7, 11, 13, 101], [13, 37, 241], [7, 13, 19, 73], [17, 41, 233]]\n"
     ]
    }
   ],
   "source": [
    "def out():\n",
    "    c = []\n",
    "    a = falseprime()\n",
    "    for num in a:\n",
    "        b = primary(num)\n",
    "        c.append(b)\n",
    "    return c\n",
    "print(out())"
   ]
  },
  {
   "cell_type": "markdown",
   "metadata": {},
   "source": [
    "# Introduction:\n",
    "This is my project. And it is about how to find the prime number, non prime number, primelike number and decomposition with the false prime number. It run though by python.\n",
    "\n",
    "\n",
    "\n",
    "\n",
    "\n",
    "The false prime number function is run with 3 functions, `isprime2`, `primelike` and `falseprime`. The isprime2 is look for the prime number, because the false prime number are make by non prime number. And then the primelike function is looking for the congruences. And then the falseprime function is run for add the non prime number and primelike number together and put them in a list. The decomposition function is also run with 3 functions, the `myprime`, `primary`, `out`. The myprime function is a list of the prime number. And the primary function is looking for the decomposition number make with prime number. And the out function is run for looking with the divisor of the falseprime number and put out the prime number.\n",
    "\n",
    "\n",
    "\n",
    "\n",
    "\n",
    "By decomposition list and the false prime list, I saw they are actually are different, because the decomposition are the prime number, and the false prime number are non prime number. The false prime number are all can divide by the decomposition number. But in this way, we can see the false prime number and the decomposition number has the divide relationship. The false prime number are make by the non prime number and the decomposition number are make by prime number.\n",
    "\n"
   ]
  },
  {
   "cell_type": "code",
   "execution_count": null,
   "metadata": {},
   "outputs": [],
   "source": []
  }
 ],
 "metadata": {
  "kernelspec": {
   "display_name": "Python 3",
   "language": "python",
   "name": "python3"
  },
  "language_info": {
   "codemirror_mode": {
    "name": "ipython",
    "version": 3
   },
   "file_extension": ".py",
   "mimetype": "text/x-python",
   "name": "python",
   "nbconvert_exporter": "python",
   "pygments_lexer": "ipython3",
   "version": "3.7.1"
  }
 },
 "nbformat": 4,
 "nbformat_minor": 2
}
