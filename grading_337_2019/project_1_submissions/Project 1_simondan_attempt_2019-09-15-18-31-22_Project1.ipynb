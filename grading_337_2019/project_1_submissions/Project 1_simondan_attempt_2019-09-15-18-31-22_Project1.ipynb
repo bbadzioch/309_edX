{
 "cells": [
  {
   "cell_type": "markdown",
   "metadata": {},
   "source": [
    "## Simon Danilov\n",
    "## 50220519\n",
    "## Proffesor Cassani\n",
    "## MTH 337"
   ]
  },
  {
   "cell_type": "markdown",
   "metadata": {},
   "source": [
    "Our focus in this report would be to create a list of the first twenty false primes. False primes are numbers that must satisty two requirments. The first requirement is that it is not a prime and the second requirement is that for all $0\\leq a\\leq n$\n",
    "$$a^n \\equiv a (mod n)$$\n",
    "We will call the values of n that satisfy the above condition as primelike.\n",
    "In our code we will create a function that will identify whether a number is primelike and if it is, it will go on to check to see if that number is prime. If it is not the code will add that number to our list of false primes. The for loop will help us cycle through a bunch of numbers within a range and check to see if it is a falseprime."
   ]
  },
  {
   "cell_type": "code",
   "execution_count": null,
   "metadata": {},
   "outputs": [],
   "source": [
    "falseprimelist=[]\n",
    "\n",
    "def notprime(n):  #we define a function that will check to make sure n is not a prime number\n",
    "    isnotprime=False\n",
    "    if n<2:\n",
    "        isnotprime=False\n",
    "    for i in range(2,n):\n",
    "        if n%i==0:\n",
    "            isnotprime=True\n",
    "            break\n",
    "    return isnotprime\n",
    "\n",
    "def isprimelike(n):   #this function will check to see if it is primelike\n",
    "    primelike=True\n",
    "    for a in range(0,n):\n",
    "        if (a**n)%n != a%n:\n",
    "            primelike=False\n",
    "            break\n",
    "    return primelike    \n",
    "\n",
    "for n in range(2,10**7):  #the for loop will check every number in the range and the if statements will make sure conditions are satisfied before moving to next function\n",
    "    if isprimelike(n) == True:\n",
    "        if notprime(n) == True:\n",
    "            falseprimelist.append(n)\n",
    "                \n",
    "print(falseprimelist)"
   ]
  }
 ],
 "metadata": {
  "kernelspec": {
   "display_name": "Python 3",
   "language": "python",
   "name": "python3"
  },
  "language_info": {
   "codemirror_mode": {
    "name": "ipython",
    "version": 3
   },
   "file_extension": ".py",
   "mimetype": "text/x-python",
   "name": "python",
   "nbconvert_exporter": "python",
   "pygments_lexer": "ipython3",
   "version": "3.7.3"
  }
 },
 "nbformat": 4,
 "nbformat_minor": 2
}
