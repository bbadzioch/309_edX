{
 "cells": [
  {
   "cell_type": "code",
   "execution_count": 139,
   "metadata": {
    "scrolled": false
   },
   "outputs": [
    {
     "name": "stdout",
     "output_type": "stream",
     "text": [
      "[[-12, 17, 59/4], [4, -4, -9/4]]\n"
     ]
    }
   ],
   "source": [
    "import graders309 as gr  \n",
    "  \n",
    "import numpy as np\n",
    "import sympy\n",
    "import random\n",
    "\n",
    "sympy.init_printing(use_latex='mathjax')\n",
    "\n",
    "def matrix2str(A, float_prec=None):\n",
    "    \n",
    "    if len(A.shape) == 1:\n",
    "        A = A.reshape(1, -1)\n",
    "    \n",
    "    m, n = A.shape\n",
    "    A_str = []\n",
    "    for i in range(m):\n",
    "        if float_prec is not None:\n",
    "            row_str = [\"{:.{}f}\".format(float(x), float_prec) for x in A[i, :]]\n",
    "        else:\n",
    "            row_str  = [str(x) for x in A[i, :]]\n",
    "        row_str = \"[\" + \", \".join(row_str) + \"]\"\n",
    "        A_str.append(row_str)\n",
    "    if m == 1:\n",
    "        return A_str[0]\n",
    "    else:\n",
    "        return \"[\" + \", \".join(A_str) + \"]\"\n",
    "\n",
    "    \n",
    "\n",
    "def minus_space(num):\n",
    "    if (float(0)).__gt__(float(num)):\n",
    "        return str(num)\n",
    "    else:\n",
    "        return r\"\\phantom{{-}}{}\".format(num)\n",
    "\n",
    "def format_vector_string(v, add_min = True):\n",
    "    \n",
    "    if add_min:\n",
    "        f = minus_space\n",
    "    else: \n",
    "        f = str\n",
    "        \n",
    "    s_middle = \" \".join([f(num) + r\" \\\\\" for num in v])\n",
    "    s_begin = r\"\\begin{bmatrix} \"\n",
    "    s_end = r\" \\end{bmatrix}\"\n",
    "    return s_begin + s_middle + s_end\n",
    "\n",
    "\n",
    "def lin_transf_from_basis(n, m, mat_min = -4, mat_max = 4):\n",
    "    \n",
    "    random_seed = random.randrange(100)\n",
    "    np.random.seed(random_seed)\n",
    "    \n",
    "    args = np.random.randint(mat_min, mat_max + 1, (n,n))\n",
    "    while abs(np.linalg.det(args)) < 1 or abs(np.linalg.det(args)) > 4: \n",
    "        args = np.random.randint(mat_min, mat_max + 1, (n,n))\n",
    "        \n",
    "    vals = np.random.randint(mat_min, mat_max + 1, (m,n))\n",
    "    \n",
    "    return args, vals\n",
    "\n",
    "args, vals = lin_transf_from_basis(n=3, m=2, mat_min = -4, mat_max = 4)\n",
    "sv_1 = format_vector_string(args[:,0] , add_min = True)\n",
    "sv_2 = format_vector_string(args[:,1] , add_min = True)\n",
    "sv_3 = format_vector_string(args[:,2] , add_min = True)\n",
    "\n",
    "sw_1 = format_vector_string(vals[:,0] , add_min = True)\n",
    "sw_2 = format_vector_string(vals[:,1] , add_min = True)\n",
    "sw_3 = format_vector_string(vals[:,2] , add_min = True)\n",
    "\n",
    "\n",
    "sol = sympy.Matrix(vals)*sympy.Matrix(args)**(-1)\n",
    "sol_s = matrix2str(sol)\n",
    "print(sol_s)\n",
    "\n",
    "atol = 0.1\n",
    "rtol = 0\n",
    "\n",
    "check_answer = gr.array_grader(atol, rtol, dtype=float)"
   ]
  },
  {
   "cell_type": "code",
   "execution_count": 1,
   "metadata": {},
   "outputs": [
    {
     "ename": "NameError",
     "evalue": "name 'random' is not defined",
     "output_type": "error",
     "traceback": [
      "\u001b[0;31m---------------------------------------------------------------------------\u001b[0m",
      "\u001b[0;31mNameError\u001b[0m                                 Traceback (most recent call last)",
      "\u001b[0;32m<ipython-input-1-4840e1e670f9>\u001b[0m in \u001b[0;36m<module>\u001b[0;34m\u001b[0m\n\u001b[1;32m     37\u001b[0m \u001b[0;34m\u001b[0m\u001b[0m\n\u001b[1;32m     38\u001b[0m \u001b[0;34m\u001b[0m\u001b[0m\n\u001b[0;32m---> 39\u001b[0;31m \u001b[0mB\u001b[0m \u001b[0;34m=\u001b[0m \u001b[0mrandom_basis\u001b[0m\u001b[0;34m(\u001b[0m\u001b[0;34m)\u001b[0m\u001b[0;34m\u001b[0m\u001b[0;34m\u001b[0m\u001b[0m\n\u001b[0m\u001b[1;32m     40\u001b[0m \u001b[0mv\u001b[0m\u001b[0;34m,\u001b[0m \u001b[0mc\u001b[0m \u001b[0;34m=\u001b[0m \u001b[0mrandom_combination\u001b[0m\u001b[0;34m(\u001b[0m\u001b[0mB\u001b[0m\u001b[0;34m)\u001b[0m\u001b[0;34m\u001b[0m\u001b[0;34m\u001b[0m\u001b[0m\n\u001b[1;32m     41\u001b[0m \u001b[0;34m\u001b[0m\u001b[0m\n",
      "\u001b[0;32m<ipython-input-1-4840e1e670f9>\u001b[0m in \u001b[0;36mrandom_basis\u001b[0;34m(n, lower, upper)\u001b[0m\n\u001b[1;32m     12\u001b[0m         \u001b[0mA_list\u001b[0m \u001b[0;34m=\u001b[0m \u001b[0;34m[\u001b[0m\u001b[0;34m]\u001b[0m\u001b[0;34m\u001b[0m\u001b[0;34m\u001b[0m\u001b[0m\n\u001b[1;32m     13\u001b[0m         \u001b[0;32mfor\u001b[0m \u001b[0mi\u001b[0m \u001b[0;32min\u001b[0m \u001b[0mrange\u001b[0m\u001b[0;34m(\u001b[0m\u001b[0mn\u001b[0m\u001b[0;34m**\u001b[0m\u001b[0;36m2\u001b[0m\u001b[0;34m)\u001b[0m\u001b[0;34m:\u001b[0m\u001b[0;34m\u001b[0m\u001b[0;34m\u001b[0m\u001b[0m\n\u001b[0;32m---> 14\u001b[0;31m             \u001b[0mA_list\u001b[0m\u001b[0;34m.\u001b[0m\u001b[0mappend\u001b[0m\u001b[0;34m(\u001b[0m\u001b[0mrandom\u001b[0m\u001b[0;34m.\u001b[0m\u001b[0mrandrange\u001b[0m\u001b[0;34m(\u001b[0m\u001b[0mlower\u001b[0m\u001b[0;34m,\u001b[0m \u001b[0mupper\u001b[0m\u001b[0;34m)\u001b[0m\u001b[0;34m)\u001b[0m\u001b[0;34m\u001b[0m\u001b[0;34m\u001b[0m\u001b[0m\n\u001b[0m\u001b[1;32m     15\u001b[0m         \u001b[0mA\u001b[0m \u001b[0;34m=\u001b[0m \u001b[0mnp\u001b[0m\u001b[0;34m.\u001b[0m\u001b[0marray\u001b[0m\u001b[0;34m(\u001b[0m\u001b[0mA_list\u001b[0m\u001b[0;34m,\u001b[0m \u001b[0mdtype\u001b[0m\u001b[0;34m=\u001b[0m\u001b[0mint\u001b[0m\u001b[0;34m)\u001b[0m\u001b[0;34m.\u001b[0m\u001b[0mreshape\u001b[0m\u001b[0;34m(\u001b[0m\u001b[0;34m(\u001b[0m\u001b[0mn\u001b[0m\u001b[0;34m,\u001b[0m\u001b[0mn\u001b[0m\u001b[0;34m)\u001b[0m\u001b[0;34m)\u001b[0m\u001b[0;34m\u001b[0m\u001b[0;34m\u001b[0m\u001b[0m\n\u001b[1;32m     16\u001b[0m         \u001b[0;32mif\u001b[0m \u001b[0mnp\u001b[0m\u001b[0;34m.\u001b[0m\u001b[0mlinalg\u001b[0m\u001b[0;34m.\u001b[0m\u001b[0mdet\u001b[0m\u001b[0;34m(\u001b[0m\u001b[0mA\u001b[0m\u001b[0;34m)\u001b[0m \u001b[0;34m!=\u001b[0m\u001b[0;36m0\u001b[0m\u001b[0;34m:\u001b[0m\u001b[0;34m\u001b[0m\u001b[0;34m\u001b[0m\u001b[0m\n",
      "\u001b[0;31mNameError\u001b[0m: name 'random' is not defined"
     ]
    }
   ],
   "source": [
    "from sympy import Matrix\n",
    "import numpy as np\n",
    "import operator\n",
    "  \n",
    "def random_basis(n=3, lower=-3, upper=4):\n",
    "    '''\n",
    "    Returns list of random vectors in R^n with integer \n",
    "    coefficients which give a basis of R^n.  \n",
    "    '''\n",
    "    \n",
    "    while True:\n",
    "        A_list = []\n",
    "        for i in range(n**2):\n",
    "            A_list.append(random.randrange(lower, upper))  \n",
    "        A = np.array(A_list, dtype=int).reshape((n,n))\n",
    "        if np.linalg.det(A) !=0:\n",
    "            B = [list(A[i]) for i in range(n)]\n",
    "            return B\n",
    "\n",
    "def random_combination(B, lower = -6, upper = 7):\n",
    "    '''\n",
    "    For a given set B of vectors in R^n returns a randomly \n",
    "    selected vector in the span of B. \n",
    "    The returned values is a tuple, (v, c) where v is the \n",
    "    linear compbination vector, and c is a list of scalars which \n",
    "    represent v as a linear combination of vectors in B. \n",
    "    '''\n",
    "    \n",
    "    k = len(B)\n",
    "    c_list = []\n",
    "    for i in range(k):\n",
    "        c_list.append(random.randrange(lower, upper)) \n",
    "    c = np.array(c_list).astype(int)\n",
    "    A = np.array(B).astype(int).T\n",
    "    v = A.dot(c)\n",
    "    return (list(v), c_list)\n",
    "    \n",
    "\n",
    "B = random_basis()\n",
    "v, c = random_combination(B)\n",
    "\n",
    "b11, b12, b13 = [int(b) for b in B[0]]\n",
    "b21, b22, b23 = [int(b) for b in B[1]]\n",
    "b31, b32, b33 = [int(b) for b in B[2]]\n",
    "\n",
    "v1, v2, v3 = [int(y) for y in v]\n",
    "c1, c2, c3 = [int(y) for y in c]\n",
    "  \n",
    "w1, w2 = 1, 2\n",
    "s = int(sum(c))\n",
    "sw1 = s*w1\n",
    "sw2 = s*w2\n",
    "sc = c1 + c2 + c3  \n",
    "  \n",
    "atol = 0.01\n",
    "rtol = 0\n",
    "  \n",
    "def check_answer(expect, ans):\n",
    "    try:\n",
    "        x = eval(\"np.array(\" + ans + \").astype(float)\")\n",
    "    except Exception: \n",
    "        return False\n",
    "    if x.shape != (2,):\n",
    "        return False\n",
    "    if np.allclose(x, sum(c)*np.array([w1, w2]), atol=atol, rtol=rtol): \n",
    "        return True\n",
    "    #raise Exception(\"x={}, ans={}, v={}, B={}\".format(x, (c1+c2+c3)*np.array([w1, w2]), v, B))\n",
    "    return False\n",
    "\n"
   ]
  },
  {
   "cell_type": "code",
   "execution_count": 3,
   "metadata": {},
   "outputs": [
    {
     "data": {
      "text/plain": [
       "False"
      ]
     },
     "execution_count": 3,
     "metadata": {},
     "output_type": "execute_result"
    }
   ],
   "source": [
    "n = \"d\"\n",
    "type(n) == int"
   ]
  },
  {
   "cell_type": "code",
   "execution_count": null,
   "metadata": {},
   "outputs": [],
   "source": []
  }
 ],
 "metadata": {
  "kernelspec": {
   "display_name": "Python 3",
   "language": "python",
   "name": "python3"
  },
  "language_info": {
   "codemirror_mode": {
    "name": "ipython",
    "version": 3
   },
   "file_extension": ".py",
   "mimetype": "text/x-python",
   "name": "python",
   "nbconvert_exporter": "python",
   "pygments_lexer": "ipython3",
   "version": "3.7.1"
  }
 },
 "nbformat": 4,
 "nbformat_minor": 2
}
