{
 "cells": [
  {
   "cell_type": "markdown",
   "metadata": {},
   "source": [
    "# XML Schema"
   ]
  },
  {
   "cell_type": "markdown",
   "metadata": {},
   "source": [
    "<bibliography xmlns=\"http://something.something.my.schema\" version=\"0.1\" >\n",
    "\n",
    "        <item type=\"journal article\">  \n",
    "                <autor>John Smith</author>\n",
    "                <autor>James Davis</author>\n",
    "                <title>Methodology of science</title>\n",
    "                <journal>Scientific letters</journal>\n",
    "                <volume>14</volume>\n",
    "                <pages>1034-1040</pages>\n",
    "                <year>2012</year>\n",
    "        </item>\n",
    "        \n",
    "        <item type=\"book\">  \n",
    "                <autor>Mary Jones</author>\n",
    "                <title>My life</title>\n",
    "                <publisher>Jones Publishing Co.</publisher>\n",
    "                <publisher>Jones Publishing Co.</publisher>\n",
    "                <pages>345</pages>\n",
    "                <year>1890</year>\n",
    "        </item>\n",
    "\n",
    "\n",
    "        <item type=\"thesis\">  \n",
    "                <autor>Vincent Vega</author>\n",
    "                <title>History of Florence years 1200-1300</title>\n",
    "                <college>University of Great Science</college>\n",
    "                <pages>127</pages>\n",
    "                <year>1890</year>\n",
    "        </item>\n",
    "\n",
    "        </course>\n",
    "\n",
    "</bibliography>"
   ]
  },
  {
   "cell_type": "code",
   "execution_count": 50,
   "metadata": {},
   "outputs": [
    {
     "name": "stdout",
     "output_type": "stream",
     "text": [
      "MTH448 value doesn't match any pattern of ['[A-Z]{3} [0-9]{3}'].\n"
     ]
    }
   ],
   "source": [
    "import xmlschema\n",
    "\n",
    "try:\n",
    "    xmlschema.validate('mydoc.xml','myschema.xsd')\n",
    "except xmlschema.XMLSchemaValidationError as e:\n",
    "    print(e.obj, e.reason)\n",
    "    "
   ]
  },
  {
   "cell_type": "markdown",
   "metadata": {},
   "source": [
    "# Regular expressions"
   ]
  },
  {
   "cell_type": "code",
   "execution_count": 58,
   "metadata": {},
   "outputs": [
    {
     "data": {
      "text/plain": [
       "['c', 's', 'm']"
      ]
     },
     "execution_count": 58,
     "metadata": {},
     "output_type": "execute_result"
    }
   ],
   "source": [
    "import re\n",
    "\n",
    "re.findall(r'(\\w)at', \"the cat sat on the mat\")"
   ]
  },
  {
   "cell_type": "code",
   "execution_count": null,
   "metadata": {},
   "outputs": [],
   "source": []
  }
 ],
 "metadata": {
  "kernelspec": {
   "display_name": "Python 3",
   "language": "python",
   "name": "python3"
  },
  "language_info": {
   "codemirror_mode": {
    "name": "ipython",
    "version": 3
   },
   "file_extension": ".py",
   "mimetype": "text/x-python",
   "name": "python",
   "nbconvert_exporter": "python",
   "pygments_lexer": "ipython3",
   "version": "3.7.3"
  }
 },
 "nbformat": 4,
 "nbformat_minor": 2
}
