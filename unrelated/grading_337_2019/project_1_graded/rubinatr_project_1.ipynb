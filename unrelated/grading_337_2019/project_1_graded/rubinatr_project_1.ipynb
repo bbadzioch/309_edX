{
 "cells": [
  {
   "cell_type": "markdown",
   "metadata": {},
   "source": [
    "## Introduction"
   ]
  },
  {
   "cell_type": "markdown",
   "metadata": {},
   "source": [
    "Prime numbers are numbers that are greater than 1 that cannot be formed by multiplying two smaller nmubers. It is only divisible by 1 and itself. 2 and 3 are the first two prime numbers. 2 is the only even prime number, every other prime is an odd number. There is special code that can help you determine if a number is prime or not. \n",
    "\n",
    "False primes are numbers that are prime like and are not prime. The goal of this project is to create code to determine the first twenty false prime numbers. We will be using the pow(a,p,k) function to determine these false primes. Then we will find the primary decomposition of the first twenty false primes that were found. "
   ]
  },
  {
   "cell_type": "code",
   "execution_count": 9,
   "metadata": {},
   "outputs": [],
   "source": [
    "def isprime2(n):\n",
    "    prime=True\n",
    "    if n<2:\n",
    "        prime=False\n",
    "    for i in range(2,int(n**0.5)+1):\n",
    "        if n%i==0:\n",
    "            prime=False\n",
    "            break\n",
    "    return prime\n",
    "# this code determines if the numbers in the range of 2 through the sqaure root of given number n are prime"
   ]
  },
  {
   "cell_type": "code",
   "execution_count": 10,
   "metadata": {},
   "outputs": [],
   "source": [
    "def myprimes(n):\n",
    "    numlist=[]\n",
    "    for x in range (n+1):\n",
    "        if isprime2(x):\n",
    "            numlist.append(x)\n",
    "    return numlist\n",
    "# this code takes all of the prime numbers and puts them into the list 'myprimes'"
   ]
  },
  {
   "cell_type": "markdown",
   "metadata": {},
   "source": [
    "This code will now give you a list all of the primes up to the number submitted in the code. "
   ]
  },
  {
   "cell_type": "code",
   "execution_count": 11,
   "metadata": {},
   "outputs": [
    {
     "data": {
      "text/plain": [
       "[2, 3, 5, 7, 11, 13, 17, 19, 23, 29, 31, 37, 41, 43, 47]"
      ]
     },
     "execution_count": 11,
     "metadata": {},
     "output_type": "execute_result"
    }
   ],
   "source": [
    "myprimes(50)"
   ]
  },
  {
   "cell_type": "markdown",
   "metadata": {},
   "source": [
    "Now we want to define the prime-like numbers using the pow(a,n,k) function. In this case we will be using pow(a,n,n). "
   ]
  },
  {
   "cell_type": "code",
   "execution_count": 12,
   "metadata": {},
   "outputs": [],
   "source": [
    "def primelike(n):\n",
    "    for a in range(n):\n",
    "        if not (pow(a,n,n)==a%n):\n",
    "            return False\n",
    "    return True"
   ]
  },
  {
   "cell_type": "markdown",
   "metadata": {},
   "source": [
    "Now that we have the code to determine whether a number is prime-like or not we want to then make an if statement to determine if a number is NOT prime and prime-like. These numbers will then be added to a list of false primes called, falseprimes."
   ]
  },
  {
   "cell_type": "code",
   "execution_count": 13,
   "metadata": {},
   "outputs": [],
   "source": [
    "falseprimes=[]\n",
    "for n in range(2,170000):\n",
    "\n",
    "    if (not isprime2(n) and primelike(n)):\n",
    "        falseprimes.append(n) #the append function adds an element to a list"
   ]
  },
  {
   "cell_type": "code",
   "execution_count": 14,
   "metadata": {},
   "outputs": [
    {
     "data": {
      "text/plain": [
       "[561,\n",
       " 1105,\n",
       " 1729,\n",
       " 2465,\n",
       " 2821,\n",
       " 6601,\n",
       " 8911,\n",
       " 10585,\n",
       " 15841,\n",
       " 29341,\n",
       " 41041,\n",
       " 46657,\n",
       " 52633,\n",
       " 62745,\n",
       " 63973,\n",
       " 75361,\n",
       " 101101,\n",
       " 115921,\n",
       " 126217,\n",
       " 162401]"
      ]
     },
     "execution_count": 14,
     "metadata": {},
     "output_type": "execute_result"
    }
   ],
   "source": [
    "falseprimes"
   ]
  },
  {
   "cell_type": "markdown",
   "metadata": {},
   "source": [
    "Now that we have our list of false prime numbers we want to find the primary decompositions of each. "
   ]
  },
  {
   "cell_type": "code",
   "execution_count": 15,
   "metadata": {},
   "outputs": [],
   "source": [
    "def primary(n):\n",
    "    decomposition=[]\n",
    "    plist=myprimes(n)\n",
    "    for k in plist:\n",
    "        while n%k==0:\n",
    "            decomposition.append(k) # the append function means the element(s) will be added to the list\n",
    "            n=n/k\n",
    "        if n==1:\n",
    "            break\n",
    "    return decomposition"
   ]
  },
  {
   "cell_type": "code",
   "execution_count": 16,
   "metadata": {
    "scrolled": false
   },
   "outputs": [
    {
     "name": "stdout",
     "output_type": "stream",
     "text": [
      "[3, 11, 17]\n",
      "[5, 13, 17]\n",
      "[7, 13, 19]\n",
      "[5, 17, 29]\n",
      "[7, 13, 31]\n",
      "[7, 23, 41]\n",
      "[7, 19, 67]\n",
      "[5, 29, 73]\n",
      "[7, 31, 73]\n",
      "[13, 37, 61]\n",
      "[7, 11, 13, 41]\n",
      "[13, 37, 97]\n",
      "[7, 73, 103]\n",
      "[3, 5, 47, 89]\n",
      "[7, 13, 19, 37]\n",
      "[11, 13, 17, 31]\n",
      "[7, 11, 13, 101]\n",
      "[13, 37, 241]\n",
      "[7, 13, 19, 73]\n",
      "[17, 41, 233]\n"
     ]
    }
   ],
   "source": [
    "for i in falseprimes:\n",
    "    print(primary(i))\n",
    "    # this code is going to print a list of the primary decompositions of all of the numbers in falseprimes"
   ]
  },
  {
   "cell_type": "markdown",
   "metadata": {},
   "source": [
    "## Conclusion"
   ]
  },
  {
   "cell_type": "markdown",
   "metadata": {},
   "source": [
    "The first false prime is 516 and the twentieth is 162401. This was found using a code for if a number is not prime and is prime-like within a range from 2 through 170,000. As for the primary decompositions, there is a trend happening with them. The number two never appears in any of these primary decompositions and there is not number that is repeated in any of the decompositions. All of these numbers in the twenty primary decompositions are all smaller primary numbers. The smallest primary decomposition number is 241, but compared to 160,000 that's relatively small. "
   ]
  }
 ],
 "metadata": {
  "kernelspec": {
   "display_name": "Python 3",
   "language": "python",
   "name": "python3"
  },
  "language_info": {
   "codemirror_mode": {
    "name": "ipython",
    "version": 3
   },
   "file_extension": ".py",
   "mimetype": "text/x-python",
   "name": "python",
   "nbconvert_exporter": "python",
   "pygments_lexer": "ipython3",
   "version": "3.7.3"
  }
 },
 "nbformat": 4,
 "nbformat_minor": 2
}
