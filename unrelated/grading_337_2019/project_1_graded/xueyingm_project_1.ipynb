{
 "cells": [
  {
   "cell_type": "markdown",
   "metadata": {},
   "source": [
    "A prime number is a number that has only two factors, 1 and itself. We can figure out is a number prime or not by two ways.\n",
    "\n",
    "1.divide the number(n) by all the integer(x)  n > x $\\geq$2\n",
    "\n",
    "2.test its congruences $x^{n} \\equiv x(mod n), n > x \\geq 0$\n",
    "\n",
    "if a number(n) is a prime number then it will be congruences for any positive interger less than itself\n",
    "\n",
    "But there are some speical case, that a number is congrence but is not a prime number. These numbers we call it false prime."
   ]
  },
  {
   "cell_type": "markdown",
   "metadata": {},
   "source": [
    "A number(x) is false prime when:\n",
    "* it is not a prime number\n",
    "* $y^{x} = y (mod x)$ for x > y $\\geq 0$"
   ]
  },
  {
   "cell_type": "markdown",
   "metadata": {},
   "source": [
    "To find the numbers that are a false prime, using the two function:\n",
    "* prime_like(n)\n",
    "* notprime(n)\n",
    "\n",
    "after combine the two functions together we can find the false prime"
   ]
  },
  {
   "cell_type": "markdown",
   "metadata": {},
   "source": [
    "## Prime_Like Function"
   ]
  },
  {
   "cell_type": "code",
   "execution_count": 1,
   "metadata": {},
   "outputs": [],
   "source": [
    "def prime_like(n): \n",
    "    #this function checks if a number is prime-like or not, \n",
    "    #it will return true if the function is prime- like\n",
    "    # It will return false if the function is not prime like\n",
    "    for w in range (2,n):\n",
    "        if ((w**n)%n)== (w%n):\n",
    "            return True #prime like\n",
    "        else:\n",
    "            return False #not prime"
   ]
  },
  {
   "cell_type": "markdown",
   "metadata": {},
   "source": [
    "#### Example: "
   ]
  },
  {
   "cell_type": "code",
   "execution_count": 2,
   "metadata": {},
   "outputs": [
    {
     "data": {
      "text/plain": [
       "False"
      ]
     },
     "execution_count": 2,
     "metadata": {},
     "output_type": "execute_result"
    }
   ],
   "source": [
    "prime_like(87) # the output indicates that it is not a prime number"
   ]
  },
  {
   "cell_type": "code",
   "execution_count": 3,
   "metadata": {},
   "outputs": [
    {
     "data": {
      "text/plain": [
       "True"
      ]
     },
     "execution_count": 3,
     "metadata": {},
     "output_type": "execute_result"
    }
   ],
   "source": [
    "prime_like(89) # output shows that it is prime-like (might be a prime)"
   ]
  },
  {
   "cell_type": "markdown",
   "metadata": {},
   "source": [
    "## NotPrime Funtion"
   ]
  },
  {
   "cell_type": "code",
   "execution_count": 4,
   "metadata": {},
   "outputs": [],
   "source": [
    "def notprime(n):\n",
    "    # this function tells is a number is a prime number or not\n",
    "    \n",
    "    factor = [] #this is a list that stores the factor of the number(n)\n",
    "    \n",
    "    for w in range (2,n): \n",
    "        # This \"for loop\" will test each number between 2 and the number\n",
    "        # is it a factor of the number\n",
    "        \n",
    "        if n%w == 0: #if w is a factor of the number then\n",
    "                    # this if statement is true\n",
    "                \n",
    "            factor.append(w) #this line will put each fator of the number\n",
    "                            # in the factor list\n",
    "            break \n",
    "\n",
    "    if factor: \n",
    "        # For this \"if statement\" if there is any factor in the the list\n",
    "        # it will return True otherwise it will return false\n",
    "        return True #not prime\n",
    "    else:\n",
    "        return False #prime\n"
   ]
  },
  {
   "cell_type": "markdown",
   "metadata": {},
   "source": [
    "#### Example:"
   ]
  },
  {
   "cell_type": "code",
   "execution_count": 5,
   "metadata": {},
   "outputs": [
    {
     "data": {
      "text/plain": [
       "False"
      ]
     },
     "execution_count": 5,
     "metadata": {},
     "output_type": "execute_result"
    }
   ],
   "source": [
    "notprime(89) # output shows it is a prime number"
   ]
  },
  {
   "cell_type": "code",
   "execution_count": 6,
   "metadata": {},
   "outputs": [
    {
     "data": {
      "text/plain": [
       "True"
      ]
     },
     "execution_count": 6,
     "metadata": {},
     "output_type": "execute_result"
    }
   ],
   "source": [
    "notprime(87) # output shows that it is not a prime number"
   ]
  },
  {
   "cell_type": "markdown",
   "metadata": {},
   "source": [
    "## False Prime"
   ]
  },
  {
   "cell_type": "markdown",
   "metadata": {},
   "source": [
    "Now we will combine the two function to get the find the false prime number"
   ]
  },
  {
   "cell_type": "code",
   "execution_count": 7,
   "metadata": {
    "scrolled": true
   },
   "outputs": [
    {
     "data": {
      "text/plain": [
       "[341,\n",
       " 561,\n",
       " 645,\n",
       " 1105,\n",
       " 1387,\n",
       " 1729,\n",
       " 1905,\n",
       " 2047,\n",
       " 2465,\n",
       " 2701,\n",
       " 2821,\n",
       " 3277,\n",
       " 4033,\n",
       " 4369,\n",
       " 4371,\n",
       " 4681,\n",
       " 5461,\n",
       " 6601,\n",
       " 7957,\n",
       " 8321]"
      ]
     },
     "execution_count": 7,
     "metadata": {},
     "output_type": "execute_result"
    }
   ],
   "source": [
    "false_prime = list()\n",
    "#First we will creat a empty list to put the false prime in\n",
    "\n",
    "q=3 # This is a random number that we select to check is the number\n",
    "    # is a false prime or not.\n",
    "    \n",
    "while len(false_prime) < 20: \n",
    "    # because we only want the first 20 false prime \n",
    "    # so we set a while loop that will keep testing number\n",
    "    # before we get the 20th number\n",
    "    # if you want more than 20 false prime number you can change the \n",
    "    # while loop to least than the number that you want\n",
    "    # for example if you want 30 false prime number you will write\n",
    "        # \"while len(false_prime) < 30\"\n",
    "        \n",
    "    q=q+1 #this (+1) will get the loop to take the next number\n",
    "    \n",
    "    if prime_like(q) and notprime(q):\n",
    "        false_prime.append(q)\n",
    "# the if statement will put the number in the list\n",
    "# if both prime_like and notprime function is True\n",
    "        \n",
    "false_prime # now we are going to print the list\n"
   ]
  },
  {
   "cell_type": "markdown",
   "metadata": {},
   "source": [
    "## Primary Function"
   ]
  },
  {
   "cell_type": "markdown",
   "metadata": {},
   "source": [
    "This function will give you an decompostion of each number"
   ]
  },
  {
   "cell_type": "markdown",
   "metadata": {},
   "source": [
    "Using this function we will find the factors of the false prime numbers"
   ]
  },
  {
   "cell_type": "code",
   "execution_count": 8,
   "metadata": {},
   "outputs": [],
   "source": [
    "def primary(n):\n",
    "    decomposition = list()\n",
    "    for k in range(2,n):\n",
    "        while n%k == 0:\n",
    "            decomposition.append(k)\n",
    "            n=n/k\n",
    "    return decomposition"
   ]
  },
  {
   "cell_type": "markdown",
   "metadata": {},
   "source": [
    "### below are all the decomposition of the 20 false prime numbers"
   ]
  },
  {
   "cell_type": "markdown",
   "metadata": {},
   "source": [
    "#### 341; 561; 645"
   ]
  },
  {
   "cell_type": "code",
   "execution_count": 9,
   "metadata": {},
   "outputs": [
    {
     "data": {
      "text/plain": [
       "([[11, 31], 341], [[3, 11, 17], 561], [[3, 5, 43], 645])"
      ]
     },
     "execution_count": 9,
     "metadata": {},
     "output_type": "execute_result"
    }
   ],
   "source": [
    "[primary(341),11*31],[primary(561), 3*11*17],[primary(645), 3*5*43]"
   ]
  },
  {
   "cell_type": "markdown",
   "metadata": {},
   "source": [
    "#### 1105 ; 1387"
   ]
  },
  {
   "cell_type": "code",
   "execution_count": 10,
   "metadata": {},
   "outputs": [
    {
     "data": {
      "text/plain": [
       "([[5, 13, 17], 1105], [[[19, 73], 1387]])"
      ]
     },
     "execution_count": 10,
     "metadata": {},
     "output_type": "execute_result"
    }
   ],
   "source": [
    "[primary(1105), 5*13*17],[[primary(1387), 19*73]]"
   ]
  },
  {
   "cell_type": "markdown",
   "metadata": {},
   "source": [
    "#### 1729 ; 1905"
   ]
  },
  {
   "cell_type": "code",
   "execution_count": 11,
   "metadata": {},
   "outputs": [
    {
     "data": {
      "text/plain": [
       "([[7, 13, 19], 1729], [[[3, 5, 127], 1905]])"
      ]
     },
     "execution_count": 11,
     "metadata": {},
     "output_type": "execute_result"
    }
   ],
   "source": [
    "[primary(1729), 7*13*19],[[primary(1905), 3*5*127]]"
   ]
  },
  {
   "cell_type": "markdown",
   "metadata": {},
   "source": [
    "#### 2047 ; 2465 ; 2701"
   ]
  },
  {
   "cell_type": "code",
   "execution_count": 12,
   "metadata": {},
   "outputs": [
    {
     "data": {
      "text/plain": [
       "([[23, 89], 2047], [[5, 17, 29], 2465], [[37, 73], 2701])"
      ]
     },
     "execution_count": 12,
     "metadata": {},
     "output_type": "execute_result"
    }
   ],
   "source": [
    "[primary(2047),23*89],[primary(2465), 5*17*29],[primary(2701), 37*73]"
   ]
  },
  {
   "cell_type": "markdown",
   "metadata": {},
   "source": [
    "#### 2821 ; 3277"
   ]
  },
  {
   "cell_type": "code",
   "execution_count": 13,
   "metadata": {},
   "outputs": [
    {
     "data": {
      "text/plain": [
       "([[7, 13, 31], 2821], [[[29, 113], 3277]])"
      ]
     },
     "execution_count": 13,
     "metadata": {},
     "output_type": "execute_result"
    }
   ],
   "source": [
    "[primary(2821), 7*13*31],[[primary(3277), 29*113]]"
   ]
  },
  {
   "cell_type": "markdown",
   "metadata": {},
   "source": [
    "#### 4033 ; 4369 ; 4371"
   ]
  },
  {
   "cell_type": "code",
   "execution_count": 14,
   "metadata": {},
   "outputs": [
    {
     "data": {
      "text/plain": [
       "([[37, 109], 4033], [[17, 257], 4369], [[3, 31, 47], 4371])"
      ]
     },
     "execution_count": 14,
     "metadata": {},
     "output_type": "execute_result"
    }
   ],
   "source": [
    "[primary(4033),37*109],[primary(4369), 17*257],[primary(4371), 3*31*47]"
   ]
  },
  {
   "cell_type": "markdown",
   "metadata": {},
   "source": [
    "#### 4681 ; 5461"
   ]
  },
  {
   "cell_type": "code",
   "execution_count": 15,
   "metadata": {},
   "outputs": [
    {
     "data": {
      "text/plain": [
       "([[31, 151], 4681], [[[43, 127], 5461]])"
      ]
     },
     "execution_count": 15,
     "metadata": {},
     "output_type": "execute_result"
    }
   ],
   "source": [
    "[primary(4681), 31*151],[[primary(5461), 43*127]]"
   ]
  },
  {
   "cell_type": "markdown",
   "metadata": {},
   "source": [
    "#### 6601 ; 7957 ; 8321"
   ]
  },
  {
   "cell_type": "code",
   "execution_count": 16,
   "metadata": {},
   "outputs": [
    {
     "data": {
      "text/plain": [
       "([[7, 23, 41], 6601], [[73, 109], 7957], [[53, 157], 8321])"
      ]
     },
     "execution_count": 16,
     "metadata": {},
     "output_type": "execute_result"
    }
   ],
   "source": [
    "[primary(6601),7*23*41],[primary(7957), 73*109],[primary(8321), 53*157]"
   ]
  },
  {
   "cell_type": "markdown",
   "metadata": {},
   "source": [
    "From what we see, we can sumerize two main point on this project\n",
    "1. a number that are not congruence is not a prime number but a number that is congruence might be a prime number\n",
    "2. the false prime number's decomposition are all prime numbers"
   ]
  },
  {
   "cell_type": "code",
   "execution_count": null,
   "metadata": {},
   "outputs": [],
   "source": []
  },
  {
   "cell_type": "code",
   "execution_count": null,
   "metadata": {},
   "outputs": [],
   "source": []
  }
 ],
 "metadata": {
  "kernelspec": {
   "display_name": "Python 3",
   "language": "python",
   "name": "python3"
  },
  "language_info": {
   "codemirror_mode": {
    "name": "ipython",
    "version": 3
   },
   "file_extension": ".py",
   "mimetype": "text/x-python",
   "name": "python",
   "nbconvert_exporter": "python",
   "pygments_lexer": "ipython3",
   "version": "3.7.3"
  }
 },
 "nbformat": 4,
 "nbformat_minor": 2
}
