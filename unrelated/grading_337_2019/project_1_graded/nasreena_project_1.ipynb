{
 "cells": [
  {
   "cell_type": "markdown",
   "metadata": {},
   "source": [
    "# Project 1  "
   ]
  },
  {
   "cell_type": "markdown",
   "metadata": {},
   "source": [
    "### **Introduction**\n",
    "The non-prime numbers are the numbers that have factors other than 1 and the number itself. which means that they have more than 2 factors. Example of non-prime numbers is 4 as the factor of 4 is 1,2,4 Also, sometimes they are called composite numbers. \n",
    "\n",
    "The primary objective of this report is to discover the false prime numbers."
   ]
  },
  {
   "cell_type": "code",
   "execution_count": 2,
   "metadata": {},
   "outputs": [],
   "source": [
    "# First we will define the prime numbers. \n",
    "def isprime(n):\n",
    "    prime= True      #Number is prime if n<2 \n",
    "    if n<2:\n",
    "        prime= False\n",
    "    for i in range(2,int(n**0.5)+1):\n",
    "        if n%i==0: \n",
    "            prime= False\n",
    "            break\n",
    "    return prime \n",
    "\n",
    "def myprimes(n):\n",
    "    numlist=[]\n",
    "    for x in range(n+1):\n",
    "        if isprime(x):\n",
    "            numlist.append(x)\n",
    "    return numlist"
   ]
  },
  {
   "cell_type": "code",
   "execution_count": 3,
   "metadata": {},
   "outputs": [],
   "source": [
    "# Define function isprimelike that return True if n is primelike otherwise it return False \n",
    "def isprimelike(p):   \n",
    "    prime= True\n",
    "    if p<2:\n",
    "        prime= False\n",
    "    for a in range(0,p):\n",
    "        if pow(a,p,p)!=a%p:    # function pow() is the same as (a**p)%p\n",
    "            prime= False\n",
    "            break \n",
    "    return prime"
   ]
  },
  {
   "cell_type": "code",
   "execution_count": 4,
   "metadata": {},
   "outputs": [
    {
     "data": {
      "text/plain": [
       "True"
      ]
     },
     "execution_count": 4,
     "metadata": {},
     "output_type": "execute_result"
    }
   ],
   "source": [
    "isprimelike(561)"
   ]
  },
  {
   "cell_type": "markdown",
   "metadata": {},
   "source": [
    "Since the integer is True which means that it is a prime-like. Now, we need to check the false prime numbers."
   ]
  },
  {
   "cell_type": "code",
   "execution_count": 5,
   "metadata": {},
   "outputs": [],
   "source": [
    "def falseprime():       # Define the false prime numbers  \n",
    "    x=2\n",
    "    notprimes=[]\n",
    "    \n",
    "    while len(notprimes)<=20:        # we need to know thw first 20 not prime numbers\n",
    "        if not isprime(x):\n",
    "             if isprimelike(x):\n",
    "                notprimes.append(x)\n",
    "        x=x+1\n",
    "    return notprimes"
   ]
  },
  {
   "cell_type": "code",
   "execution_count": 6,
   "metadata": {},
   "outputs": [],
   "source": [
    "def primary(n):             # we want to find the primary decomposition of each false prime number\n",
    "    decomplist= []\n",
    "    plist= []\n",
    "    for x in range(n+1):\n",
    "        if isprime(x):\n",
    "            plist.append(x)\n",
    "        \n",
    "    for x in plist:\n",
    "        while n%x==0:\n",
    "            decomplist.append(x)\n",
    "            n=n/x\n",
    "        if n==1:\n",
    "             break \n",
    "    return decomplist"
   ]
  },
  {
   "cell_type": "code",
   "execution_count": 7,
   "metadata": {},
   "outputs": [
    {
     "name": "stdout",
     "output_type": "stream",
     "text": [
      "[2, 2, 3]\n"
     ]
    }
   ],
   "source": [
    "print(primary(12))"
   ]
  },
  {
   "cell_type": "code",
   "execution_count": 8,
   "metadata": {},
   "outputs": [],
   "source": [
    "falselist=falseprime()"
   ]
  },
  {
   "cell_type": "code",
   "execution_count": 9,
   "metadata": {},
   "outputs": [
    {
     "name": "stdout",
     "output_type": "stream",
     "text": [
      "[3, 11, 17]\n",
      "[5, 13, 17]\n",
      "[7, 13, 19]\n",
      "[5, 17, 29]\n",
      "[7, 13, 31]\n",
      "[7, 23, 41]\n",
      "[7, 19, 67]\n",
      "[5, 29, 73]\n",
      "[7, 31, 73]\n",
      "[13, 37, 61]\n",
      "[7, 11, 13, 41]\n",
      "[13, 37, 97]\n",
      "[7, 73, 103]\n",
      "[3, 5, 47, 89]\n",
      "[7, 13, 19, 37]\n",
      "[11, 13, 17, 31]\n",
      "[7, 11, 13, 101]\n",
      "[13, 37, 241]\n",
      "[7, 13, 19, 73]\n",
      "[17, 41, 233]\n",
      "[7, 13, 31, 61]\n"
     ]
    }
   ],
   "source": [
    "for x in falselist:\n",
    "    print(primary(x))   # finding the first 20 factors for non-prime numbres"
   ]
  },
  {
   "cell_type": "markdown",
   "metadata": {},
   "source": [
    "When looking at these prime numbers, we realize that all of them are odd numbers. The factors of most of the non-prime numbres starts with 7. Also, most of the non-prime numbers have three factors. Only a few of them have four factors."
   ]
  },
  {
   "cell_type": "markdown",
   "metadata": {},
   "source": [
    "### Conclusion\n",
    "During this project, we found the first twinty non-prime numbers. Those numbers showed the multiple factors for all non-prime numbers.  "
   ]
  },
  {
   "cell_type": "code",
   "execution_count": null,
   "metadata": {},
   "outputs": [],
   "source": []
  }
 ],
 "metadata": {
  "kernelspec": {
   "display_name": "Python 3",
   "language": "python",
   "name": "python3"
  },
  "language_info": {
   "codemirror_mode": {
    "name": "ipython",
    "version": 3
   },
   "file_extension": ".py",
   "mimetype": "text/x-python",
   "name": "python",
   "nbconvert_exporter": "python",
   "pygments_lexer": "ipython3",
   "version": "3.7.4"
  }
 },
 "nbformat": 4,
 "nbformat_minor": 2
}
