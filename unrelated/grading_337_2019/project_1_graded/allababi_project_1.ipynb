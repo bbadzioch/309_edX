{
 "cells": [
  {
   "cell_type": "markdown",
   "metadata": {},
   "source": [
    "# Project 1: A prime or not a prime"
   ]
  },
  {
   "cell_type": "markdown",
   "metadata": {},
   "source": [
    "## Intro:\n",
    "A natural number is said to be prime if and only if it is only divisible by itself and 1.\n",
    "\n",
    "\n",
    "Prime numbers are used in many fields and technologies. They have unique properties which make them useful when storing data and to secure information. This is specifically due to these numbers not having any factors except themselves and one. Prime numbers have many different occurrences throughout mathematics including abstract algebra, number theory, and computer science. Prime numbers are also found in nature. A cicada’s lifecycle is based on prime numbers since they emerge every 7,13, or 17 years. Similarly, they are used in the arts, famous paintings often use prime numbers for structuring since they are appealing to the eye.   \n"
   ]
  },
  {
   "cell_type": "markdown",
   "metadata": {},
   "source": [
    "This project will explore what it means to be prime and how to find a prime number. It will explain two different ways to calculate a prime number, and it will show that one of these procedures produces false primes. This project will also show the code needed to find these primes, and how to find these false primes. Throughout the report, there will be discussions of prime numbers, prime factorization, modules and there uses in mathematics as well as their connections to primes. "
   ]
  },
  {
   "cell_type": "markdown",
   "metadata": {},
   "source": [
    "### Finding a prime number"
   ]
  },
  {
   "cell_type": "markdown",
   "metadata": {},
   "source": [
    "The simplest way to calculate a prime number is to continuously check if the number is divisible by each integer less than that number. For example, to check if $13$ is prime, compute if $\\frac{13}{1},\\frac{13}{2},\\frac{13}{3},\\frac{13}{4}, \\ldots ,\\frac{13}{13}.$ A prime number by definition will not divide evenly into any number, except one and itself. \n",
    "\n",
    "A function built into python is `a%b`. This divides the two integers given `a`and `b` and returns a remainder. If the number can be divided evenly then it would have a remainder of 0. If `a` is a prime number then all the remainders would never be 0, expect when dividing by one and itself. \n"
   ]
  },
  {
   "cell_type": "markdown",
   "metadata": {},
   "source": [
    "The function `isprime(n)` takes in an integer `n`and divides the given number by all the integer values less than `n`. The function then returns a Boolean value (`True`, or `False`) depending on if the number is prime."
   ]
  },
  {
   "cell_type": "code",
   "execution_count": 1,
   "metadata": {},
   "outputs": [],
   "source": [
    "def isprime(n):\n",
    "    \"\"\"    Checks to see if a function is prime using % function and returns a boolean value depending on if prime.\n",
    "    \n",
    "    Input:  integer n\n",
    "    Output: False: for a non prime number.  \n",
    "            True: for a prime number. \"\"\"\n",
    "    for w in range(2,n):\n",
    "        if n%w == 0: \n",
    "            return False\n",
    "    return True "
   ]
  },
  {
   "cell_type": "code",
   "execution_count": 2,
   "metadata": {},
   "outputs": [
    {
     "name": "stdout",
     "output_type": "stream",
     "text": [
      "True\n",
      "False\n",
      "False\n"
     ]
    }
   ],
   "source": [
    "print(isprime(19))\n",
    "print(isprime(28))\n",
    "print(isprime(2209))"
   ]
  },
  {
   "cell_type": "markdown",
   "metadata": {},
   "source": [
    "This code is very simple and only works when the input is a positive integer. It does not respond, to negative numbers, decimals, or fraction. This can be changed with some additional checks in the code.\n",
    "\n",
    "By using the  `int()` function which is built into python, any float will be turned into an integer.\n",
    "\n",
    "For negative numbers adding a check into the code, that checks if the input `n` is greater than or equal to 0. It then returns `False` if the number is negative. Similarly if the input is zero, the code will return `False`.\n"
   ]
  },
  {
   "cell_type": "markdown",
   "metadata": {},
   "source": [
    "Now that the code runs with any input, there are ways to make the code run faster. As it stands now the code checks ever number after the given input `n`. If the first test proved the number to be non-prime, the code will still continue to check all numbers. This can be fixed by the addition of the `break`. \n",
    "\n",
    "Another addition to speed up the code is changing the range that the code is working from. Currently the code checks ever integer from 2 to the given input `n`. This is not necessary. If there is a divisor of the number, it will always be within the range 1 to the $\\sqrt(n)$ of that number `n`."
   ]
  },
  {
   "cell_type": "code",
   "execution_count": 3,
   "metadata": {},
   "outputs": [],
   "source": [
    "def isprime2(n):\n",
    "    \"\"\"Checks to see if a function is prime using % functionreturns a boolean value depending on if prime\n",
    "    \n",
    "    \n",
    "    Input:  integer n\n",
    "    Output: False: for a non prime number.  \n",
    "            True: for a prime number. \n",
    "            False: for a negative number\n",
    "            False: for zero  \"\"\"\n",
    "    \n",
    "    if n is float: # checks for float value \n",
    "        n=int(n)\n",
    "        \n",
    "    if n<0:\n",
    "        return False #checks for negative \n",
    "    \n",
    "    if n==0:\n",
    "        return False #checks for zero \n",
    "    \n",
    "    for w in range(2,int(n**0.5)+1):  #checks for prime number \n",
    "        if n%w == 0:  \n",
    "            return False\n",
    "            break \n",
    "    return True "
   ]
  },
  {
   "cell_type": "code",
   "execution_count": 4,
   "metadata": {},
   "outputs": [
    {
     "name": "stdout",
     "output_type": "stream",
     "text": [
      "True\n",
      "False\n",
      "False\n"
     ]
    }
   ],
   "source": [
    "print(isprime2(5.2))\n",
    "print(isprime2(-5))\n",
    "print(isprime2(0))\n"
   ]
  },
  {
   "cell_type": "markdown",
   "metadata": {},
   "source": [
    "The function `myprimes` will take in an input `n` and return a list of all the prime integers that occur including and before the given integer. "
   ]
  },
  {
   "cell_type": "code",
   "execution_count": 5,
   "metadata": {},
   "outputs": [],
   "source": [
    "def myprimes(n):\n",
    "    \"\"\"This function takes in an integer, and returns a list of integers of all the prime that are smaller than the \n",
    "    given number \n",
    "    \n",
    "    Input: integer n\n",
    "    Output: answer: list of prime numbers\"\"\"\n",
    "    answer=[]\n",
    "    mylist=list(range(n+1))  #Creates a list from 0 to n \n",
    "    for x in mylist:\n",
    "        if(isprime2(x))==True:\n",
    "            answer.append(x)\n",
    "    return(answer)"
   ]
  },
  {
   "cell_type": "code",
   "execution_count": 6,
   "metadata": {},
   "outputs": [
    {
     "name": "stdout",
     "output_type": "stream",
     "text": [
      "[1, 2, 3, 5, 7, 11, 13]\n",
      "[1, 2, 3, 5, 7]\n"
     ]
    }
   ],
   "source": [
    "print(myprimes(13))\n",
    "print(myprimes(7))"
   ]
  },
  {
   "cell_type": "markdown",
   "metadata": {},
   "source": [
    "## Primary Factorization "
   ]
  },
  {
   "cell_type": "markdown",
   "metadata": {},
   "source": [
    "The Fundamental Theory of Arithmetic states that every natural number can be broken down into the products of its prime factors. For example, 12 can be broken into $2 * 2 * 3$. A prime number does not have any factors, since it can only be divisible by one and itself. Therefore, a prime number will return itself. \n",
    "\n",
    "The function below `primary(n)`will take an integer and return a list of the prime factors of that given number.  "
   ]
  },
  {
   "cell_type": "code",
   "execution_count": 7,
   "metadata": {},
   "outputs": [],
   "source": [
    "def primary(n):\n",
    "    \"\"\"Takes in a natural number, and returns the prime factorization of the given number in a list.\n",
    "    \n",
    "    Input: integer n\n",
    "    Output: answer: list of prime factorizations of n\"\"\"\n",
    "    answer=[]\n",
    "    mylist=myprimes(n)  #Creates list of primes less than input\n",
    "    \n",
    "    for x in mylist:     #iterates over list of primes\n",
    "        while n%x==0 and x!= 1:    # if input can be diveded evenly, it is a prime factor, and is added to the return \n",
    "            n=(n/x)\n",
    "            answer.append(x)\n",
    "        \n",
    "            \n",
    "    return answer"
   ]
  },
  {
   "cell_type": "code",
   "execution_count": 8,
   "metadata": {},
   "outputs": [
    {
     "name": "stdout",
     "output_type": "stream",
     "text": [
      "[2, 2, 3]\n",
      "[3, 3, 3, 37]\n",
      "[23]\n"
     ]
    }
   ],
   "source": [
    "print(primary(12))\n",
    "print(primary(999))\n",
    "print(primary(23))"
   ]
  },
  {
   "cell_type": "markdown",
   "metadata": {},
   "source": [
    "## Modules "
   ]
  },
  {
   "cell_type": "markdown",
   "metadata": {},
   "source": [
    "A module is a mathematical principle, where numbers are classified by their remainders after division. For example $6\\, mod\\, 3 $ is equal to 2 since $\\frac{8}{3}$ has a remainder 2. In other words $$a \\, = \\, b \\, mod\\,(n) $$ This is similar to the remainders used in the beginning of this report. \n",
    "\n",
    "If two numbers both have the same remainder in the same mod then they are congruent.\n",
    "\n",
    "$$4\\,mod\\,5 \\equiv\\, 9\\,mod\\,5 $$, $$4 \\equiv\\ 9\\,mod\\,5 $$"
   ]
  },
  {
   "cell_type": "markdown",
   "metadata": {},
   "source": [
    "The function below `congr_test(a,b,k)`takes in `a`, `b` and `k`. It will check if the remainder of dividing `a `by` k` is the same as dividing `b` by `k`. That is to say, it is checking what `a mod k` is and comparing it to what `b mod k`. And it returns a Boolean (`True`,`False`) if the values of `a` and `b` are congruent in `mod k`."
   ]
  },
  {
   "cell_type": "code",
   "execution_count": 9,
   "metadata": {},
   "outputs": [],
   "source": [
    "def congr_test(a,b,k):\n",
    "    \"\"\"This function takes in three values, and checks if a and b are congruent in module k\n",
    "    \n",
    "    Input: integer a , integer b, integer k\n",
    "    Output: True: if a mod k is equal to b mod k \n",
    "            False: if a mod k does not equal b mod k \"\"\"\n",
    "    if(a%k==b%k):\n",
    "        return True\n",
    "    else:\n",
    "        return False"
   ]
  },
  {
   "cell_type": "code",
   "execution_count": 10,
   "metadata": {},
   "outputs": [
    {
     "data": {
      "text/plain": [
       "True"
      ]
     },
     "execution_count": 10,
     "metadata": {},
     "output_type": "execute_result"
    }
   ],
   "source": [
    "congr_test(10,1,9)"
   ]
  },
  {
   "cell_type": "code",
   "execution_count": 11,
   "metadata": {},
   "outputs": [
    {
     "data": {
      "text/plain": [
       "False"
      ]
     },
     "execution_count": 11,
     "metadata": {},
     "output_type": "execute_result"
    }
   ],
   "source": [
    "congr_test(10,1,8)"
   ]
  },
  {
   "cell_type": "markdown",
   "metadata": {},
   "source": [
    "### Fermat's Little Theory"
   ]
  },
  {
   "cell_type": "markdown",
   "metadata": {},
   "source": [
    "A theory that includes modules and is centered around prime numbers is Fermat's Little Theory. A number `p` is said to be prime if for every integer `a` $a^p-a$ can be divided by p. That is simplified by the equation\n",
    "\n",
    "$$a^{p-1}\\equiv1\\,(mod \\, p)$$ \n",
    "\n",
    "A common corollary from this theorem is\n",
    "\n",
    "$$a^p \\, \\equiv \\, a \\, (mod\\, p) \\,\\,\\, for \\,\\,\\, 0\\,<a<\\,p$$\n",
    "\n",
    "That is to say, every prime number `p`, when raised to any integer `a` will be module congruent to that number in module `p`. \n"
   ]
  },
  {
   "cell_type": "markdown",
   "metadata": {},
   "source": [
    "The function `pow()`uses built in arithmetic to compute $(a^n) \\equiv \\, a \\, (mod\\, p) $. It makes the entire code run faster, which is extremely important in the later part of this report."
   ]
  },
  {
   "cell_type": "code",
   "execution_count": 12,
   "metadata": {},
   "outputs": [],
   "source": [
    "def congr_test_p(a,p):\n",
    "    \n",
    "    \"\"\" This is function checks if a^p congruent to a mod p. This function uses the built in version pow().\n",
    "    \n",
    "    Input: integer a, integer p\n",
    "    Output: True: if a^p mod p is equal to a mod p\n",
    "            False: if a^p mod p does not equal a mod p\"\"\"\n",
    "    \n",
    "    return pow(a,p,p)== a%p"
   ]
  },
  {
   "cell_type": "code",
   "execution_count": 13,
   "metadata": {},
   "outputs": [
    {
     "data": {
      "text/plain": [
       "True"
      ]
     },
     "execution_count": 13,
     "metadata": {},
     "output_type": "execute_result"
    }
   ],
   "source": [
    "congr_test_p(2,3)"
   ]
  },
  {
   "cell_type": "code",
   "execution_count": 14,
   "metadata": {},
   "outputs": [
    {
     "data": {
      "text/plain": [
       "False"
      ]
     },
     "execution_count": 14,
     "metadata": {},
     "output_type": "execute_result"
    }
   ],
   "source": [
    "congr_test_p(2,4)"
   ]
  },
  {
   "cell_type": "markdown",
   "metadata": {},
   "source": [
    "## Prime Like "
   ]
  },
  {
   "cell_type": "markdown",
   "metadata": {},
   "source": [
    "The second way to check if a code is prime is to see if it holds true for the Fermat's theorem. This function `primelike(n)` checks if a given input `n` is prime. Any prime number will hold true for the equation below, for any value of `a `\n",
    "\n",
    "$$\\,a^p\\equiv a \\,(mod\\, p)\\,\\,\\, for\\,\\,\\, 0\\,<\\,a\\,<\\,p$$. "
   ]
  },
  {
   "cell_type": "code",
   "execution_count": 15,
   "metadata": {},
   "outputs": [],
   "source": [
    "def primelike(n):\n",
    "    \"\"\"This checks to see if the input n is prime if it holds true for n^x congruent n mod x for all values of x<n\n",
    "    \n",
    "    Input: integer n\n",
    "    Output: True: if pases congr_test_p\n",
    "            False: if fails congr_test_p\"\"\"\n",
    "    answer=[]\n",
    "     \n",
    "    boolean=False \n",
    "    for x in range(2,n):  #Check the congr_test_p for every integer less than input n\n",
    "        boolean=False\n",
    "        if congr_test_p(x,n): \n",
    "            boolean=True\n",
    "        else:\n",
    "            boolean=False\n",
    "            break\n",
    "        \n",
    "    return boolean\n",
    "    \n",
    "            \n",
    "    \n",
    "            \n",
    "            "
   ]
  },
  {
   "cell_type": "code",
   "execution_count": 16,
   "metadata": {},
   "outputs": [
    {
     "data": {
      "text/plain": [
       "True"
      ]
     },
     "execution_count": 16,
     "metadata": {},
     "output_type": "execute_result"
    }
   ],
   "source": [
    "primelike(561)"
   ]
  },
  {
   "cell_type": "code",
   "execution_count": 17,
   "metadata": {},
   "outputs": [
    {
     "data": {
      "text/plain": [
       "False"
      ]
     },
     "execution_count": 17,
     "metadata": {},
     "output_type": "execute_result"
    }
   ],
   "source": [
    "primelike(72)"
   ]
  },
  {
   "cell_type": "markdown",
   "metadata": {},
   "source": [
    "The equation would be a good way to define prime numbers, except there are instances when a number fulfills the equation $a^p\\equiv a (mod p) for 0<a<p$ but is not prime. These numbers are called prime like. \n",
    "\n",
    "The function `list_of_false_prime(n)`below will continue to check all integers and make a list containing `n` elements that pass the `primelike(n)` function but are not prime, so they fail the original test of primes `isprime2(n)`."
   ]
  },
  {
   "cell_type": "code",
   "execution_count": 18,
   "metadata": {},
   "outputs": [],
   "source": [
    "def list_of_false_prime(n):\n",
    "    \"\"\"Returns a list with length n that has prime like integers and are not prime\"\"\"\n",
    "    answer=[]\n",
    "    x=2\n",
    "    while(len(answer)<n):  # Will continue to check the loop as long as the list is shorter and input n\n",
    "        if not isprime2(x) and primelike(x):   # Checks if it is passes Fermats Theorum, but is not a true prime\n",
    "            answer.append(x)\n",
    "            x=x+1\n",
    "        else:\n",
    "            x=x+1\n",
    "            \n",
    "    return(answer)\n",
    "            "
   ]
  },
  {
   "cell_type": "code",
   "execution_count": 19,
   "metadata": {},
   "outputs": [
    {
     "data": {
      "text/plain": [
       "[561,\n",
       " 1105,\n",
       " 1729,\n",
       " 2465,\n",
       " 2821,\n",
       " 6601,\n",
       " 8911,\n",
       " 10585,\n",
       " 15841,\n",
       " 29341,\n",
       " 41041,\n",
       " 46657,\n",
       " 52633,\n",
       " 62745,\n",
       " 63973,\n",
       " 75361,\n",
       " 101101,\n",
       " 115921,\n",
       " 126217,\n",
       " 162401]"
      ]
     },
     "execution_count": 19,
     "metadata": {},
     "output_type": "execute_result"
    }
   ],
   "source": [
    "list_of_false_prime(20)"
   ]
  },
  {
   "cell_type": "markdown",
   "metadata": {},
   "source": [
    "The function`primary_decomposition(n)` will first make a list with length `n` of all the prime like numbers, which are not prime, and find the prime factorization of each of the elements. It does this by calling the function in the beginning part of the report `primary(n)`. "
   ]
  },
  {
   "cell_type": "code",
   "execution_count": 20,
   "metadata": {},
   "outputs": [],
   "source": [
    "def primary_decomposition (n):\n",
    "    \"\"\"This function will take a single imput n, and return a list with n size that has a primelike number\n",
    "    and the prime factorization of that primelike number \"\"\"\n",
    "    mylist = list_of_false_prime(n)\n",
    "    answer =[]\n",
    "    for x in mylist:\n",
    "        y= primary(x)\n",
    "        answer.append(f'{x}  {y}' )\n",
    "    return answer "
   ]
  },
  {
   "cell_type": "code",
   "execution_count": 21,
   "metadata": {},
   "outputs": [
    {
     "data": {
      "text/plain": [
       "['561  [3, 11, 17]',\n",
       " '1105  [5, 13, 17]',\n",
       " '1729  [7, 13, 19]',\n",
       " '2465  [5, 17, 29]',\n",
       " '2821  [7, 13, 31]',\n",
       " '6601  [7, 23, 41]',\n",
       " '8911  [7, 19, 67]',\n",
       " '10585  [5, 29, 73]',\n",
       " '15841  [7, 31, 73]',\n",
       " '29341  [13, 37, 61]',\n",
       " '41041  [7, 11, 13, 41]',\n",
       " '46657  [13, 37, 97]',\n",
       " '52633  [7, 73, 103]',\n",
       " '62745  [3, 5, 47, 89]',\n",
       " '63973  [7, 13, 19, 37]',\n",
       " '75361  [11, 13, 17, 31]',\n",
       " '101101  [7, 11, 13, 101]',\n",
       " '115921  [13, 37, 241]',\n",
       " '126217  [7, 13, 19, 73]',\n",
       " '162401  [17, 41, 233]']"
      ]
     },
     "execution_count": 21,
     "metadata": {},
     "output_type": "execute_result"
    }
   ],
   "source": [
    "primary_decomposition(20)"
   ]
  },
  {
   "cell_type": "markdown",
   "metadata": {},
   "source": [
    "There are many points to take away from these decompositions, and false prime numbers. One point to notice is how spaced out the distance between each of these false prime numbers are. This is comparable to how spaced out prime numbers are found. Similar to prime numbers, there are infinite false prime number.  \n",
    "\n",
    "None of the false primes have a prime factorization that is an even number. This was to be expected, since 2 is the only even number prime, and none of the prime like have an even factor. Similarly, none of the like prime numbers have repeat number for their factorization. No prime number divides these false primes more than once. This is called being square free.\n",
    "\n",
    "Lastly, a take away is each prime like number has at least 3 decompositions of prime factorization. \n",
    "\n",
    "These sets of false prime numbers are called **Carmichael's numbers**. "
   ]
  },
  {
   "cell_type": "markdown",
   "metadata": {},
   "source": [
    "# Conclustion: \n",
    "\n",
    "This project has shown how prime numbers are calculated. Our original code `ispirme2` continuously divides the suspected prime number by smaller integers and searching for remainders. Our second prime check `primelike` checked if a number passed Fermat's Theory. This involved using Modula Arithmetic. Although this prime check proved to create false primes or the Carmichael's numbers. \n",
    "\n",
    "Mathematicians are constantly learning more and more about prime numbers, and are constantly trying to find faster and more efficient ways to calculate prime numbers. There are many ways to calculate both Carmichael numbers and prime numbers.\n",
    "\n"
   ]
  },
  {
   "cell_type": "code",
   "execution_count": null,
   "metadata": {},
   "outputs": [],
   "source": []
  }
 ],
 "metadata": {
  "kernelspec": {
   "display_name": "Python 3",
   "language": "python",
   "name": "python3"
  },
  "language_info": {
   "codemirror_mode": {
    "name": "ipython",
    "version": 3
   },
   "file_extension": ".py",
   "mimetype": "text/x-python",
   "name": "python",
   "nbconvert_exporter": "python",
   "pygments_lexer": "ipython3",
   "version": "3.7.4"
  }
 },
 "nbformat": 4,
 "nbformat_minor": 2
}
