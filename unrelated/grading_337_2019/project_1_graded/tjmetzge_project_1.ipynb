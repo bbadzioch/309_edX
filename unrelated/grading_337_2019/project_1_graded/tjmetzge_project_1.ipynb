{
 "cells": [
  {
   "cell_type": "markdown",
   "metadata": {},
   "source": [
    "# Part 1: Find the first 20 false primes\n",
    "\n",
    "## Tim Metzger - 50235553"
   ]
  },
  {
   "cell_type": "markdown",
   "metadata": {},
   "source": [
    "## Introduction"
   ]
  },
  {
   "cell_type": "markdown",
   "metadata": {},
   "source": [
    "#### A prime number is a number greater than 1, but it is only divisable by 1 and itself. One key property that relates to prime numbers is congruency. The Therom states if $p$ is prime, then $a^p\\equiv a (mod p)$ for any integer $0 < a < p$. What we are trying to find are false primes, which pass the congruency test but are not prime numbers. Our first goal was to find the first 20 false primes. The next step was to find the primary decomposition of each false prime. It is a fact that any integer $n > 1$ can be written as multiple prime numbers multiplied by eachother. These numbers are considered the primary decomposition of the integer, which is what we are trying to find for each of the 20 false primes. Finally, I will have some final thoughts on flase primes and their properties at the end."
   ]
  },
  {
   "cell_type": "markdown",
   "metadata": {},
   "source": [
    "**This function returns `True` if prime and returns `False` if not**"
   ]
  },
  {
   "cell_type": "code",
   "execution_count": 4,
   "metadata": {},
   "outputs": [],
   "source": [
    "def isprime2(n):\n",
    "    if n < 2:\n",
    "        return(False)\n",
    "    for y in range(2, (int(n**.5)+1)):\n",
    "        if n%y==0:\n",
    "            return(False)\n",
    "    return(True)"
   ]
  },
  {
   "cell_type": "markdown",
   "metadata": {},
   "source": [
    "**This function runs the congruency test and returns `True` if it passes it**"
   ]
  },
  {
   "cell_type": "code",
   "execution_count": 6,
   "metadata": {},
   "outputs": [],
   "source": [
    "def isprimelike(n):\n",
    "    primelike=True\n",
    "    for a in range(n):\n",
    "        if not cong_test_p(a, n):\n",
    "            return(False)\n",
    "    return(True)"
   ]
  },
  {
   "cell_type": "markdown",
   "metadata": {},
   "source": [
    "**This is the congruency test, which returns $a^p\\equiv a (mod p)$, but through a built in function pow. This makes the run time of the functions decrease and go much quicker**"
   ]
  },
  {
   "cell_type": "code",
   "execution_count": 5,
   "metadata": {},
   "outputs": [],
   "source": [
    "def cong_test_p(a,p):\n",
    "    return((pow(a,p,p))==a%p)"
   ]
  },
  {
   "cell_type": "markdown",
   "metadata": {},
   "source": [
    "**This function takes an argument with how many false primes you want and will return the first `n` false primes. It checks to see if the congruency test passes and if the number is not prime. If both of these things are true, the false prime is added to the end of the list**"
   ]
  },
  {
   "cell_type": "code",
   "execution_count": 7,
   "metadata": {},
   "outputs": [],
   "source": [
    "def falseprimes(n):\n",
    "    lst = []\n",
    "    y = 2 ## this is a counter, it increses by one every time the for loop ends one loop\n",
    "    while len(lst) <= (n-1):\n",
    "        if (not isprime2(y)) and isprimelike(y):\n",
    "            lst.append(y)\n",
    "        y= y + 1\n",
    "    return lst"
   ]
  },
  {
   "cell_type": "markdown",
   "metadata": {},
   "source": [
    "**This assigns the variable `firsttwenty` to a list of the first twenty false primes and then prints the list**"
   ]
  },
  {
   "cell_type": "code",
   "execution_count": 9,
   "metadata": {},
   "outputs": [
    {
     "name": "stdout",
     "output_type": "stream",
     "text": [
      "[561, 1105, 1729, 2465, 2821, 6601, 8911, 10585, 15841, 29341, 41041, 46657, 52633, 62745, 63973, 75361, 101101, 115921, 126217, 162401]\n"
     ]
    }
   ],
   "source": [
    "firsttwenty = falseprimes(20)\n",
    "print(firsttwenty)"
   ]
  },
  {
   "cell_type": "markdown",
   "metadata": {},
   "source": [
    "**This function does multiple things, but starts with an argument of any integer. Then it gets a list of every prime number from two to the integer given to the function; and then for every number in the list, it checks to see if the integer is divisible by the prime number, getting the decomposition of the integer**\n"
   ]
  },
  {
   "cell_type": "code",
   "execution_count": 31,
   "metadata": {},
   "outputs": [],
   "source": [
    "def singledec(x):\n",
    "    decomp = []\n",
    "    plist = []\n",
    "    for y in range(2, x +1):\n",
    "        if isprime2(y):\n",
    "            plist.append(y)\n",
    "    for p in plist:\n",
    "        while x%p == 0:\n",
    "            decomp.append(p)\n",
    "            x = x/p\n",
    "        if x==1:\n",
    "            return decomp"
   ]
  },
  {
   "cell_type": "markdown",
   "metadata": {},
   "source": [
    "**This function takes a list of integers as an argument, and calls the `singledec()` function to get the decomposition of every number in the list. These are then put into a dictionary, pairing each integer to its decomposition which is in a list**"
   ]
  },
  {
   "cell_type": "code",
   "execution_count": 32,
   "metadata": {},
   "outputs": [],
   "source": [
    "def listdec(lst):\n",
    "    alldec = {}\n",
    "    for x in lst:\n",
    "        dec = singledec(x)\n",
    "        alldec[x] = dec\n",
    "    return alldec\n",
    "        "
   ]
  },
  {
   "cell_type": "markdown",
   "metadata": {},
   "source": [
    "**This calls the `listdec` fuction with the argument being the list with the first twenty false primes**"
   ]
  },
  {
   "cell_type": "code",
   "execution_count": 33,
   "metadata": {},
   "outputs": [
    {
     "data": {
      "text/plain": [
       "{561: [3, 11, 17],\n",
       " 1105: [5, 13, 17],\n",
       " 1729: [7, 13, 19],\n",
       " 2465: [5, 17, 29],\n",
       " 2821: [7, 13, 31],\n",
       " 6601: [7, 23, 41],\n",
       " 8911: [7, 19, 67],\n",
       " 10585: [5, 29, 73],\n",
       " 15841: [7, 31, 73],\n",
       " 29341: [13, 37, 61],\n",
       " 41041: [7, 11, 13, 41],\n",
       " 46657: [13, 37, 97],\n",
       " 52633: [7, 73, 103],\n",
       " 62745: [3, 5, 47, 89],\n",
       " 63973: [7, 13, 19, 37],\n",
       " 75361: [11, 13, 17, 31],\n",
       " 101101: [7, 11, 13, 101],\n",
       " 115921: [13, 37, 241],\n",
       " 126217: [7, 13, 19, 73],\n",
       " 162401: [17, 41, 233]}"
      ]
     },
     "execution_count": 33,
     "metadata": {},
     "output_type": "execute_result"
    }
   ],
   "source": [
    "listdec(firsttwenty)"
   ]
  },
  {
   "cell_type": "markdown",
   "metadata": {},
   "source": [
    "## Part 3: Properties of False Primes"
   ]
  },
  {
   "cell_type": "markdown",
   "metadata": {},
   "source": [
    "   **One main thing that I noticecd was that every integer is based off of these prime numbers, shown in the primary decomposition. Every integer is made up of prime numbers multiplied by eachother. False primes are in between prime numbers and composite numbers(opposite of prime). While they pass the congruency test that was previously noted, they are not prime numbers because their primary decomposition is made up of at least 3 prime numbers. Actual prime number's have a primary decomposition with only two numbers, `1` and itself. Prime numbers also seem to be very rare, with the first 20 being 160,000 numbers apart.**"
   ]
  },
  {
   "cell_type": "markdown",
   "metadata": {},
   "source": [
    "## Conclusion"
   ]
  },
  {
   "cell_type": "markdown",
   "metadata": {},
   "source": [
    "**What I noticed was how rare the false primes were, which effectd my `falseprimes` function at first which took way too long to run. What I did was use a built in function `pow` as stated earlier and it cut down the runtime for the function to about 10 seconds. Overall I was able to find the first twenty false primes and the decomposition for each of these numbers and work through the code to make it run fluintley.**"
   ]
  }
 ],
 "metadata": {
  "kernelspec": {
   "display_name": "Python 3",
   "language": "python",
   "name": "python3"
  },
  "language_info": {
   "codemirror_mode": {
    "name": "ipython",
    "version": 3
   },
   "file_extension": ".py",
   "mimetype": "text/x-python",
   "name": "python",
   "nbconvert_exporter": "python",
   "pygments_lexer": "ipython3",
   "version": "3.7.1"
  }
 },
 "nbformat": 4,
 "nbformat_minor": 2
}
