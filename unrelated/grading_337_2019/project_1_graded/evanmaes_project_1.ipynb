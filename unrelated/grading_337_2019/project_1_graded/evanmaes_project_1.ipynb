{
 "cells": [
  {
   "cell_type": "markdown",
   "metadata": {},
   "source": [
    "# Project 1: A prime or not a prime\n",
    "## Evan Maestri\n",
    "## 15 September 2019\n",
    "## MTH 337"
   ]
  },
  {
   "cell_type": "markdown",
   "metadata": {},
   "source": [
    "# Introduction"
   ]
  },
  {
   "cell_type": "markdown",
   "metadata": {},
   "source": [
    "When looking at how to understand prime numbers, a noteworthy concept to utilize is congruence. For any $p$ that is prime, where $p>a \\ge 0 $, it is true that: \n",
    "\n",
    "__Theorem 1:__\n",
    "$$a^p \\equiv a (mod p)$$\n",
    "\n",
    "Thus, by checking if a number follows this theorem, it would represent a consistent way for determining prime numbers. However, prime numbers are not the only numbres that satisfy this formula. The goal of this project is to utilize python to explore _prime-like_ numbers and _false-primes_. A _prime-like_ number, $p \\ge 2$, is one that follows theorem 1 and is true for all $p>a \\ge 0 $. A _false-prime_ is _prime-like_, yet it is _not_ prime. Herein, the first 20 prime-like numbers will be reported and their primary decomposition will be determined. This exploration will allow for the properties of false-primes to become more apparent."
   ]
  },
  {
   "cell_type": "markdown",
   "metadata": {},
   "source": [
    "# Python Script"
   ]
  },
  {
   "cell_type": "markdown",
   "metadata": {},
   "source": [
    "The function `congr_test` below checks that theorem 1 is true. The reason this is relevant to our study is because there are numbers that follow this theorem ($p>2$), and yet are not prime. These numbers will be refered to as _false primes_ for the remainder of this report."
   ]
  },
  {
   "cell_type": "code",
   "execution_count": 6,
   "metadata": {},
   "outputs": [],
   "source": [
    "def congr_test(a,p):\n",
    "    return pow(a,p,p)==a%p"
   ]
  },
  {
   "cell_type": "markdown",
   "metadata": {},
   "source": [
    "The function `isprimelike(n)` determines if the $n$ being checked follows the aforementioned theorem 1 for prime numbers. It returns a boolean value for whether the value of `n` follows the rule."
   ]
  },
  {
   "cell_type": "code",
   "execution_count": 7,
   "metadata": {},
   "outputs": [],
   "source": [
    "def isprimelike(n):\n",
    "    primelike=True\n",
    "  \n",
    "    for a in range(2, n):\n",
    "        if not (congr_test(a,n)):\n",
    "            primelike = False                 \n",
    "            break                #once n is known to not be primelike, exit the innermost loop and return false\n",
    "    return primelike  "
   ]
  },
  {
   "cell_type": "markdown",
   "metadata": {},
   "source": [
    "Next, a function `isprime(n)` was written to determine if a number $n$ is prime or not. Essentially it checks one-by-one if $n$ divided by every number in the range from 2 to the rounded integer value of $\\sqrt n +1$ has a remainder. If it does not divide perfectly and has a remainder, this means that $n$ is not prime."
   ]
  },
  {
   "cell_type": "code",
   "execution_count": 8,
   "metadata": {},
   "outputs": [],
   "source": [
    "def isprime(n):\n",
    "    prime= True\n",
    "    if n<2:\n",
    "        prime=False\n",
    "    # only loop to the the integer of the sqrt of n\n",
    "    # if there is a remainder when n is divided by w, then the number is not prime\n",
    "    for w in range(2,int(n**0.5)+1):  \n",
    "        if n%w==0:\n",
    "            prime = False\n",
    "            break\n",
    "    return prime"
   ]
  },
  {
   "cell_type": "markdown",
   "metadata": {},
   "source": [
    "Then the `myfalseprimes(n)` was created to combine the previous `isprimelike(n)` and `isprime(n)` functions. The purpose of the new function is to find the first 20 _false primes_. Each of the 20 numbers that are output follow theorem 1 but are not prime numbers."
   ]
  },
  {
   "cell_type": "code",
   "execution_count": 9,
   "metadata": {},
   "outputs": [],
   "source": [
    "def myfalseprimes(n):\n",
    "    primelist=[]\n",
    "    num=2\n",
    "    \n",
    "    #loop until length of false primelist is 20\n",
    "    while len(primelist) <20:         \n",
    "        for x in range(num, n+1):  \n",
    "            #checks if the number is not prime AND is primelike\n",
    "            if (not isprime(x)) and isprimelike(x): \n",
    "                num=x\n",
    "                primelist.append(x)\n",
    "    return primelist"
   ]
  },
  {
   "cell_type": "markdown",
   "metadata": {},
   "source": [
    "The `myfalseprimes(n)` function was run in order to produce the list of 20 _false primes_."
   ]
  },
  {
   "cell_type": "code",
   "execution_count": 11,
   "metadata": {},
   "outputs": [
    {
     "name": "stdout",
     "output_type": "stream",
     "text": [
      "false primes\n",
      "------------\n",
      "    561\n",
      "   1105\n",
      "   1729\n",
      "   2465\n",
      "   2821\n",
      "   6601\n",
      "   8911\n",
      "  10585\n",
      "  15841\n",
      "  29341\n",
      "  41041\n",
      "  46657\n",
      "  52633\n",
      "  62745\n",
      "  63973\n",
      "  75361\n",
      " 101101\n",
      " 115921\n",
      " 126217\n",
      " 162401\n"
     ]
    }
   ],
   "source": [
    "falseprimes = myfalseprimes(162401)\n",
    "\n",
    "print('false primes')\n",
    "print('------------')\n",
    "\n",
    "for x in falseprimes:\n",
    "    print(' {:6}'.format(x))"
   ]
  },
  {
   "cell_type": "markdown",
   "metadata": {},
   "source": [
    "The `primary(n)` function is utilized in order to determine the primary decomposition of the 20 false primes that were generated by the previous python script."
   ]
  },
  {
   "cell_type": "code",
   "execution_count": 134,
   "metadata": {},
   "outputs": [],
   "source": [
    "def primary(n):\n",
    "    '''Loops through the divisor list, and when the remainder of n%w is 0, it appends it it to the final decomposition list.\n",
    "        Resets the n to n=n/w each time a proper divisor is found and then checks if that divisor can be utilized again.\n",
    "        Once n=1, it outputs the final primary decomposition list.'''\n",
    "    \n",
    "    num=n\n",
    "    primelist=[]\n",
    "    \n",
    "    #creates a list of all possible prime divisors of n\n",
    "    for x in range(n+1):                               \n",
    "        if (isprime(x)) & (x>1):\n",
    "            primelist.append(x)\n",
    "       \n",
    "    finaldecomp=''\n",
    "\n",
    "    for w in primelist:                 \n",
    "        while (n !=1) & (n%w==0):                \n",
    "            finaldecomp= finaldecomp + ' ' + str(w)\n",
    "            n = n/w\n",
    "            \n",
    "    return finaldecomp"
   ]
  },
  {
   "cell_type": "markdown",
   "metadata": {},
   "source": [
    "Below are the primary decompositions for each of the 20 false primes."
   ]
  },
  {
   "cell_type": "code",
   "execution_count": 110,
   "metadata": {},
   "outputs": [
    {
     "name": "stdout",
     "output_type": "stream",
     "text": [
      "false primes     primary decomposition\n",
      "------------     ----------------------\n",
      "    561               3 11 17   \n",
      "   1105               5 13 17   \n",
      "   1729               7 13 19   \n",
      "   2465               5 17 29   \n",
      "   2821               7 13 31   \n",
      "   6601               7 23 41   \n",
      "   8911               7 19 67   \n",
      "  10585               5 29 73   \n",
      "  15841               7 31 73   \n",
      "  29341               13 37 61  \n",
      "  41041               7 11 13 41\n",
      "  46657               13 37 97  \n",
      "  52633               7 73 103  \n",
      "  62745               3 5 47 89 \n",
      "  63973               7 13 19 37\n",
      "  75361               11 13 17 31\n",
      " 101101               7 11 13 101\n",
      " 115921               13 37 241 \n",
      " 126217               7 13 19 73\n",
      " 162401               17 41 233 \n"
     ]
    }
   ],
   "source": [
    "falseprimes = [561, 1105, 1729, 2465, 2821, 6601, 8911, 10585, 15841, 29341, 41041, 46657, 52633, 62745, 63973, \n",
    "               75361, 101101, 115921, 126217, 162401]\n",
    "\n",
    "print('false primes     primary decomposition')\n",
    "print('------------     ----------------------')\n",
    "\n",
    "for x in falseprimes:\n",
    "    print(' {:6}              {:11}'.format(x, primary(x)))    "
   ]
  },
  {
   "cell_type": "markdown",
   "metadata": {},
   "source": [
    "# Conclusion"
   ]
  },
  {
   "cell_type": "markdown",
   "metadata": {},
   "source": [
    "Functions were written in order to examine congruence, _prime-like_ numbers, and prime numbers. If _only_ prime numbers followed theorem 1, then this would represent a novel way to identify prime numbers. However, since there exists _false-prime_ numbers, using theorem 1 alone would not produce a list of just prime numbers. Thus, the first 20 _false-prime_ numbers and their primary decomposition were explored in this project. \n",
    "\n",
    "One property of a _false-prime_ is that it must be able to be written as a primary decomposition. For each of the 20 prime numbers that are listed above, each of them are able to be written as being made up of only prime numbers. The 20 false primes, which must satisfy the rule that they are not prime themselves, can be written as the decomposition of prime numbers. That seems counterintuitive. The importance of this property and its practical applications are not completely known to me.\n",
    "\n",
    "However, identifying prime numbers does have applications in data encyption, such as in the case of transmitting information. Therefore, this preliminary study in idenitifying prime numbers was useful in better understanding the relations and properties of prime numbers."
   ]
  }
 ],
 "metadata": {
  "kernelspec": {
   "display_name": "Python 3",
   "language": "python",
   "name": "python3"
  },
  "language_info": {
   "codemirror_mode": {
    "name": "ipython",
    "version": 3
   },
   "file_extension": ".py",
   "mimetype": "text/x-python",
   "name": "python",
   "nbconvert_exporter": "python",
   "pygments_lexer": "ipython3",
   "version": "3.7.1"
  }
 },
 "nbformat": 4,
 "nbformat_minor": 2
}
