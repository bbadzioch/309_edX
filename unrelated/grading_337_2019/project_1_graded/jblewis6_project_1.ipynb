{
 "cells": [
  {
   "cell_type": "markdown",
   "metadata": {},
   "source": [
    "## MTH 337 Project 1"
   ]
  },
  {
   "cell_type": "markdown",
   "metadata": {},
   "source": [
    "## Introduction"
   ]
  },
  {
   "cell_type": "markdown",
   "metadata": {},
   "source": [
    "The goal of this project is to explore the interaction between integers, integral primes and prime likes (which are called false primes) and the primary decomposition of those false primes. We generally are interested, when we are given an integer $n$, if it is prime like, and if $n$ is a prime number or not. \n",
    "\n",
    "But what is a prime? Given two integers, $m$ and $n$, we say that $m$ divides $n$ denoted $m\\mid n$ if there is another integer $k$ so that $mk=n$. We call $m$ a divisor of $n$. We call a positive integer $p$ prime if the only positive divisors of $p$ are 1 and $p$. \n",
    "\n",
    "We know that every prime integer is also prime-like. If a number $p$, $p>1$, $a^p\\equiv a$(mod p) for any integer $0<a<p $, then $p$ is prime like.\n",
    "\n",
    "The first part of the project will consist of writing functions to check if a number is prime and prime like, so Python can then use these functions to create a list of false prime numbers.  In the second part, we will create functions to get the prime decomposition for each false prime integer we found in part 1."
   ]
  },
  {
   "cell_type": "markdown",
   "metadata": {},
   "source": [
    "## Part 1\n",
    "\n",
    "In this part of the project, we will be creating a function, isprimelike(n) that will test if an integer, $n$ is prime like.  We will then make a list of those prime like numbers.  After we will create a function, isprime(n) to check if an integer $n$ is a prime number.  Once we have those functions, we can check if these numbers are false primes by checking if they are prime like and not a prime number.  We will then compile a list of the first 20 false prime numbers.  \n"
   ]
  },
  {
   "cell_type": "code",
   "execution_count": 1,
   "metadata": {},
   "outputs": [],
   "source": [
    "def congr_test_p(a,p): #we are defining a function to determine if two numbers are prime like\n",
    "    return(pow(a,p,p)==a%p) #a number needs to pass this test in order to be prime like"
   ]
  },
  {
   "cell_type": "code",
   "execution_count": 2,
   "metadata": {},
   "outputs": [
    {
     "data": {
      "text/plain": [
       "True"
      ]
     },
     "execution_count": 2,
     "metadata": {},
     "output_type": "execute_result"
    }
   ],
   "source": [
    "congr_test_p(5,7)"
   ]
  },
  {
   "cell_type": "code",
   "execution_count": 2,
   "metadata": {},
   "outputs": [],
   "source": [
    "def isprimelike(n): #this function will check if a number is prime like\n",
    "    for a in range(1,n):\n",
    "        if not congr_test_p(a,n): #need all numbers in range to pass\n",
    "            return False\n",
    "        \n",
    "    return True"
   ]
  },
  {
   "cell_type": "code",
   "execution_count": 13,
   "metadata": {},
   "outputs": [
    {
     "data": {
      "text/plain": [
       "True"
      ]
     },
     "execution_count": 13,
     "metadata": {},
     "output_type": "execute_result"
    }
   ],
   "source": [
    "isprimelike(7) \n",
    "#checking if the integer 7 is prime like, which is testing the code to see if it is working properly."
   ]
  },
  {
   "cell_type": "code",
   "execution_count": 14,
   "metadata": {},
   "outputs": [
    {
     "data": {
      "text/plain": [
       "False"
      ]
     },
     "execution_count": 14,
     "metadata": {},
     "output_type": "execute_result"
    }
   ],
   "source": [
    "isprimelike(30)\n",
    "#checking if the integer 30 is prime like, which is testing the code to see if it is working properly."
   ]
  },
  {
   "cell_type": "code",
   "execution_count": 17,
   "metadata": {},
   "outputs": [],
   "source": [
    "def listprimelikes(n): #This function will generate a list of prime like numbers\n",
    "    mylist=[]          #We create an empty list to which we can add prime likes as they are found\n",
    "    k=0               #this makes the function start at 0\n",
    "    while len(mylist)<n:\n",
    "        if isprimelike(k):\n",
    "            mylist.append(k) #adds the prime like numbers to the list\n",
    "        k+=1          #this makes the numbers being checked increase by one each time\n",
    "    return(mylist)"
   ]
  },
  {
   "cell_type": "code",
   "execution_count": 18,
   "metadata": {},
   "outputs": [
    {
     "data": {
      "text/plain": [
       "[0, 1, 2, 3, 5, 7, 11, 13, 17, 19, 23, 29, 31, 37, 41]"
      ]
     },
     "execution_count": 18,
     "metadata": {},
     "output_type": "execute_result"
    }
   ],
   "source": [
    "listprimelikes(15)\n",
    "#checking a list of the first 15 prime like numbers, which is testing the code to see if it is working properly."
   ]
  },
  {
   "cell_type": "code",
   "execution_count": 19,
   "metadata": {},
   "outputs": [],
   "source": [
    "def isprime(n): #This function will test an integer for primality.\n",
    "    prime=True\n",
    "    if n<2:\n",
    "        prime=False\n",
    "        for i in range(2,n):\n",
    "            if n%i==0:  #if the remainder upon division is zero\n",
    "                prime= False  #we can conclude the input is not prime\n",
    "                break\n",
    "        return prime"
   ]
  },
  {
   "cell_type": "code",
   "execution_count": 1,
   "metadata": {},
   "outputs": [],
   "source": [
    "def isfalseprime(n): #This functions will test if an integer is a false prime.\n",
    "    if (not(isprime(n)) and isprimelike(n)): #both of these conditions must be true in order for it to be false prime\n",
    "        isfalseprime=True\n",
    "        \n",
    "    else:\n",
    "        isfalseprime=False\n",
    "\n",
    "    return(isfalseprime)"
   ]
  },
  {
   "cell_type": "code",
   "execution_count": 21,
   "metadata": {},
   "outputs": [
    {
     "data": {
      "text/plain": [
       "True"
      ]
     },
     "execution_count": 21,
     "metadata": {},
     "output_type": "execute_result"
    }
   ],
   "source": [
    "isfalseprime(561)\n",
    "#checking if the number 561 is a false prime, which is testing the code to see if it is working properly."
   ]
  },
  {
   "cell_type": "code",
   "execution_count": 11,
   "metadata": {},
   "outputs": [],
   "source": [
    "def primelist(k): #This function will generate a list of primes\n",
    "    listprimes=[] #We create an empty list to which we can add primes as they are found\n",
    "    for n in range(2,k):\n",
    "        if isfalseprime(n)==True:\n",
    "            listprimes.append(n)\n",
    "    \n",
    "    return listprimes"
   ]
  },
  {
   "cell_type": "code",
   "execution_count": 28,
   "metadata": {},
   "outputs": [],
   "source": [
    "def numberofprimes(k): #This function will generate a list of prime numbers\n",
    "    listprimes=[]  #We create an empty list to which we can add primes as they are found\n",
    "    n=2 #This tells Python to start checking at the number 2\n",
    "    while len(listprimes)<k:\n",
    "        if isfalseprime(n)==True:\n",
    "            listprimes.append(n) #adds the false prime number to the list\n",
    "        n+=1\n",
    "    return listprimes"
   ]
  },
  {
   "cell_type": "code",
   "execution_count": 46,
   "metadata": {},
   "outputs": [
    {
     "data": {
      "text/plain": [
       "[29341,\n",
       " 41041,\n",
       " 46657,\n",
       " 52633,\n",
       " 62745,\n",
       " 63973,\n",
       " 75361,\n",
       " 101101,\n",
       " 115921,\n",
       " 126217,\n",
       " 162401,\n",
       " 172081,\n",
       " 188461,\n",
       " 252601,\n",
       " 278545,\n",
       " 294409,\n",
       " 314821,\n",
       " 334153,\n",
       " 340561,\n",
       " 399001]"
      ]
     },
     "execution_count": 46,
     "metadata": {},
     "output_type": "execute_result"
    }
   ],
   "source": [
    "numberofprimes(20)\n",
    "#checking for the first 20 false prime numbers."
   ]
  },
  {
   "cell_type": "markdown",
   "metadata": {},
   "source": [
    "## Part 2"
   ]
  },
  {
   "cell_type": "markdown",
   "metadata": {},
   "source": [
    "In this part of the project we create a function called primedecomp(n) which will get the primary decomposition of the false primes that we found in part 1."
   ]
  },
  {
   "cell_type": "code",
   "execution_count": 49,
   "metadata": {},
   "outputs": [],
   "source": [
    "def myprimes(n): #need list of primes to get them for the prime decomposition\n",
    "    numlist=[]\n",
    "    for x in range(2,n+1):     #n+1 because we want to include n\n",
    "        if isprime(x):\n",
    "            numlist.append(x)\n",
    "    return numlist"
   ]
  },
  {
   "cell_type": "code",
   "execution_count": 50,
   "metadata": {},
   "outputs": [
    {
     "data": {
      "text/plain": [
       "[2, 3, 5, 7, 11, 13, 17, 19, 23, 29]"
      ]
     },
     "execution_count": 50,
     "metadata": {},
     "output_type": "execute_result"
    }
   ],
   "source": [
    "myprimes(29)"
   ]
  },
  {
   "cell_type": "code",
   "execution_count": 56,
   "metadata": {},
   "outputs": [],
   "source": [
    "def primedecomp(n): #this function will get the primary decomposition\n",
    "    primarydec=[] #this creates an empty list for the primary decomposition of the numbers to go in\n",
    "    m=2\n",
    "    while n>1:\n",
    "        k=0\n",
    "        while n%m==0: #if the remainder upon division is zero\n",
    "            n=n/m\n",
    "            k+=1\n",
    "        if k>0:\n",
    "            primarydec.append([m,k]) #this adds it to the primary decomposition\n",
    "        m+=1\n",
    "    return primarydec"
   ]
  },
  {
   "cell_type": "code",
   "execution_count": 61,
   "metadata": {},
   "outputs": [
    {
     "name": "stdout",
     "output_type": "stream",
     "text": [
      "29341 [[13, 1], [37, 1], [61, 1]] \n",
      "\n",
      "41041 [[7, 1], [11, 1], [13, 1], [41, 1]] \n",
      "\n",
      "46657 [[13, 1], [37, 1], [97, 1]] \n",
      "\n",
      "52633 [[7, 1], [73, 1], [103, 1]] \n",
      "\n",
      "62745 [[3, 1], [5, 1], [47, 1], [89, 1]] \n",
      "\n",
      "63973 [[7, 1], [13, 1], [19, 1], [37, 1]] \n",
      "\n",
      "75361 [[11, 1], [13, 1], [17, 1], [31, 1]] \n",
      "\n",
      "101101 [[7, 1], [11, 1], [13, 1], [101, 1]] \n",
      "\n",
      "115921 [[13, 1], [37, 1], [241, 1]] \n",
      "\n",
      "126217 [[7, 1], [13, 1], [19, 1], [73, 1]] \n",
      "\n",
      "162401 [[17, 1], [41, 1], [233, 1]] \n",
      "\n",
      "172081 [[7, 1], [13, 1], [31, 1], [61, 1]] \n",
      "\n",
      "188461 [[7, 1], [13, 1], [19, 1], [109, 1]] \n",
      "\n",
      "252601 [[41, 1], [61, 1], [101, 1]] \n",
      "\n",
      "278545 [[5, 1], [17, 1], [29, 1], [113, 1]] \n",
      "\n",
      "294409 [[37, 1], [73, 1], [109, 1]] \n",
      "\n",
      "314821 [[13, 1], [61, 1], [397, 1]] \n",
      "\n",
      "334153 [[19, 1], [43, 1], [409, 1]] \n",
      "\n",
      "340561 [[13, 1], [17, 1], [23, 1], [67, 1]] \n",
      "\n",
      "399001 [[31, 1], [61, 1], [211, 1]] \n",
      "\n"
     ]
    }
   ],
   "source": [
    "x=[29341,\n",
    " 41041,\n",
    " 46657,\n",
    " 52633,\n",
    " 62745,\n",
    " 63973,\n",
    " 75361,\n",
    " 101101,\n",
    " 115921,\n",
    " 126217,\n",
    " 162401,\n",
    " 172081,\n",
    " 188461,\n",
    " 252601,\n",
    " 278545,\n",
    " 294409,\n",
    " 314821,\n",
    " 334153,\n",
    " 340561,\n",
    " 399001]\n",
    "for number in x:\n",
    "    print(number,primedecomp(number),\"\\n\")\n"
   ]
  },
  {
   "cell_type": "markdown",
   "metadata": {},
   "source": [
    "## Part 3"
   ]
  },
  {
   "cell_type": "markdown",
   "metadata": {},
   "source": [
    "A false prime is a composite number, which is a number that is not prime, and has some properties in common with prime numbers, also called prime like. To see if a number is a prime number, you can test the number for properties that all prime numbers share.  One example, would be to test that it is only divisible by one and itself.\n",
    "\n",
    "A non prime number, also known as a composite integer, is a Fermat pseudoprime to base a if it successfully passes the Fermat primality test for the base a.  The Fermat primality test is a test to see if a number is prime like."
   ]
  },
  {
   "cell_type": "markdown",
   "metadata": {},
   "source": [
    "## Conclusion"
   ]
  },
  {
   "cell_type": "markdown",
   "metadata": {},
   "source": [
    "In conclusion, we were able to find the first 20 false prime numbers and the prime decomposition of those 20 false prime numbers using functions that we created.  We checked if integers were prime using the isprime(n) function as well as checking if the numbers were prime like using the isprimelike(n) function.  After determining if the numbers were prime and prime like or not, we were able to see if the numbers were false prime.  In order for a number to be false prime, it needs to be prime like and not prime.  So, we were able to see if they were false primes by looking at the results of the prime tests and the prime like tests."
   ]
  }
 ],
 "metadata": {
  "kernelspec": {
   "display_name": "Python 3",
   "language": "python",
   "name": "python3"
  },
  "language_info": {
   "codemirror_mode": {
    "name": "ipython",
    "version": 3
   },
   "file_extension": ".py",
   "mimetype": "text/x-python",
   "name": "python",
   "nbconvert_exporter": "python",
   "pygments_lexer": "ipython3",
   "version": "3.7.3"
  }
 },
 "nbformat": 4,
 "nbformat_minor": 2
}
