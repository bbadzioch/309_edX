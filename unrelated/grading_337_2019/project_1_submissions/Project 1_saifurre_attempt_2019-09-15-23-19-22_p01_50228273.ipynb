{
 "cells": [
  {
   "cell_type": "markdown",
   "metadata": {},
   "source": [
    "Since elementry school, we have learned about Prime and composite numbers. What is a prime number? A prime number is a number in it is only divisible by 1 and the number itself, which is what makes the number special. In elementry school, we have discussed Prime numbers and even found some. For example, 3,5,7,11,13 are all examples of prime numbers. However, we did not really test for bigger Prime numbers. For example, what is the biggest Prime number after 1000. Next, we will come across some numbers that act like Prime numbers but are not actually prime. We will find those numbers using the congruence test which will showcase numbers that act like Prime but are actually composite. We are going to prove those numbers are composite using decomposition. "
   ]
  },
  {
   "cell_type": "code",
   "execution_count": 158,
   "metadata": {},
   "outputs": [],
   "source": [
    "def isitprime(q):\n",
    "    if q==1:\n",
    "        return False\n",
    "    if q>2 and q%2==0: ## q%2 basically represents even numbers. No even numbers are Prime besides 2. Function will be faster.\n",
    "        return False\n",
    "    for w in range(2,int(q**0.5)+1):\n",
    "        if q%w==0:\n",
    "            return False\n",
    "            break ##The reason the break function is If a number is is not prime, it will skip to next function.\n",
    "    return True\n"
   ]
  },
  {
   "cell_type": "markdown",
   "metadata": {},
   "source": [
    "First step is to create a list for prime numbers. Above function demonstrates the code for Prime functions. If any value of q is printed, the function will let us know if a function is Prime demonstrated by true statement and False if function is not prime. "
   ]
  },
  {
   "cell_type": "code",
   "execution_count": 150,
   "metadata": {},
   "outputs": [],
   "source": [
    " def prime_like_numb(q):\n",
    "        for i in range(q):\n",
    "            if q>=2 and i**q==i%q:\n",
    "                return True\n",
    "            if 2>=q and i**q!=i%q:\n",
    "                return False\n",
    "        return prime_like_numb\n",
    "    "
   ]
  },
  {
   "cell_type": "code",
   "execution_count": 159,
   "metadata": {},
   "outputs": [
    {
     "name": "stdout",
     "output_type": "stream",
     "text": [
      "True\n"
     ]
    }
   ],
   "source": [
    "print(prime_like_numb(560))"
   ]
  },
  {
   "cell_type": "markdown",
   "metadata": {},
   "source": [
    "The above function is for Prime like functions. Prime like functions can be trickey and confusing. However, they are numbers which are prime like but are not actually prime. Those numbers will then be used to see if they are actually prime or not. This part of the project has been the most difficult because it was hard to code. I was unable to understand the whole purpose of congruence and the role it would play. But, I was able to test this function and it works.  "
   ]
  },
  {
   "cell_type": "code",
   "execution_count": 160,
   "metadata": {},
   "outputs": [],
   "source": [
    "def listingprimes(q):\n",
    "    prelist=[]  #List function is deployed here to turn our prime numbers into a list\n",
    "    for b in range(q+1):##The reason why its q+1 is because if the function is only q, python will only test up to q-1 number.\n",
    "        if isitprime(b) and not prime_like_numb(b):\n",
    "            prelist.append(b)\n",
    "    return prelist"
   ]
  },
  {
   "cell_type": "markdown",
   "metadata": {},
   "source": [
    "This is the list function. The whole purpose of the list function was to give a list where the numbers which may act like Prime but are not Prime. In the end, it would list the functions which may act like Prime but are not Prime. Usually, those numbers were congruence and were added to the final list. Those numbers however were not prime. They were just prime like through the congruence test."
   ]
  },
  {
   "cell_type": "code",
   "execution_count": 163,
   "metadata": {},
   "outputs": [
    {
     "name": "stdout",
     "output_type": "stream",
     "text": [
      "[]\n"
     ]
    }
   ],
   "source": [
    "print(listingprimes(200))"
   ]
  },
  {
   "cell_type": "markdown",
   "metadata": {},
   "source": [
    "I  deleted the file which contained decomposition formula and how I can recieve the decomposition of a certain numbers while deleting the other files. I was unable to revive those files due to which I will end my project here. \n",
    "    \n",
    "    \n",
    "    "
   ]
  },
  {
   "cell_type": "markdown",
   "metadata": {},
   "source": [
    " 3)Prime like numbers do not have much in common as they are with Prime numbers. Prime like numbers are composite numbers. However, they are congruent. They also have multiple of 3 and are related to each other since they are multiple of each other. The Prime like numbers are also odd numbers. They are not even numbers since any even number besides 2 is Prime. "
   ]
  },
  {
   "cell_type": "markdown",
   "metadata": {},
   "source": [
    "In conclusion, Prime like numbers and Prime numbers are very far apart. However, Prime like numbers are odd numbers. Also, they are multiples of each other. Prime like numbers are not actually Prime, but it is difficult to see if they are prime because they are big numbers. This project showcased such numbers that can act prime like but are not prime. "
   ]
  }
 ],
 "metadata": {
  "kernelspec": {
   "display_name": "Python 3",
   "language": "python",
   "name": "python3"
  },
  "language_info": {
   "codemirror_mode": {
    "name": "ipython",
    "version": 3
   },
   "file_extension": ".py",
   "mimetype": "text/x-python",
   "name": "python",
   "nbconvert_exporter": "python",
   "pygments_lexer": "ipython3",
   "version": "3.7.3"
  }
 },
 "nbformat": 4,
 "nbformat_minor": 2
}
