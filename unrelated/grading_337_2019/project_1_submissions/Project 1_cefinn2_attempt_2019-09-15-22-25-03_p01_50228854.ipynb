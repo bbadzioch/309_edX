{
 "cells": [
  {
   "cell_type": "markdown",
   "metadata": {},
   "source": [
    "# Colleen Finn: Project 1: A prime or not a prime "
   ]
  },
  {
   "cell_type": "markdown",
   "metadata": {},
   "source": [
    "### Introduction"
   ]
  },
  {
   "cell_type": "markdown",
   "metadata": {},
   "source": [
    "Prime numbers are numbers that only have a remainder of 0 when they are divided by 1 and itself. The first few prime numbers are 2,3,5 and 7. A number like 10 is not prime because it can also be divided by 5 and 2 with no remainder. A number p is'false prime' if it is not prime and if for every $0<=a<p$ , $a^p \\equiv a(modp)$. The primary decomposition of a number breaks down the number and finds the prime factors that multiply to make up the number.\n",
    "\n",
    "For this project, our goal is to learn more about and understand prime numbers, false-primes, and primary decomposition. More specifically, we are going to create a list of the first 20 false primes and compute the primary decomposition of each false prime we find. In order to achieve this, we will have to create a number of functions, including ones that:\n",
    "* determine if a number is \"prime-like\"\n",
    "* determine if a number is prime\n",
    "* create a list of the first 20 false primes\n",
    "* create a list of prime numbers\n",
    "* do the primary decomposition of a number\n",
    "* go through the list if the first 20 false primes and prints the primary decomposition for each.\n"
   ]
  },
  {
   "cell_type": "markdown",
   "metadata": {},
   "source": [
    "### Part 1"
   ]
  },
  {
   "cell_type": "markdown",
   "metadata": {},
   "source": [
    "The function `isprimelike(p)` takes the number, p, and determines if it is prime-like. It is prime-like if $a^p \\equiv a(mod p)$ for all $0<=a<p$. `range(p)` takes the numbers from 0 to the number right before p. `pow(a,p,p)` does the same thing as `(a**p)%p`."
   ]
  },
  {
   "cell_type": "code",
   "execution_count": 90,
   "metadata": {},
   "outputs": [],
   "source": [
    "def isprimelike(p): \n",
    "    for a in range(p): \n",
    "        if (pow(a,p,p))!=a%p:\n",
    "            return False\n",
    "    return True  "
   ]
  },
  {
   "cell_type": "markdown",
   "metadata": {},
   "source": [
    "The function `isprime2(n)` determines if a number is prime. Prime numbers must be greater than 2 and have no numbers, besides 1 and itself that it can be divided by."
   ]
  },
  {
   "cell_type": "code",
   "execution_count": 91,
   "metadata": {},
   "outputs": [],
   "source": [
    "def isprime2(n):\n",
    "    prime=True\n",
    "    if n<2:\n",
    "        prime=False\n",
    "    for w in range(2,int(n**0.5)+1):\n",
    "        if n%w==0: # If the quotient has a remainder 0\n",
    "            prime=False\n",
    "            break\n",
    "    return prime "
   ]
  },
  {
   "cell_type": "markdown",
   "metadata": {},
   "source": [
    "The function `falseprimes(n)` creates a list of false primes. `while len(falseprimeslist)<21` makes sure the length of the list does not exceed 20. A number is false prime and gets added to the list if it is not prime (`isprime2(n)==False`) and if it is prime-like (`isprimelike(n)==True`). `n=n+1` makes the function move on to the next number. If the function works correctly, it will print a list of the first 20 numbers that are false primes."
   ]
  },
  {
   "cell_type": "code",
   "execution_count": 92,
   "metadata": {},
   "outputs": [],
   "source": [
    "def falseprimes(n):\n",
    "    falseprimeslist=[]\n",
    "    while len(falseprimeslist)<20:\n",
    "        if (isprime2(n)==False) and (isprimelike(n)==True):\n",
    "            falseprimeslist.append(n)\n",
    "        n=n+1\n",
    "    return falseprimeslist "
   ]
  },
  {
   "cell_type": "code",
   "execution_count": 93,
   "metadata": {},
   "outputs": [
    {
     "name": "stdout",
     "output_type": "stream",
     "text": [
      "[561, 1105, 1729, 2465, 2821, 6601, 8911, 10585, 15841, 29341, 41041, 46657, 52633, 62745, 63973, 75361, 101101, 115921, 126217, 162401]\n"
     ]
    }
   ],
   "source": [
    "# Result of this is a list of the first 20 false primes.\n",
    "print(falseprimes(20))"
   ]
  },
  {
   "cell_type": "markdown",
   "metadata": {},
   "source": [
    "### Part 2"
   ]
  },
  {
   "cell_type": "markdown",
   "metadata": {},
   "source": [
    "The function `myprimes2(n)` creates a list of prime numbers that are less than n. It adds a number to `lis` if it is prime (`result==True`). \n"
   ]
  },
  {
   "cell_type": "code",
   "execution_count": 94,
   "metadata": {},
   "outputs": [],
   "source": [
    "def myprimes2(n):\n",
    "    lis=[]\n",
    "    for i in range(n+1):\n",
    "        result= isprime2(i)\n",
    "        if result==True:\n",
    "            lis.append(i)\n",
    "    return lis"
   ]
  },
  {
   "cell_type": "markdown",
   "metadata": {},
   "source": [
    "The function `primary(n)` does the prime factorization of a number n. It creates a list of prime numbers less than n and goes through them to add them to the list `decomposition` if it is prime."
   ]
  },
  {
   "cell_type": "code",
   "execution_count": 95,
   "metadata": {},
   "outputs": [],
   "source": [
    "def primary(n):\n",
    "    decomposition=[]\n",
    "    plist=myprimes2(n)\n",
    "    for k in plist:\n",
    "        while n%k==0:\n",
    "            decomposition.append(k) # .append adds something to a list\n",
    "            n/=k\n",
    "        if n==1:\n",
    "            break # break stops the loop and doesn't add 1 to the list\n",
    "    return decomposition"
   ]
  },
  {
   "cell_type": "code",
   "execution_count": 96,
   "metadata": {},
   "outputs": [
    {
     "data": {
      "text/plain": [
       "[3, 11, 17]"
      ]
     },
     "execution_count": 96,
     "metadata": {},
     "output_type": "execute_result"
    }
   ],
   "source": [
    "# Test to see if function works.\n",
    "\n",
    "primary(561) "
   ]
  },
  {
   "cell_type": "code",
   "execution_count": 97,
   "metadata": {},
   "outputs": [
    {
     "data": {
      "text/plain": [
       "[2, 5]"
      ]
     },
     "execution_count": 97,
     "metadata": {},
     "output_type": "execute_result"
    }
   ],
   "source": [
    "# Test to see if function works.\n",
    "\n",
    "primary(10)"
   ]
  },
  {
   "cell_type": "markdown",
   "metadata": {},
   "source": [
    "The function `primaryfalseprimes(n)` computes the primary decompositions of the 20 false primes in the list that we made with `falseprimes(n)`. It goes through each number in the list, finds its primary decompositon, then prints the number followed by its primary decomposition. If the function works correctly, it will print all 20 false primes from the `falseprimes(n)` list followed by a list of numbers in its primary decomposition."
   ]
  },
  {
   "cell_type": "code",
   "execution_count": 98,
   "metadata": {},
   "outputs": [],
   "source": [
    "def primaryfalseprimes(n):\n",
    "    for i in falseprimes(n):\n",
    "        hello=primary(i)\n",
    "        print(f'{i} :') \n",
    "        print(hello)\n",
    "        print(' ')"
   ]
  },
  {
   "cell_type": "code",
   "execution_count": 99,
   "metadata": {},
   "outputs": [
    {
     "name": "stdout",
     "output_type": "stream",
     "text": [
      "561 :\n",
      "[3, 11, 17]\n",
      " \n",
      "1105 :\n",
      "[5, 13, 17]\n",
      " \n",
      "1729 :\n",
      "[7, 13, 19]\n",
      " \n",
      "2465 :\n",
      "[5, 17, 29]\n",
      " \n",
      "2821 :\n",
      "[7, 13, 31]\n",
      " \n",
      "6601 :\n",
      "[7, 23, 41]\n",
      " \n",
      "8911 :\n",
      "[7, 19, 67]\n",
      " \n",
      "10585 :\n",
      "[5, 29, 73]\n",
      " \n",
      "15841 :\n",
      "[7, 31, 73]\n",
      " \n",
      "29341 :\n",
      "[13, 37, 61]\n",
      " \n",
      "41041 :\n",
      "[7, 11, 13, 41]\n",
      " \n",
      "46657 :\n",
      "[13, 37, 97]\n",
      " \n",
      "52633 :\n",
      "[7, 73, 103]\n",
      " \n",
      "62745 :\n",
      "[3, 5, 47, 89]\n",
      " \n",
      "63973 :\n",
      "[7, 13, 19, 37]\n",
      " \n",
      "75361 :\n",
      "[11, 13, 17, 31]\n",
      " \n",
      "101101 :\n",
      "[7, 11, 13, 101]\n",
      " \n",
      "115921 :\n",
      "[13, 37, 241]\n",
      " \n",
      "126217 :\n",
      "[7, 13, 19, 73]\n",
      " \n",
      "162401 :\n",
      "[17, 41, 233]\n",
      " \n"
     ]
    }
   ],
   "source": [
    "# Test to see if function works.\n",
    "\n",
    "primaryfalseprimes(2)"
   ]
  },
  {
   "cell_type": "markdown",
   "metadata": {},
   "source": [
    "### Part 3"
   ]
  },
  {
   "cell_type": "markdown",
   "metadata": {},
   "source": [
    "I've noticed that false primes tend to be very large and very spaced out numbers. From one false prime to the next, there are hundreds, or thousands, of numbers in between. Most of them (at least from the list of the first 20, have a primary decomposition consisting of 3 numbers, with the exception of 6 that have 4. In addition, a lot of numbers are seen multiple times in a lot of the primary decompositions of the false primes, like 7,13, and 17, among others. "
   ]
  },
  {
   "cell_type": "markdown",
   "metadata": {},
   "source": [
    "### Conclusion"
   ]
  },
  {
   "cell_type": "markdown",
   "metadata": {},
   "source": [
    "This project seems to be a success, in that I was able to create functions that worked to achieve our goals. I was able to create a list of the first 20 false primes and I was able to compute the primary decompositions of those 20 numbers. I noticed some patterns and some overlapping characteristics that these false primes share after creating these functions. I now feel like I better understand the concepts of prime numbers, false primes, and primart decomposition."
   ]
  },
  {
   "cell_type": "code",
   "execution_count": null,
   "metadata": {},
   "outputs": [],
   "source": []
  },
  {
   "cell_type": "code",
   "execution_count": null,
   "metadata": {},
   "outputs": [],
   "source": []
  }
 ],
 "metadata": {
  "kernelspec": {
   "display_name": "Python 3",
   "language": "python",
   "name": "python3"
  },
  "language_info": {
   "codemirror_mode": {
    "name": "ipython",
    "version": 3
   },
   "file_extension": ".py",
   "mimetype": "text/x-python",
   "name": "python",
   "nbconvert_exporter": "python",
   "pygments_lexer": "ipython3",
   "version": "3.7.1"
  }
 },
 "nbformat": 4,
 "nbformat_minor": 2
}
