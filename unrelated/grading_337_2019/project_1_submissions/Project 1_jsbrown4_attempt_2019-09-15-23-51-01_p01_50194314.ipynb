{
 "cells": [
  {
   "cell_type": "markdown",
   "metadata": {},
   "source": [
    "## **Jeremy Brown** ##"
   ]
  },
  {
   "cell_type": "markdown",
   "metadata": {},
   "source": [
    "### UB Person #: **50194314** ###"
   ]
  },
  {
   "cell_type": "markdown",
   "metadata": {},
   "source": [
    "Course Number: MTH 337"
   ]
  },
  {
   "cell_type": "markdown",
   "metadata": {},
   "source": [
    "Assignment Title/Due Date: Project #1, \"A Prime or Not a Prime\", due September 15, 2019"
   ]
  },
  {
   "cell_type": "markdown",
   "metadata": {},
   "source": [
    "## Introduction ##"
   ]
  },
  {
   "cell_type": "markdown",
   "metadata": {},
   "source": [
    "A prime number is defined as a positive integer that is greater than one and is not divisible without a remainder by any positive integer other than itself and one (The American Heritage Dictionary of the English Language, 5th Edition, 2012). There are a plethora - in fact, infinite total - of these prime numbers, including very large primes with many digits. Prime numbers also form the root factors of all non-prime numbers. All non-primes can be broken down into a unique multiplication of their prime factors. The product of these prime factors is titled **primary decomposition** and for any integer $ n>1 $, the \"primary decomposition of $ n $\" is usually written as:"
   ]
  },
  {
   "cell_type": "markdown",
   "metadata": {},
   "source": [
    "$$ n = p_{1} \\cdot p_{2} \\cdot {\\dots} \\cdot p_{m} $$"
   ]
  },
  {
   "cell_type": "markdown",
   "metadata": {},
   "source": [
    "such that"
   ]
  },
  {
   "cell_type": "markdown",
   "metadata": {},
   "source": [
    "$$ p_{1} \\leq p_{2} \\leq {\\dots} \\leq p_{m} $$"
   ]
  },
  {
   "cell_type": "markdown",
   "metadata": {},
   "source": [
    "As a demonstration of this, $$ 210 = 2 \\cdot 3 \\cdot 5 \\cdot 7 $$ while $$ 216 = 2 \\cdot 2 \\cdot 2 \\cdot 3 \\cdot 3 \\cdot 3 $$"
   ]
  },
  {
   "cell_type": "markdown",
   "metadata": {},
   "source": [
    "The existence of prime numbers and their properties is important within mathematics. Distinguishing between numbers that are prime and those that are not can aid the development of new computer and financial protections that use these numbers to secure private data. A fact within number theory regarding prime numbers and congruence (a relation indicating that two integers give the same remainder when divided by some given integer) is detailed by this theorem:"
   ]
  },
  {
   "cell_type": "markdown",
   "metadata": {},
   "source": [
    "**Theorem**: If $p$ is a prime number then"
   ]
  },
  {
   "cell_type": "markdown",
   "metadata": {},
   "source": [
    "$$ a^{p} \\equiv a \\ (\\text{mod } p) $$ for any integer $$ p > a \\geq 0 $$"
   ]
  },
  {
   "cell_type": "markdown",
   "metadata": {},
   "source": [
    "While this theorem holds true for every prime number, there are rare instances where\n",
    "* an integer $p$ is not prime \n",
    "* $ a^{p} \\equiv a \\ (\\text{mod } p) $ holds for all $0 \\leq a < p$."
   ]
  },
  {
   "cell_type": "markdown",
   "metadata": {},
   "source": [
    "These particular non-prime integers will be called \"false primes\" within the bounds of the project."
   ]
  },
  {
   "cell_type": "markdown",
   "metadata": {},
   "source": [
    "The goal of this report is to research false primes and their properties. The main focus is on the first 20 false primes and their primary decompositions, along with any conjectures that can be made about the general properties of false primes. "
   ]
  },
  {
   "cell_type": "markdown",
   "metadata": {},
   "source": [
    "### Project 1 - A Prime or Not a Prime ###"
   ]
  },
  {
   "cell_type": "markdown",
   "metadata": {},
   "source": [
    "To find false primes, there is a need for a function which can determine whether a number is prime or not."
   ]
  },
  {
   "cell_type": "code",
   "execution_count": 93,
   "metadata": {},
   "outputs": [],
   "source": [
    "def isPrime(n):\n",
    "    '''isPrime(n) returns True or False after determining whether a number is prime or not'''\n",
    "    prime = True\n",
    "    if n < 2: # if n=2, prime should stay True, so no extra step is needed right here\n",
    "        prime = False\n",
    "    for x in range(2,int(n**0.5)+1):\n",
    "        if n%x==0:\n",
    "            prime = False # if n is divisible by an integer within the range, prime = False\n",
    "            break\n",
    "    return prime"
   ]
  },
  {
   "cell_type": "markdown",
   "metadata": {},
   "source": [
    "Now that I have the function above, I will create a function that can compile a list of prime numbers below or equal to a given number, which will be useful for determining prime factorizations of found false primes later on."
   ]
  },
  {
   "cell_type": "code",
   "execution_count": 94,
   "metadata": {},
   "outputs": [],
   "source": [
    "def primesLessThanOrEqual(n):\n",
    "    '''primesLessThanOrEqual(n) returns a list of all the prime numbers less than or equal to n'''\n",
    "    listOfPrimes = [] # an empty list to fill with found primes\n",
    "    for x in range(n+1):\n",
    "        if isPrime(x):\n",
    "            listOfPrimes.append(x) # adds a prime to the list\n",
    "    return listOfPrimes"
   ]
  },
  {
   "cell_type": "markdown",
   "metadata": {},
   "source": [
    "In order to find a false prime, there is a need to check the congruence test stated in the introduction. I will define a function titled congruenceTest_p(a,p) that will evaluate whether $ a^{p} \\equiv a \\ (\\text{mod } p) $ holds for all $0 \\leq a < p$."
   ]
  },
  {
   "cell_type": "code",
   "execution_count": 95,
   "metadata": {},
   "outputs": [],
   "source": [
    "def congruenceTest_p(a,p):\n",
    "    '''congruenceTest_p(n) returns a boolean after evaluating whether (a^p) is congruent to (a, modulus p)'''\n",
    "    return pow(a,p,p)==(a%p) # returns whether there is congruency or not"
   ]
  },
  {
   "cell_type": "markdown",
   "metadata": {},
   "source": [
    "With the ability to check whether congruence is True or False for a given set of integer values, now I can determine whether a number is considered \"prime-like\" and follows the congruence test for all values of $a$ and $p$. This is without regard to whether a number is proven to be prime or not yet, which will be distinguished with the help of this newest function."
   ]
  },
  {
   "cell_type": "code",
   "execution_count": 108,
   "metadata": {},
   "outputs": [],
   "source": [
    "def isPrimeLike(n):\n",
    "    '''isPrimeLike(n) returns a boolean after evaluating whether n passes the congruence test for integers less than n'''\n",
    "    for x in range(n):\n",
    "        if congruenceTest_p(x,n): # checks the congruenceTest_p function (with value x=a and n=p)\n",
    "            return True\n",
    "        else:\n",
    "            return False"
   ]
  },
  {
   "cell_type": "markdown",
   "metadata": {},
   "source": [
    "#### **Part 1**: Find the first 20 false primes ####"
   ]
  },
  {
   "cell_type": "code",
   "execution_count": 109,
   "metadata": {},
   "outputs": [
    {
     "name": "stdout",
     "output_type": "stream",
     "text": [
      "[4, 6, 8, 9, 10, 12, 14, 15, 16, 18, 20, 21, 22, 24, 25, 26, 27, 28, 30, 32, 33, 34, 35, 36, 38, 39, 40, 42, 44, 45, 46, 48, 49, 50, 51, 52, 54, 55, 56, 57, 58, 60, 62, 63, 64, 65, 66, 68, 69, 70, 72, 74, 75, 76, 77, 78, 80, 81, 82, 84, 85, 86, 87, 88, 90, 91, 92, 93, 94, 95, 96, 98, 99, 100, 102, 104, 105, 106, 108, 110, 111, 112, 114, 115, 116, 117, 118, 119, 120, 121, 122, 123, 124, 125, 126, 128, 129, 130, 132, 133, 134, 135, 136, 138, 140, 141, 142, 143, 144, 145, 146, 147, 148, 150, 152, 153, 154, 155, 156, 158, 159, 160, 161, 162, 164, 165, 166, 168, 169, 170, 171, 172, 174, 175, 176, 177, 178, 180, 182, 183, 184, 185, 186, 187, 188, 189, 190, 192, 194, 195, 196, 198, 200, 201, 202, 203, 204, 205, 206, 207, 208, 209, 210, 212, 213, 214, 215, 216, 217, 218, 219, 220, 221, 222, 224, 225, 226, 228, 230, 231, 232, 234, 235, 236, 237, 238, 240, 242, 243, 244, 245, 246, 247, 248, 249, 250, 252, 253, 254, 255, 256, 258, 259, 260, 261, 262, 264, 265, 266, 267, 268, 270, 272, 273, 274, 275, 276, 278, 279, 280, 282, 284, 285, 286, 287, 288, 289, 290, 291, 292, 294, 295, 296, 297, 298, 299, 300, 301, 302, 303, 304, 305, 306, 308, 309, 310, 312, 314, 315, 316, 318, 319, 320, 321, 322, 323, 324, 325, 326, 327, 328, 329, 330, 332, 333, 334, 335, 336, 338, 339, 340, 341, 342, 343, 344, 345, 346, 348, 350, 351, 352, 354, 355, 356, 357, 358, 360, 361, 362, 363, 364, 365, 366, 368, 369, 370, 371, 372, 374, 375, 376, 377, 378, 380, 381, 382, 384, 385, 386, 387, 388, 390, 391, 392, 393, 394, 395, 396, 398, 399, 400, 402, 403, 404, 405, 406, 407, 408, 410, 411, 412, 413, 414, 415, 416, 417, 418, 420, 422, 423, 424, 425, 426, 427, 428, 429, 430, 432, 434, 435, 436, 437, 438, 440, 441, 442, 444, 445, 446, 447, 448, 450, 451, 452, 453, 454, 455, 456, 458, 459, 460, 462, 464, 465, 466, 468, 469, 470, 471, 472, 473, 474, 475, 476, 477, 478, 480, 481, 482, 483, 484, 485, 486, 488, 489, 490, 492, 493, 494, 495, 496, 497, 498, 500, 501, 502, 504, 505, 506, 507, 508, 510, 511, 512, 513, 514, 515, 516, 517, 518, 519, 520, 522, 524, 525, 526, 527, 528, 529, 530, 531, 532, 533, 534, 535, 536, 537, 538, 539, 540, 542, 543, 544, 545, 546, 548, 549, 550, 551, 552, 553, 554, 555, 556, 558, 559, 560, 561]\n"
     ]
    }
   ],
   "source": [
    "falsePrimesList = []\n",
    "for x in range(2,562):\n",
    "    if (isPrimeLike(x)==True) and (isPrime(x)==False):\n",
    "        falsePrimesList.append(x)\n",
    "print(falsePrimesList)"
   ]
  },
  {
   "cell_type": "code",
   "execution_count": 110,
   "metadata": {},
   "outputs": [
    {
     "data": {
      "text/plain": [
       "True"
      ]
     },
     "execution_count": 110,
     "metadata": {},
     "output_type": "execute_result"
    }
   ],
   "source": [
    "isPrimeLike(561)"
   ]
  },
  {
   "cell_type": "code",
   "execution_count": 111,
   "metadata": {},
   "outputs": [
    {
     "data": {
      "text/plain": [
       "False"
      ]
     },
     "execution_count": 111,
     "metadata": {},
     "output_type": "execute_result"
    }
   ],
   "source": [
    "isPrime(561)"
   ]
  },
  {
   "cell_type": "markdown",
   "metadata": {},
   "source": [
    "#### **Part 2**: Compute the primary decomposition of each of the 20 false primes found####"
   ]
  },
  {
   "cell_type": "code",
   "execution_count": 100,
   "metadata": {},
   "outputs": [],
   "source": [
    "def primeFactorization(n):\n",
    "    '''primeFactorization(n) returns a list filled with the prime factors of n, ordered smallest to largest'''\n",
    "    primeDecompositionList = []\n",
    "    \n",
    "    listOfSmallPrimes = primesLessThanOrEqual(n)\n",
    "    \n",
    "    for x in listOfSmallPrimes:\n",
    "        while n % x == 0:\n",
    "            primeDecompositionList.append(x) #adds value of x to end of primeDecompositionList\n",
    "            n = n/x\n",
    "        if n == 1:\n",
    "            break # breaks the while loop when all factors have been found\n",
    "    return primeDecompositionList"
   ]
  },
  {
   "cell_type": "code",
   "execution_count": 103,
   "metadata": {},
   "outputs": [],
   "source": [
    "for x in falsePrimesList:  # this for loop will access all the false primes stored in the list and \n",
    "    #ask that their corresponding prime decomposition lists be printed\n",
    "    primeFactorization(x)\n",
    "    print(primeDecompositionList)"
   ]
  },
  {
   "cell_type": "code",
   "execution_count": 104,
   "metadata": {},
   "outputs": [
    {
     "data": {
      "text/plain": [
       "[3, 11, 17]"
      ]
     },
     "execution_count": 104,
     "metadata": {},
     "output_type": "execute_result"
    }
   ],
   "source": [
    "primeFactorization(561) # prime factorization of 561, the first false prime"
   ]
  },
  {
   "cell_type": "markdown",
   "metadata": {},
   "source": [
    "#### **Part 3**: Comment on or create conjectures about the properties of false primes ####"
   ]
  },
  {
   "cell_type": "markdown",
   "metadata": {},
   "source": [
    "I was not able to find all of the 20 smallest false primes past 561, as my isPrimeLike(n) function did not properly eliminate non-prime numbers that did not pass the congruence test. "
   ]
  },
  {
   "cell_type": "markdown",
   "metadata": {},
   "source": [
    "## Conclusion ##"
   ]
  },
  {
   "cell_type": "markdown",
   "metadata": {},
   "source": [
    "This project was intended to utilize Python and math theorems to research false primes and their properties.\n",
    "The first 20 false primes were found to be [561, x_2, x_3, x_4, x_5, x_6, etc.]\n",
    "The corresponding prime decompositions of those 20 false primes are as follows: \n",
    "(561 - 3, 11 and 17, etc.)\n",
    "Overall, I noticed these patterns about the properties of false primes"
   ]
  }
 ],
 "metadata": {
  "kernelspec": {
   "display_name": "Python 3",
   "language": "python",
   "name": "python3"
  },
  "language_info": {
   "codemirror_mode": {
    "name": "ipython",
    "version": 3
   },
   "file_extension": ".py",
   "mimetype": "text/x-python",
   "name": "python",
   "nbconvert_exporter": "python",
   "pygments_lexer": "ipython3",
   "version": "3.7.3"
  }
 },
 "nbformat": 4,
 "nbformat_minor": 2
}
