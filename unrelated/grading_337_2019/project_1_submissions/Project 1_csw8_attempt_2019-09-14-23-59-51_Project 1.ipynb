{
 "cells": [
  {
   "cell_type": "markdown",
   "metadata": {},
   "source": [
    "# Project 1: A Prime or Not a Prime\n",
    "##### Connor Wilson - csw8@buffalo.edu"
   ]
  },
  {
   "cell_type": "markdown",
   "metadata": {},
   "source": [
    "### Introduction\n",
    "\n",
    "Prime numbers are defined as numbers divisible by only one and themselves. However, checking a list of numbers for all their divisors is not the only way to find primes. One possible method involves a theorem from number theory that holds true for all primes p,\n",
    "\n",
    "$$a^p \\equiv a \\,\\, (\\text{mod } p)$$\n",
    "\n",
    "for all integers a,  $0 \\le a \\lt p$.\n",
    "\n",
    "This formula could be mistakenly used to test if numbers are prime, because for most non-prime numbers it would seem on first glance like the formula is always false. But there are false primes, the first of which is 561, for which this theorem holds true and are not prime. This report will look into these false primes, by finding a few of them and investigating what makes them unique."
   ]
  },
  {
   "cell_type": "markdown",
   "metadata": {},
   "source": [
    "### Helper Functions\n",
    "\n",
    "Before we can start searching for false primes, we need to have some helper functions to split the problem into smaller chunks. We'll begin with a function that determines if a number is prime by checking the divisibility of the input number with every number from 2 to the square root of the input. It's only necessary to check up to the square root because if the number has a factor pair, one of the two must be less than the square root."
   ]
  },
  {
   "cell_type": "code",
   "execution_count": 1,
   "metadata": {},
   "outputs": [],
   "source": [
    "def isprime(n):\n",
    "    \n",
    "    #Check if the number is 0 or 1, return not prime.\n",
    "    if n < 2:\n",
    "        return False\n",
    "    \n",
    "    #Check divisibility using modulus operator, if divisible return not prime, else return prime.\n",
    "    for i in range(2, int(n**0.5) + 1):\n",
    "        if n % i == 0:\n",
    "            return False\n",
    "    return True"
   ]
  },
  {
   "cell_type": "markdown",
   "metadata": {},
   "source": [
    "This next function creates a list of all primes less than or equal to the input, using the function we just wrote."
   ]
  },
  {
   "cell_type": "code",
   "execution_count": 14,
   "metadata": {},
   "outputs": [
    {
     "name": "stdout",
     "output_type": "stream",
     "text": [
      "Primes less than or equal to 29: [2, 3, 5, 7, 11, 13, 17, 19, 23, 29]\n"
     ]
    }
   ],
   "source": [
    "def myprimes(n):\n",
    "    result = []\n",
    "    for i in range(n + 1):\n",
    "        if isprime(i):\n",
    "            result.append(i)\n",
    "    return result\n",
    "\n",
    "#Example of how the function works\n",
    "print(\"Primes less than or equal to 29: \" + str(myprimes(29)))"
   ]
  },
  {
   "cell_type": "markdown",
   "metadata": {},
   "source": [
    "Next, this function returns a list containing the prime decomposition of the input, by iterating through `myprimes` of the input and then dividing by the first prime in the list that the input is divisible by."
   ]
  },
  {
   "cell_type": "code",
   "execution_count": 12,
   "metadata": {},
   "outputs": [
    {
     "name": "stdout",
     "output_type": "stream",
     "text": [
      "Prime decomposition of 90: [2, 3, 3, 5]\n"
     ]
    }
   ],
   "source": [
    "def primary(n):\n",
    "    result = []\n",
    "    while n > 1:\n",
    "        for i in myprimes(n):      #Loop through all primes less than or equal to the input.\n",
    "            if n % i == 0:         #Check divisibility.\n",
    "                result.append(i)\n",
    "                n //= i            #Divide by the number added and restart the for loop.\n",
    "                break\n",
    "    return result\n",
    "\n",
    "#Example of how primary works\n",
    "print(\"Prime decomposition of 90: \" + str(primary(90)))"
   ]
  },
  {
   "cell_type": "markdown",
   "metadata": {},
   "source": [
    "### False Primes\n",
    "\n",
    "Now that we have some helper functions, it's time to find some false primes. First, declare the function `isprimelike` which uses $a^p \\equiv a \\,\\, (\\text{mod } p)$ to check if a given number is prime-like."
   ]
  },
  {
   "cell_type": "code",
   "execution_count": 5,
   "metadata": {},
   "outputs": [],
   "source": [
    "def isprimelike(n):\n",
    "    for i in range(n):\n",
    "        if pow(i, n, n) != i:\n",
    "            return False\n",
    "    return True"
   ]
  },
  {
   "cell_type": "markdown",
   "metadata": {},
   "source": [
    "This next script generates the first 20 false primes and the primary decomposition of each, using all the functions previously declared."
   ]
  },
  {
   "cell_type": "code",
   "execution_count": 15,
   "metadata": {},
   "outputs": [
    {
     "name": "stdout",
     "output_type": "stream",
     "text": [
      "False Prime     Prime Decomposition\n",
      "-------------------------------------\n",
      "561     \t[3, 11, 17]\n",
      "1105     \t[5, 13, 17]\n",
      "1729     \t[7, 13, 19]\n",
      "2465     \t[5, 17, 29]\n",
      "2821     \t[7, 13, 31]\n",
      "6601     \t[7, 23, 41]\n",
      "8911     \t[7, 19, 67]\n",
      "10585     \t[5, 29, 73]\n",
      "15841     \t[7, 31, 73]\n",
      "29341     \t[13, 37, 61]\n",
      "41041     \t[7, 11, 13, 41]\n",
      "46657     \t[13, 37, 97]\n",
      "52633     \t[7, 73, 103]\n",
      "62745     \t[3, 5, 47, 89]\n",
      "63973     \t[7, 13, 19, 37]\n",
      "75361     \t[11, 13, 17, 31]\n",
      "101101     \t[7, 11, 13, 101]\n",
      "115921     \t[13, 37, 241]\n",
      "126217     \t[7, 13, 19, 73]\n",
      "162401     \t[17, 41, 233]\n"
     ]
    }
   ],
   "source": [
    "#Checks numbers for prime and prime-like. Adds numbers that aren't prime but are prime-like to a list.\n",
    "falseprimes = []\n",
    "i = 2\n",
    "while len(falseprimes) < 20:      #Checks starting from two and counting up until we have 20 false primes.\n",
    "    if not isprime(i) and isprimelike(i):\n",
    "        falseprimes.append(i)\n",
    "    i += 1\n",
    "\n",
    "#This section calculates the prime decomposition for each false prime.\n",
    "decomposition = []\n",
    "for num in falseprimes:\n",
    "    decomposition.append({num: primary(num)})\n",
    "\n",
    "#This last section formats and prints the data.\n",
    "print(\"False Prime     Prime Decomposition\")\n",
    "print(\"-------------------------------------\")\n",
    "for elem in decomposition:\n",
    "    for k,v in elem.items():\n",
    "        print(f\"{k}     \\t{v}\")"
   ]
  },
  {
   "cell_type": "markdown",
   "metadata": {},
   "source": [
    "### Conclusion\n",
    "\n",
    "It seems that these false primes are very spread out and difficult to find, which explains why the formula $a^p \\equiv a \\,\\, (\\text{mod } p)$ might mistakenly be used to check for primes. On further inspection, it seems that none of the false primes have 2 as a divisor, so all of them are odd numbers. I'm not quite sure why this is true, since the numbers aren't prime and are therefore allowed to be even, but I can't think of a reason they would all have to be odd. Additionally, none of the prime decompositions are composed of less than three primes. Again, however, I don't have enough experience with modular spaces or number theory to conjecture as to why this is, but I think it's possible that it's related to the fact that they're all odd. I think it would be fascinating to use python to look further into the properties of these false primes."
   ]
  }
 ],
 "metadata": {
  "kernelspec": {
   "display_name": "Python 3",
   "language": "python",
   "name": "python3"
  },
  "language_info": {
   "codemirror_mode": {
    "name": "ipython",
    "version": 3
   },
   "file_extension": ".py",
   "mimetype": "text/x-python",
   "name": "python",
   "nbconvert_exporter": "python",
   "pygments_lexer": "ipython3",
   "version": "3.7.3"
  }
 },
 "nbformat": 4,
 "nbformat_minor": 2
}
