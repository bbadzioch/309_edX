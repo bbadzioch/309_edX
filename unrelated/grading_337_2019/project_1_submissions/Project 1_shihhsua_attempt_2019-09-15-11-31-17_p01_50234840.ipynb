{
 "cells": [
  {
   "cell_type": "markdown",
   "metadata": {},
   "source": [
    " # Part 1 \n",
    " Find the first 20 falseprimes"
   ]
  },
  {
   "cell_type": "code",
   "execution_count": 12,
   "metadata": {},
   "outputs": [],
   "source": [
    "def isprimelike(p):\n",
    "    primelike=True\n",
    "    if p<2:\n",
    "        primelike = False\n",
    "    for a in range(0,p):\n",
    "        if pow(a,p,p)!=(a%p):  # To find the primelike numbers by using the congruen test to test whether or not the numbers are primelike.\n",
    "            primelike=False\n",
    "            break\n",
    "    return primelike \n",
    "#If numbers don't pass the congruence test, it will return false, which means they are not the numbers we are looking for."
   ]
  },
  {
   "cell_type": "markdown",
   "metadata": {},
   "source": [
    "* **The code above is to define primelike and the properties of primelike.**"
   ]
  },
  {
   "cell_type": "code",
   "execution_count": 13,
   "metadata": {},
   "outputs": [],
   "source": [
    "def isprime2(p):\n",
    "    prime=True\n",
    "    if p<2:\n",
    "        prime=False\n",
    "    for m in range(2,int(p**0.5)+1):\n",
    "        if p%m==0:  # If the reminder is 0, then means the number is not prime, therefore, it will be returned false. \n",
    "            prime=False\n",
    "            break\n",
    "    return prime"
   ]
  },
  {
   "cell_type": "markdown",
   "metadata": {},
   "source": [
    "* **Using the code to define prime numbers and providing the properties of prime numebers.**"
   ]
  },
  {
   "cell_type": "code",
   "execution_count": 18,
   "metadata": {},
   "outputs": [],
   "source": [
    "def falseprime(): # The numbers that are not prime but primelike would be added in the list. \n",
    "    myfalseprimelist=[]\n",
    "    p=2  # Starting with p=2.\n",
    "    while len(myfalseprimelist)<20:\n",
    "        if not isprime2(p) and isprimelike(p): #Looking for the numbers that are not prime but primelike\n",
    "                myfalseprimelist.append(p) # Add the numbers to the list.\n",
    "        p+=1 #Check each numbers starting p=2 and add +1 each time. \n",
    "    return myfalseprimelist"
   ]
  },
  {
   "cell_type": "markdown",
   "metadata": {},
   "source": [
    "* **The goal of the part 1 is to use the `isprime2(p)` and `isprimelike(P)` to create a list of numbers which meet the properties of falseprime.**"
   ]
  },
  {
   "cell_type": "code",
   "execution_count": 19,
   "metadata": {},
   "outputs": [
    {
     "data": {
      "text/plain": [
       "[561,\n",
       " 1105,\n",
       " 1729,\n",
       " 2465,\n",
       " 2821,\n",
       " 6601,\n",
       " 8911,\n",
       " 10585,\n",
       " 15841,\n",
       " 29341,\n",
       " 41041,\n",
       " 46657,\n",
       " 52633,\n",
       " 62745,\n",
       " 63973,\n",
       " 75361,\n",
       " 101101,\n",
       " 115921,\n",
       " 126217,\n",
       " 162401]"
      ]
     },
     "execution_count": 19,
     "metadata": {},
     "output_type": "execute_result"
    }
   ],
   "source": [
    "falseprime() #To print out the falseprime"
   ]
  },
  {
   "cell_type": "markdown",
   "metadata": {},
   "source": [
    "# Part 2 \n",
    "Compute the primary decomposition of each false prime you found."
   ]
  },
  {
   "cell_type": "code",
   "execution_count": 20,
   "metadata": {},
   "outputs": [],
   "source": [
    "def myprimenumbers(p): \n",
    "    primenumberlist=[] #Created a list of numbers which are primes in order to use them to decompse falseprime.\n",
    "    for x in range(2,p+1): #Starting numbers from 2 to p itself.\n",
    "        if isprime2(x):\n",
    "            primenumberlist.append(x) #Add the numbers in the list.\n",
    "    return primenumberlist "
   ]
  },
  {
   "cell_type": "markdown",
   "metadata": {},
   "source": [
    "* **To decompose the falseprime by using prime numbers, myprimesnumbers is defined as above.**"
   ]
  },
  {
   "cell_type": "code",
   "execution_count": 21,
   "metadata": {},
   "outputs": [],
   "source": [
    "def primary(p):  #To create codes for decompositing falseprime\n",
    "    decomposition=[]\n",
    "    for a in myprimenumbers(p):\n",
    "        while p%a==0:\n",
    "            decomposition.append(a) # Falseprimes are divied by the prime numbers, if the reminders equal 0, add them to the list. \n",
    "            p//=a\n",
    "        if p==1:\n",
    "            break \n",
    "    return decomposition "
   ]
  },
  {
   "cell_type": "markdown",
   "metadata": {},
   "source": [
    "* **`primary()` is used for the action of decomposition by using the prime numbers found previosly.**"
   ]
  },
  {
   "cell_type": "code",
   "execution_count": 22,
   "metadata": {},
   "outputs": [
    {
     "name": "stdout",
     "output_type": "stream",
     "text": [
      "[3, 11, 17]\n",
      "[5, 13, 17]\n",
      "[7, 13, 19]\n",
      "[5, 17, 29]\n",
      "[7, 13, 31]\n",
      "[7, 23, 41]\n",
      "[7, 19, 67]\n",
      "[5, 29, 73]\n",
      "[7, 31, 73]\n",
      "[13, 37, 61]\n",
      "[7, 11, 13, 41]\n",
      "[13, 37, 97]\n",
      "[7, 73, 103]\n",
      "[3, 5, 47, 89]\n",
      "[7, 13, 19, 37]\n",
      "[11, 13, 17, 31]\n",
      "[7, 11, 13, 101]\n",
      "[13, 37, 241]\n",
      "[7, 13, 19, 73]\n",
      "[17, 41, 233]\n",
      "None\n"
     ]
    }
   ],
   "source": [
    "def out():\n",
    "    a=falseprime()\n",
    "    for num in a:\n",
    "        b=primary(num)\n",
    "        print(b)\n",
    "print(out())"
   ]
  },
  {
   "cell_type": "markdown",
   "metadata": {},
   "source": [
    "* **Used the prime to conduct the decomposition of falseprime as it was shown above.**"
   ]
  },
  {
   "cell_type": "markdown",
   "metadata": {},
   "source": [
    "# Part 3 \n",
    "What can you say or conjecture about properties of false primes?"
   ]
  },
  {
   "cell_type": "markdown",
   "metadata": {},
   "source": [
    " # Introduction "
   ]
  },
  {
   "cell_type": "markdown",
   "metadata": {},
   "source": [
    "Prime numbers are defined as a whole number which is greater than 1, and its factors are only 1 and itself. For example, 3 and 5, both of them are prime numbers because, besides 1 and itself, there are no other numbers that can be used to be divided by and has a reminder of 0. The goal of this project is to find the numbers that are not prime, but primelike, through the usage of the congruence test, so we can point out which numbers are primelike by giving definitions of non primes and primelike to the computer and providing the properties of non primes and primelike. As we obtained the list of falseprimes, from part 1, we need to decompose the falseprime by using only prime numbers that was defined as `myprimenumbers` in the beggining of the part 2."
   ]
  },
  {
   "cell_type": "markdown",
   "metadata": {},
   "source": [
    " # Conclusion"
   ]
  },
  {
   "cell_type": "markdown",
   "metadata": {},
   "source": [
    "In part 1, I used the 3 functions, such as `isprimelike`, `isprime2`, `falseprime` to find non \n",
    "primes, primelike, and falseprime. As a result, throguh isprimelike and isprime, 20 first falseprimes were created in a lis of `falseprime`. In part 2, the 20 falseprimes were decomposed by only primes as shown above in part 2. At the end, the properties of falseprimes are non primes but primelike."
   ]
  }
 ],
 "metadata": {
  "kernelspec": {
   "display_name": "Python 3",
   "language": "python",
   "name": "python3"
  },
  "language_info": {
   "codemirror_mode": {
    "name": "ipython",
    "version": 3
   },
   "file_extension": ".py",
   "mimetype": "text/x-python",
   "name": "python",
   "nbconvert_exporter": "python",
   "pygments_lexer": "ipython3",
   "version": "3.7.1"
  }
 },
 "nbformat": 4,
 "nbformat_minor": 2
}
