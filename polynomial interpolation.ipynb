{
 "cells": [
  {
   "cell_type": "code",
   "execution_count": 13,
   "metadata": {},
   "outputs": [],
   "source": [
    "import operator\n",
    "import numpy as np\n",
    "import random\n",
    "import matplotlib.pyplot as plt\n",
    "import base64\n",
    "from io import BytesIO\n",
    "\n",
    "\n",
    "def generate_points(ymin=-3, ymax=4, n=6):\n",
    "    X = [random.randrange(ymin, ymax) for i in range(n)]\n",
    "    x = np.array(X)\n",
    "    \n",
    "    exps = np.arange(6, dtype=int) \n",
    "    \n",
    "    vandermonde = np.ones((n+1, n+1))\n",
    "    "
   ]
  },
  {
   "cell_type": "code",
   "execution_count": 53,
   "metadata": {},
   "outputs": [
    {
     "ename": "TypeError",
     "evalue": "generate_points() got an unexpected keyword argument 'amin'",
     "output_type": "error",
     "traceback": [
      "\u001b[0;31m---------------------------------------------------------------------------\u001b[0m",
      "\u001b[0;31mTypeError\u001b[0m                                 Traceback (most recent call last)",
      "\u001b[0;32m<ipython-input-53-79516cd083e7>\u001b[0m in \u001b[0;36m<module>\u001b[0;34m\u001b[0m\n\u001b[0;32m----> 1\u001b[0;31m \u001b[0mgenerate_points\u001b[0m\u001b[0;34m(\u001b[0m\u001b[0mamin\u001b[0m\u001b[0;34m=\u001b[0m\u001b[0;34m-\u001b[0m\u001b[0;36m3\u001b[0m\u001b[0;34m,\u001b[0m \u001b[0mamax\u001b[0m\u001b[0;34m=\u001b[0m\u001b[0;36m4\u001b[0m\u001b[0;34m,\u001b[0m \u001b[0mn\u001b[0m\u001b[0;34m=\u001b[0m\u001b[0;36m6\u001b[0m\u001b[0;34m)\u001b[0m\u001b[0;34m\u001b[0m\u001b[0;34m\u001b[0m\u001b[0m\n\u001b[0m",
      "\u001b[0;31mTypeError\u001b[0m: generate_points() got an unexpected keyword argument 'amin'"
     ]
    }
   ],
   "source": [
    "generate_points(amin=-3, amax=4, n=6)"
   ]
  },
  {
   "cell_type": "code",
   "execution_count": 88,
   "metadata": {},
   "outputs": [],
   "source": [
    "def generate_points(amin=-3, amax=4, n=5):\n",
    "\n",
    "    A = [random.randrange(amin, amax) for i in range(n-1)]\n",
    "    non_zero = [n for n in range(ymin, ymax) if n!=0]\n",
    "    A_top = random.choice(non_zero)\n",
    "    A.append(A_top)\n",
    "    a = np.array(A, dtype=int)\n",
    "    x  = np.arange(-n//2 + 1, n//2 + 1)\n",
    "\n",
    "    exps = np.arange(n, dtype=int) \n",
    "\n",
    "    vandermonde = ((np.ones((n, n))*x).T**exps).astype(int)\n",
    "    y = vandermonde.dot(a)\n",
    "    \n",
    "    points = list(zip(x, y))\n",
    "    \n",
    "    return points, list(a)"
   ]
  },
  {
   "cell_type": "code",
   "execution_count": 101,
   "metadata": {},
   "outputs": [],
   "source": [
    "points, a = generate_points()"
   ]
  },
  {
   "cell_type": "code",
   "execution_count": 100,
   "metadata": {},
   "outputs": [
    {
     "data": {
      "text/plain": [
       "[(0, -1), (1, -2), (2, 0), (3, 0), (4, 1)]"
      ]
     },
     "execution_count": 100,
     "metadata": {},
     "output_type": "execute_result"
    }
   ],
   "source": [
    "list(enumerate(a))"
   ]
  },
  {
   "cell_type": "code",
   "execution_count": 35,
   "metadata": {},
   "outputs": [
    {
     "data": {
      "image/png": "[encoded data removed]",
      "text/plain": [
       "<Figure size 360x360 with 1 Axes>"
      ]
     },
     "metadata": {
      "needs_background": "light"
     },
     "output_type": "display_data"
    }
   ],
   "source": [
    "import operator\n",
    "import numpy as np\n",
    "import random\n",
    "import matplotlib.pyplot as plt\n",
    "import base64\n",
    "from io import BytesIO\n",
    "\n",
    "\n",
    "n = 4\n",
    "\n",
    "def generate_points(amin=-3, amax=4, n=4):\n",
    "\n",
    "    A = [random.randrange(amin, amax) for i in range(n-1)]\n",
    "    non_zero = [i for i in range(amin, amax) if i !=0]\n",
    "    A_top = random.choice(non_zero)\n",
    "    A.append(A_top)\n",
    "    a = np.array(A, dtype=int)\n",
    "    x  = np.arange(-n//2 + 1, n//2 + 1)\n",
    "\n",
    "    exps = np.arange(n, dtype=int) \n",
    "\n",
    "    vandermonde = ((np.ones((n, n))*x).T**exps).astype(int)\n",
    "    a = a.reshape(-1, 1)\n",
    "    y = vandermonde.dot(a)\n",
    "    \n",
    "    points = (x, y)\n",
    "    \n",
    "    return points, list(a)\n",
    "\n",
    "def poly(x, coeff):\n",
    "    y = 0\n",
    "    for (i, a) in enumerate(coeff):\n",
    "        y += a*(x**i)\n",
    "    return(y)\n",
    "\n",
    "points, a = generate_points(n=n)  \n",
    "  \n",
    "#print(points)  \n",
    "#print(a)\n",
    "\n",
    "#plotting   \n",
    "\n",
    "x = np.linspace(-n//2 + 0.9 , n//2 +0.1, 100)\n",
    "y = poly(x, a)\n",
    "fig = plt.figure(figsize=(5,5))  \n",
    "xmin, xmax =  np.min(points[0])-0.5, np.max(points[0])+0.5\n",
    "plt.xlim(xmin, xmax)\n",
    "plt.grid()\n",
    "plt.plot(x, y, lw=3)\n",
    "plt.plot(points[0], points[1], \"ro\", ms=8)\n",
    "plt.tight_layout(pad=0)    \n",
    "tmp = BytesIO()\n",
    "fig.savefig(tmp, format=\"png\", dpi=200)\n",
    "enc = base64.b64encode(tmp.getvalue())\n",
    "tmp.close()\n",
    "\n"
   ]
  },
  {
   "cell_type": "code",
   "execution_count": 10,
   "metadata": {},
   "outputs": [
    {
     "data": {
      "text/plain": [
       "array([-1,  0,  1])"
      ]
     },
     "execution_count": 10,
     "metadata": {},
     "output_type": "execute_result"
    }
   ],
   "source": [
    "n = 3\n",
    "x  = np.arange(-n//2 + 1, n//2 + 1)\n",
    "x"
   ]
  },
  {
   "cell_type": "code",
   "execution_count": 12,
   "metadata": {},
   "outputs": [
    {
     "data": {
      "text/plain": [
       "-2"
      ]
     },
     "execution_count": 12,
     "metadata": {},
     "output_type": "execute_result"
    }
   ],
   "source": [
    "-3//2"
   ]
  },
  {
   "cell_type": "code",
   "execution_count": 14,
   "metadata": {},
   "outputs": [
    {
     "data": {
      "text/plain": [
       "array([0, 1, 2, 3])"
      ]
     },
     "execution_count": 14,
     "metadata": {},
     "output_type": "execute_result"
    }
   ],
   "source": [
    "n = 4\n",
    "np.arange(n, dtype=int) "
   ]
  },
  {
   "cell_type": "code",
   "execution_count": 15,
   "metadata": {},
   "outputs": [
    {
     "name": "stdout",
     "output_type": "stream",
     "text": [
      "3.0 4\n"
     ]
    }
   ],
   "source": [
    "N = 4\n",
    "\n",
    "def generate_points(amin=-3, amax=4, n=N):\n",
    "  \n",
    "    A = [random.randrange(amin, amax) for i in range(n-1)]\n",
    "    non_zero = [n for n in range(amin, amax) if n!=0]\n",
    "    A_top = random.choice(non_zero)\n",
    "    A.append(A_top)\n",
    "    a = np.array(A, dtype=int)\n",
    "    x  = np.arange(-(n//2), n/2 + 1)\n",
    "\n",
    "    exps = np.arange(n, dtype=int) \n",
    "  \n",
    "    return float(exps[-1]), n\n",
    "\n",
    "\n",
    "a, n = generate_points()\n",
    "\n",
    "print(a, n)\n",
    "\n"
   ]
  },
  {
   "cell_type": "code",
   "execution_count": 17,
   "metadata": {},
   "outputs": [
    {
     "data": {
      "text/plain": [
       "4"
      ]
     },
     "execution_count": 17,
     "metadata": {},
     "output_type": "execute_result"
    }
   ],
   "source": [
    "n = 4\n",
    "\n",
    "a = [n for n in range(10) if n != 7 ]\n",
    "n"
   ]
  },
  {
   "cell_type": "code",
   "execution_count": 37,
   "metadata": {},
   "outputs": [
    {
     "data": {
      "text/plain": [
       "-2"
      ]
     },
     "execution_count": 37,
     "metadata": {},
     "output_type": "execute_result"
    }
   ],
   "source": [
    "int(\"-2\")"
   ]
  },
  {
   "cell_type": "code",
   "execution_count": 46,
   "metadata": {},
   "outputs": [
    {
     "data": {
      "text/plain": [
       "array([-2, -1,  1,  2])"
      ]
     },
     "execution_count": 46,
     "metadata": {},
     "output_type": "execute_result"
    }
   ],
   "source": [
    "n = 4\n",
    "x  = np.arange(-n//2, n//2 + 1)\n",
    "x  = x[x != 0]\n",
    "x"
   ]
  },
  {
   "cell_type": "code",
   "execution_count": 50,
   "metadata": {},
   "outputs": [
    {
     "data": {
      "text/latex": [
       "$$\\left[\\begin{matrix}1 & -2 & 4 & -8 & 16 & -32\\\\1 & -1 & 1 & -1 & 1 & -1\\\\1 & 1 & 1 & 1 & 1 & 1\\\\1 & 2 & 4 & 8 & 16 & 32\\\\1 & 3 & 9 & 27 & 81 & 243\\end{matrix}\\right]$$"
      ],
      "text/plain": [
       "⎡1  -2  4  -8  16  -32⎤\n",
       "⎢                     ⎥\n",
       "⎢1  -1  1  -1  1   -1 ⎥\n",
       "⎢                     ⎥\n",
       "⎢1  1   1  1   1    1 ⎥\n",
       "⎢                     ⎥\n",
       "⎢1  2   4  8   16  32 ⎥\n",
       "⎢                     ⎥\n",
       "⎣1  3   9  27  81  243⎦"
      ]
     },
     "execution_count": 50,
     "metadata": {},
     "output_type": "execute_result"
    }
   ],
   "source": [
    "import sympy\n",
    "sympy.init_printing(use_latex='mathjax')\n",
    "A = sympy.Matrix([[1, k, (k)**2, (k)**3, (k)**4, (k)**5] for k in [-2, -1, 1, 2, 3] ])\n",
    "A"
   ]
  },
  {
   "cell_type": "code",
   "execution_count": 92,
   "metadata": {},
   "outputs": [
    {
     "data": {
      "text/latex": [
       "$$\\left[\\begin{matrix}2\\\\-3\\\\-1\\\\-6\\\\-23\\end{matrix}\\right]$$"
      ],
      "text/plain": [
       "⎡ 2 ⎤\n",
       "⎢   ⎥\n",
       "⎢-3 ⎥\n",
       "⎢   ⎥\n",
       "⎢-1 ⎥\n",
       "⎢   ⎥\n",
       "⎢-6 ⎥\n",
       "⎢   ⎥\n",
       "⎣-23⎦"
      ]
     },
     "execution_count": 92,
     "metadata": {},
     "output_type": "execute_result"
    }
   ],
   "source": [
    "b = sympy.Matrix([2, -3, -1, -6, -23])\n",
    "b"
   ]
  },
  {
   "cell_type": "code",
   "execution_count": 93,
   "metadata": {},
   "outputs": [],
   "source": [
    "B = A.col_insert(6, b)"
   ]
  },
  {
   "cell_type": "code",
   "execution_count": 90,
   "metadata": {},
   "outputs": [
    {
     "data": {
      "text/latex": [
       "$$\\left[\\begin{matrix}1 & -2 & 4 & -8 & 16 & -32 & 2\\\\1 & -1 & 1 & -1 & 1 & -1 & -2\\\\1 & 1 & 1 & 1 & 1 & 1 & -1\\\\1 & 2 & 4 & 8 & 16 & 32 & -6\\\\1 & 3 & 9 & 27 & 81 & 243 & -23\\end{matrix}\\right]$$"
      ],
      "text/plain": [
       "⎡1  -2  4  -8  16  -32   2 ⎤\n",
       "⎢                          ⎥\n",
       "⎢1  -1  1  -1  1   -1   -2 ⎥\n",
       "⎢                          ⎥\n",
       "⎢1  1   1  1   1    1   -1 ⎥\n",
       "⎢                          ⎥\n",
       "⎢1  2   4  8   16  32   -6 ⎥\n",
       "⎢                          ⎥\n",
       "⎣1  3   9  27  81  243  -23⎦"
      ]
     },
     "execution_count": 90,
     "metadata": {},
     "output_type": "execute_result"
    }
   ],
   "source": [
    "B"
   ]
  },
  {
   "cell_type": "code",
   "execution_count": 94,
   "metadata": {},
   "outputs": [
    {
     "data": {
      "text/latex": [
       "$$\\left ( \\left[\\begin{matrix}1 & 0 & 0 & 0 & 0 & 12 & -2\\\\0 & 1 & 0 & 0 & 0 & -4 & 2\\\\0 & 0 & 1 & 0 & 0 & -15 & 0\\\\0 & 0 & 0 & 1 & 0 & 5 & -1\\\\0 & 0 & 0 & 0 & 1 & 3 & 0\\end{matrix}\\right], \\quad \\left ( 0, \\quad 1, \\quad 2, \\quad 3, \\quad 4\\right )\\right )$$"
      ],
      "text/plain": [
       "⎛⎡1  0  0  0  0  12   -2⎤                 ⎞\n",
       "⎜⎢                      ⎥                 ⎟\n",
       "⎜⎢0  1  0  0  0  -4   2 ⎥                 ⎟\n",
       "⎜⎢                      ⎥                 ⎟\n",
       "⎜⎢0  0  1  0  0  -15  0 ⎥, (0, 1, 2, 3, 4)⎟\n",
       "⎜⎢                      ⎥                 ⎟\n",
       "⎜⎢0  0  0  1  0   5   -1⎥                 ⎟\n",
       "⎜⎢                      ⎥                 ⎟\n",
       "⎝⎣0  0  0  0  1   3   0 ⎦                 ⎠"
      ]
     },
     "execution_count": 94,
     "metadata": {},
     "output_type": "execute_result"
    }
   ],
   "source": [
    "B.rref()"
   ]
  },
  {
   "cell_type": "code",
   "execution_count": 95,
   "metadata": {},
   "outputs": [
    {
     "data": {
      "text/latex": [
       "$$\\left\\{\\left ( - 12 \\tau_{0} - 2, \\quad 4 \\tau_{0} + 2, \\quad 15 \\tau_{0}, \\quad - 5 \\tau_{0} - 1, \\quad - 3 \\tau_{0}, \\quad \\tau_{0}\\right )\\right\\}$$"
      ],
      "text/plain": [
       "{(-12⋅τ₀ - 2, 4⋅τ₀ + 2, 15⋅τ₀, -5⋅τ₀ - 1, -3⋅τ₀, τ₀)}"
      ]
     },
     "execution_count": 95,
     "metadata": {},
     "output_type": "execute_result"
    }
   ],
   "source": [
    "sympy.linsolve((A, b))"
   ]
  },
  {
   "cell_type": "code",
   "execution_count": 56,
   "metadata": {},
   "outputs": [],
   "source": [
    "c = sympy.Matrix([-2, 2, 0, 0, 1, 0])"
   ]
  },
  {
   "cell_type": "code",
   "execution_count": 43,
   "metadata": {},
   "outputs": [
    {
     "data": {
      "text/latex": [
       "$$\\left[\\begin{matrix}-2\\\\2\\\\0\\\\0\\\\1\\\\0\\end{matrix}\\right]$$"
      ],
      "text/plain": [
       "⎡-2⎤\n",
       "⎢  ⎥\n",
       "⎢2 ⎥\n",
       "⎢  ⎥\n",
       "⎢0 ⎥\n",
       "⎢  ⎥\n",
       "⎢0 ⎥\n",
       "⎢  ⎥\n",
       "⎢1 ⎥\n",
       "⎢  ⎥\n",
       "⎣0 ⎦"
      ]
     },
     "execution_count": 43,
     "metadata": {},
     "output_type": "execute_result"
    }
   ],
   "source": [
    "c"
   ]
  },
  {
   "cell_type": "code",
   "execution_count": 44,
   "metadata": {},
   "outputs": [
    {
     "data": {
      "text/latex": [
       "$$\\left[\\begin{matrix}10\\\\-3\\\\1\\\\18\\\\85\\end{matrix}\\right]$$"
      ],
      "text/plain": [
       "⎡10⎤\n",
       "⎢  ⎥\n",
       "⎢-3⎥\n",
       "⎢  ⎥\n",
       "⎢1 ⎥\n",
       "⎢  ⎥\n",
       "⎢18⎥\n",
       "⎢  ⎥\n",
       "⎣85⎦"
      ]
     },
     "execution_count": 44,
     "metadata": {},
     "output_type": "execute_result"
    }
   ],
   "source": [
    "A*c"
   ]
  },
  {
   "cell_type": "code",
   "execution_count": 67,
   "metadata": {},
   "outputs": [
    {
     "data": {
      "text/latex": [
       "$$\\operatorname{Poly}{\\left( x^{5} - 3 x^{4} - 5 x^{3} + 15 x^{2} + 4 x - 12, x, domain=\\mathbb{Z} \\right)}$$"
      ],
      "text/plain": [
       "Poly(x**5 - 3*x**4 - 5*x**3 + 15*x**2 + 4*x - 12, x, domain='ZZ')"
      ]
     },
     "execution_count": 67,
     "metadata": {},
     "output_type": "execute_result"
    }
   ],
   "source": [
    "x = sympy.Symbol(\"x\")\n",
    "\n",
    "m = [-2, -1, 1, 2, 3]\n",
    "\n",
    "y = 1\n",
    "for i in m:\n",
    "    y*= (x-i)\n",
    "    \n",
    "z = sympy.Poly(y)\n",
    "z"
   ]
  },
  {
   "cell_type": "code",
   "execution_count": 79,
   "metadata": {},
   "outputs": [],
   "source": [
    "import numpy as np\n",
    "dd = z.as_dict()\n",
    "u = np.array([dd[i] for i in dd], dtype=int)"
   ]
  },
  {
   "cell_type": "code",
   "execution_count": 81,
   "metadata": {},
   "outputs": [
    {
     "data": {
      "text/plain": [
       "numpy.int64"
      ]
     },
     "execution_count": 81,
     "metadata": {},
     "output_type": "execute_result"
    }
   ],
   "source": [
    "type(u[0])"
   ]
  },
  {
   "cell_type": "code",
   "execution_count": 2,
   "metadata": {},
   "outputs": [
    {
     "name": "stdout",
     "output_type": "stream",
     "text": [
      "(5, 5) (5,)\n",
      "[-12   4  15  -5  -3   1]\n",
      "[-1  2  2  1  0  0]\n"
     ]
    },
    {
     "data": {
      "image/png": "[encoded data removed]",
      "text/plain": [
       "<Figure size 360x360 with 1 Axes>"
      ]
     },
     "metadata": {
      "needs_background": "light"
     },
     "output_type": "display_data"
    }
   ],
   "source": [
    "import operator\n",
    "import numpy as np\n",
    "import random\n",
    "import matplotlib.pyplot as plt\n",
    "import base64\n",
    "from io import BytesIO\n",
    "import sympy\n",
    "\n",
    "n = 5\n",
    "m = 4\n",
    "\n",
    "def generate_points(amin=-2, amax=3, n=4):\n",
    "  \n",
    "    non_zero = [i for i in range(amin, amax) if i!=0]\n",
    "    A = [random.randrange(amin, amax) for i in range(m-1)]\n",
    "    top_coeff = random.choice([i for i in range(amin, amax) if i!=0])\n",
    "    A.extend([top_coeff] + [0]*(n-m))\n",
    "    a = np.array(A, dtype=int)\n",
    "    x  = np.arange(-n//2+1, n//2 + 2)\n",
    "    x = x[x != 0]\n",
    "    exps = np.arange(n, dtype=int) \n",
    "    vandermonde = ((np.ones((n, n))*x).T**exps).astype(int)\n",
    "    print(vandermonde.shape, a.shape)\n",
    "    y = vandermonde.dot(a)\n",
    "    points = (x, y)\n",
    "  \n",
    "    t = sympy.Symbol(\"t\")\n",
    "    b_poly = 1\n",
    "    for k in x:\n",
    "       b_poly *= (t-k)\n",
    "    b_dict = sympy.Poly(b_poly).as_dict()\n",
    "    b_coeff = np.array([b_dict[i] for i in b_dict], dtype=int)\n",
    "    print(b_coeff)\n",
    "    az = np.array(A + [0])\n",
    "    print(az)\n",
    "    b =  az + b_coeff\n",
    "    \n",
    "    return points, list(a), list(b)\n",
    "\n",
    "def poly(x, coeff):\n",
    "    y = np.zeros_like(x)\n",
    "    for (i, a) in enumerate(coeff):\n",
    "        y += a*(x**i)\n",
    "    return(y)\n",
    "\n",
    "points, a, b = generate_points(n=n)  \n",
    "  \n",
    "#print(points)  \n",
    "#print(a)\n",
    "#print(b)\n",
    "\n",
    "#plotting   \n",
    "x = np.linspace(-n//2 + 0.8 , n//2 +1.2, 100)\n",
    "y = poly(x, a)\n",
    "fig = plt.figure(figsize=(5,5))  \n",
    "xmin, xmax =  np.min(x) - 0.5, np.max(x) + 0.5\n",
    "ymin, ymax =  np.min(y) , np.max(y)\n",
    "ymin, ymax =  ymin - 0.1*(ymax-ymin), ymax + 0.1*(ymax-ymin)\n",
    "plt.xlim(xmin, xmax)\n",
    "plt.ylim(ymin, ymax)\n",
    "plt.grid(ls=\"-\", lw=0.5, alpha=0.5)\n",
    "plt.plot(x, y, '--', lw=4, color = \"steelblue\", alpha = 1, zorder = 10)\n",
    "\n",
    "plt.plot(points[0], points[1], \"o\", fc='r', ec=\"steelblue\",  ms=12, zorder = 20)\n",
    "plt.tight_layout(pad=0)    \n",
    "tmp = BytesIO()\n",
    "fig.savefig(tmp, format=\"png\", dpi=200)\n",
    "enc = base64.b64encode(tmp.getvalue())\n",
    "tmp.close()\n",
    "\n",
    "\n",
    "xx = [int(t) for t in points[0]]\n",
    "yy = [int(t) for t in points[1]] \n",
    "\n",
    "s = \"\"\n",
    "for i in range(len(xx)):\n",
    "  s += \"({}, {}), \\hskip 2mm\\n\".format(xx[i], yy[i])\n",
    "s = \"\\[ \" + s + \"\\]\" \n",
    "\n",
    "def format_num(n):\n",
    "  if n == 0:\n",
    "      return str(0)\n",
    "  elif n == 1:\n",
    "      return \"+\"\n",
    "  elif n == -1:\n",
    "      return \"-\"\n",
    "  elif n > 0:\n",
    "     return \"+\" + str(n)\n",
    "  else:\n",
    "      return str(n)\n",
    " \n",
    "ansb = \"{} \".format(a[0]) if a[0] != 0 else \"\"\n",
    "for i in range(1, 4):\n",
    "  fa = format_num(a[i])\n",
    "  if fa == \"0\":\n",
    "     continue\n",
    "  ansb += fa + (\"*\" if fa not in \"+-\" else \"\") + \"x^{} \".format(i)\n",
    "  \n",
    "ansa = \"{} \".format(b[0]) if b[0] != 0 else \"\"\n",
    "for i in range(1, 5):\n",
    "  fb = format_num(b[i])\n",
    "  if fb == \"0\":\n",
    "     continue\n",
    "  ansa += fb + (\"*\" if fb not in \"+-\" else \"\") + \"x^{} \".format(i)"
   ]
  },
  {
   "cell_type": "code",
   "execution_count": null,
   "metadata": {},
   "outputs": [],
   "source": []
  }
 ],
 "metadata": {
  "kernelspec": {
   "display_name": "Python 3",
   "language": "python",
   "name": "python3"
  },
  "language_info": {
   "codemirror_mode": {
    "name": "ipython",
    "version": 3
   },
   "file_extension": ".py",
   "mimetype": "text/x-python",
   "name": "python",
   "nbconvert_exporter": "python",
   "pygments_lexer": "ipython3",
   "version": "3.7.4"
  }
 },
 "nbformat": 4,
 "nbformat_minor": 2
}
