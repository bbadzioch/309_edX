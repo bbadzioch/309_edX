{
 "cells": [
  {
   "cell_type": "code",
   "execution_count": 4,
   "metadata": {},
   "outputs": [],
   "source": [
    "import sys"
   ]
  },
  {
   "cell_type": "code",
   "execution_count": 5,
   "metadata": {},
   "outputs": [
    {
     "data": {
      "text/plain": [
       "'/usr/local/opt/python@2/bin/python2.7'"
      ]
     },
     "execution_count": 5,
     "metadata": {},
     "output_type": "execute_result"
    }
   ],
   "source": [
    "sys.executable"
   ]
  },
  {
   "cell_type": "code",
   "execution_count": 6,
   "metadata": {},
   "outputs": [
    {
     "data": {
      "text/plain": [
       "['',\n",
       " '/usr/local/Cellar/python@2/2.7.16/Frameworks/Python.framework/Versions/2.7/lib/python27.zip',\n",
       " '/usr/local/Cellar/python@2/2.7.16/Frameworks/Python.framework/Versions/2.7/lib/python2.7',\n",
       " '/usr/local/Cellar/python@2/2.7.16/Frameworks/Python.framework/Versions/2.7/lib/python2.7/plat-darwin',\n",
       " '/usr/local/Cellar/python@2/2.7.16/Frameworks/Python.framework/Versions/2.7/lib/python2.7/plat-mac',\n",
       " '/usr/local/Cellar/python@2/2.7.16/Frameworks/Python.framework/Versions/2.7/lib/python2.7/plat-mac/lib-scriptpackages',\n",
       " '/usr/local/Cellar/python@2/2.7.16/Frameworks/Python.framework/Versions/2.7/lib/python2.7/lib-tk',\n",
       " '/usr/local/Cellar/python@2/2.7.16/Frameworks/Python.framework/Versions/2.7/lib/python2.7/lib-old',\n",
       " '/usr/local/Cellar/python@2/2.7.16/Frameworks/Python.framework/Versions/2.7/lib/python2.7/lib-dynload',\n",
       " '/usr/local/lib/python2.7/site-packages',\n",
       " '/usr/local/lib/python2.7/site-packages/gtk-2.0',\n",
       " '/usr/local/lib/python2.7/site-packages/gtk-2.0',\n",
       " '/usr/local/lib/python2.7/site-packages/IPython/extensions',\n",
       " '/Users/bb/.ipython']"
      ]
     },
     "execution_count": 6,
     "metadata": {},
     "output_type": "execute_result"
    }
   ],
   "source": [
    "sys.path"
   ]
  },
  {
   "cell_type": "code",
   "execution_count": 7,
   "metadata": {},
   "outputs": [
    {
     "name": "stdout",
     "output_type": "stream",
     "text": [
      "# packages in environment at /anaconda3/envs/Python27:\n",
      "#\n",
      "# Name                    Version                   Build  Channel\n",
      "appnope                   0.1.0                    py37_0  \n",
      "attrs                     19.1.0                   py37_1  \n",
      "backcall                  0.1.0                    py37_0  \n",
      "blas                      1.0                         mkl  \n",
      "bleach                    3.1.0                    py37_0  \n",
      "ca-certificates           2019.5.15                     0  \n",
      "certifi                   2019.6.16                py37_1  \n",
      "cycler                    0.10.0                   py37_0  \n",
      "decorator                 4.4.0                    py37_1  \n",
      "defusedxml                0.6.0                      py_0  \n",
      "entrypoints               0.3                      py37_0  \n",
      "fastcache                 1.1.0            py37h1de35cc_0  \n",
      "freetype                  2.9.1                hb4e5f40_0  \n",
      "gmp                       6.1.2                hb37e062_1  \n",
      "gmpy2                     2.0.8            py37h6ef4df4_2  \n",
      "intel-openmp              2019.4                      233  \n",
      "ipykernel                 5.1.1            py37h39e3cac_0  \n",
      "ipython                   7.7.0            py37h39e3cac_0  \n",
      "ipython_genutils          0.2.0                    py37_0  \n",
      "jedi                      0.13.3                   py37_0  \n",
      "jinja2                    2.10.1                   py37_0  \n",
      "jsonschema                3.0.1                    py37_0  \n",
      "jupyter_client            5.3.1                      py_0  \n",
      "jupyter_core              4.5.0                      py_0  \n",
      "kiwisolver                1.1.0            py37h0a44026_0  \n",
      "libcxx                    4.0.1                hcfea43d_1  \n",
      "libcxxabi                 4.0.1                hcfea43d_1  \n",
      "libedit                   3.1.20181209         hb402a30_0  \n",
      "libffi                    3.2.1                h475c297_4  \n",
      "libgfortran               3.0.1                h93005f0_2  \n",
      "libpng                    1.6.37               ha441bb4_0  \n",
      "libsodium                 1.0.16               h3efe00b_0  \n",
      "markupsafe                1.1.1            py37h1de35cc_0  \n",
      "matplotlib                3.1.0            py37h54f8f79_0  \n",
      "mistune                   0.8.4            py37h1de35cc_0  \n",
      "mkl                       2019.4                      233  \n",
      "mkl_fft                   1.0.12           py37h5e564d8_0  \n",
      "mkl_random                1.0.2            py37h27c97d8_0  \n",
      "mpc                       1.1.0                h6ef4df4_1  \n",
      "mpfr                      4.0.1                h3018a27_3  \n",
      "mpmath                    1.1.0                    py37_0  \n",
      "nbconvert                 5.5.0                      py_0  \n",
      "nbformat                  4.4.0                    py37_0  \n",
      "ncurses                   6.1                  h0a44026_1  \n",
      "notebook                  6.0.0                    py37_0  \n",
      "numpy                     1.16.4           py37hacdab7b_0  \n",
      "numpy-base                1.16.4           py37h6575580_0  \n",
      "openssl                   1.1.1c               h1de35cc_1  \n",
      "pandoc                    2.2.3.2                       0  \n",
      "pandocfilters             1.4.2                    py37_1  \n",
      "parso                     0.5.0                      py_0  \n",
      "pexpect                   4.7.0                    py37_0  \n",
      "pickleshare               0.7.5                    py37_0  \n",
      "pip                       19.1.1                   py37_0  \n",
      "prometheus_client         0.7.1                      py_0  \n",
      "prompt_toolkit            2.0.9                    py37_0  \n",
      "ptyprocess                0.6.0                    py37_0  \n",
      "pygments                  2.4.2                      py_0  \n",
      "pyparsing                 2.4.0                      py_0  \n",
      "pyrsistent                0.14.11          py37h1de35cc_0  \n",
      "python                    3.7.3                h359304d_0  \n",
      "python-dateutil           2.8.0                    py37_0  \n",
      "pytz                      2019.1                     py_0  \n",
      "pyzmq                     18.0.0           py37h0a44026_0  \n",
      "readline                  7.0                  h1de35cc_5  \n",
      "send2trash                1.5.0                    py37_0  \n",
      "setuptools                41.0.1                   py37_0  \n",
      "six                       1.12.0                   py37_0  \n",
      "sqlite                    3.29.0               ha441bb4_0  \n",
      "sympy                     1.4                      py37_0  \n",
      "terminado                 0.8.2                    py37_0  \n",
      "testpath                  0.4.2                    py37_0  \n",
      "tk                        8.6.8                ha441bb4_0  \n",
      "tornado                   6.0.3            py37h1de35cc_0  \n",
      "traitlets                 4.3.2                    py37_0  \n",
      "wcwidth                   0.1.7                    py37_0  \n",
      "webencodings              0.5.1                    py37_1  \n",
      "wheel                     0.33.4                   py37_0  \n",
      "xz                        5.2.4                h1de35cc_4  \n",
      "zeromq                    4.3.1                h0a44026_3  \n",
      "zlib                      1.2.11               h1de35cc_3  \n"
     ]
    }
   ],
   "source": [
    "!conda list"
   ]
  },
  {
   "cell_type": "code",
   "execution_count": 11,
   "metadata": {},
   "outputs": [],
   "source": [
    "import os"
   ]
  },
  {
   "cell_type": "code",
   "execution_count": null,
   "metadata": {},
   "outputs": [],
   "source": []
  }
 ],
 "metadata": {
  "kernelspec": {
   "display_name": "Python 2",
   "language": "python",
   "name": "python2"
  },
  "language_info": {
   "codemirror_mode": {
    "name": "ipython",
    "version": 2
   },
   "file_extension": ".py",
   "mimetype": "text/x-python",
   "name": "python",
   "nbconvert_exporter": "python",
   "pygments_lexer": "ipython2",
   "version": "2.7.16"
  }
 },
 "nbformat": 4,
 "nbformat_minor": 2
}
