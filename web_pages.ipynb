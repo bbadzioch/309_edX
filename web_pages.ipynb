{
 "cells": [
  {
   "cell_type": "code",
   "execution_count": 955,
   "metadata": {},
   "outputs": [],
   "source": [
    "import numpy as np\n",
    "import matplotlib.pyplot as plt\n",
    "import matplotlib.patches as patches\n",
    "from matplotlib.collections import PatchCollection\n",
    "import itertools\n",
    "import random\n",
    "\n",
    "\n",
    "class WebPages:  \n",
    "    \n",
    "    def __init__(self, N=7, incidence=None, edges=None, simple=True):\n",
    "        self.N = N\n",
    "        \n",
    "        if edges == None:\n",
    "            edges = self.N\n",
    "        else: \n",
    "            edges = min(edges, self.N*(self.N -1))\n",
    "        \n",
    "        if type(incidence) != type(None):\n",
    "            self.incidence = incidence\n",
    "        elif simple:\n",
    "            self.incidence = self.random_edges_simple(edges)\n",
    "        else:\n",
    "            self.incidence = self.random_edges(edges)\n",
    "        \n",
    "    def random_tree(self):\n",
    "        \n",
    "        matrix = matrix = np.zeros((self.N, self.N), dtype=int)\n",
    "        source = list(range(self.N))\n",
    "        random.shuffle(source)\n",
    "        root = source.pop()\n",
    "        dest = [root]\n",
    "        while source:\n",
    "            d = random.choice(dest)\n",
    "            s = source.pop()\n",
    "            matrix[d, s] = 1\n",
    "            dest.append(s)\n",
    "        return matrix, root\n",
    "\n",
    "    \n",
    "    def random_edges_simple(self, edges):\n",
    "        \n",
    "        matrix, root = self.random_tree()\n",
    "        \n",
    "        roots = {root}\n",
    "        while True:\n",
    "            A = matrix.copy()\n",
    "            for k in range(self.N):\n",
    "                A  += np.dot(A, matrix)\n",
    "\n",
    "            leaves = list(np.flatnonzero(np.sum(A, axis=1) == 0))\n",
    "            if len(leaves) == 0:\n",
    "                break\n",
    "            i = random.choice(leaves)\n",
    "            j = random.choice(list(roots))\n",
    "            matrix[i, j] = 1\n",
    "            new_roots = set(np.flatnonzero(A[:,i]))\n",
    "            roots.update(new_roots)\n",
    "            \n",
    "            \n",
    "        \n",
    "        diff = edges - np.sum(matrix)         \n",
    "        if diff > 0:\n",
    "            matrix = matrix.ravel()\n",
    "            reye = np.eye(self.N, dtype=int).ravel() \n",
    "            rmatrix = matrix + reye\n",
    "            zeros_idx = np.arange(self.N**2, dtype=int)\n",
    "            zeros_idx = zeros_idx[rmatrix == 0] \n",
    "            s = random.sample(list(zeros_idx), diff)\n",
    "            matrix[s] = 1\n",
    "            matrix = matrix.reshape(self.N, self.N)\n",
    "        \n",
    "        return matrix\n",
    "            \n",
    "    \n",
    "    def random_edges(self, edges):\n",
    "        \n",
    "        matrix = np.zeros(self.N**2, dtype=int)\n",
    "        eye = np.eye(self.N, dtype=int).ravel()\n",
    "        off_diagonal = np.arange(self.N**2, dtype=int)[eye == 0]\n",
    "        indices = random.sample(list(off_diagonal), edges)\n",
    "        matrix[indices] = 1\n",
    "        matrix = matrix.reshape((self.N, self.N))\n",
    "        matrix[range(self.N), range(self.N)] = 0\n",
    "        return matrix\n",
    "    \n",
    "    def simple_page_rank(self):\n",
    "        matrix = self.incidence.T\n",
    "        coeffs = matrix/np.sum(matrix, axis=0) - np.eye(self.N)\n",
    "        coeffs = np.vstack((coeffs, np.ones(self.N)))\n",
    "        b = np.zeros(self.N+1)\n",
    "        b[-1] = 1\n",
    "        ranks = np.linalg.lstsq(coeffs, b, rcond=None)\n",
    "        return [float(r) for r in ranks[0]]\n",
    "            \n",
    "\n",
    "    def plot_web(self, figsize=(7,7)):   \n",
    "        \n",
    "        # spacing is the radius of the circle containing centers of nodes\n",
    "        spacing = self.N*0.7\n",
    "        #limit of the plot\n",
    "        lim = spacing + 2    \n",
    "        node_color = (1.00,0.86,0.15)\n",
    "        edge_color = \"steelblue\"\n",
    "        arrow_offset = 1.4   #controls placement of arrow tips\n",
    "        head_width=0.3       # arrowhead width\n",
    "        head_length=0.35     # arrowhead length\n",
    "        radius = 1           # radius of node circles\n",
    "\n",
    "        a = np.linspace(0, 2*np.pi, self.N+1)[:-1] \n",
    "        v = spacing*np.vstack((np.sin(a), np.cos(a))).T\n",
    "\n",
    "        fig = plt.figure(figsize=figsize)\n",
    "        ax = plt.gca()\n",
    "        ax.set_aspect('equal')\n",
    "        ax.set_xlim(-lim, lim)\n",
    "        ax.set_ylim(-lim, lim)\n",
    "        ax.set_xticks([])\n",
    "        ax.set_yticks([])\n",
    "        nodes = []\n",
    "        for i in range(self.N):\n",
    "            circle_patch = patches.Circle(v[i], radius = radius)\n",
    "            nodes.append(circle_patch)\n",
    "\n",
    "        node_collection = PatchCollection(\n",
    "            nodes, \n",
    "            facecolor= node_color, \n",
    "            edgecolor='k'\n",
    "        )\n",
    "\n",
    "        ax.add_collection(node_collection)\n",
    "        for i in range(self.N):\n",
    "            plt.text(*v[i], \n",
    "                     s = \"{}\".format(i+1), \n",
    "                     horizontalalignment='center', \n",
    "                     verticalalignment='center',\n",
    "                     fontsize=int(150/self.N), \n",
    "                     color = 'k'\n",
    "            )\n",
    "\n",
    "        for i, j in itertools.product(range(self.N), range(self.N)):\n",
    "            if  not self.incidence[i, j]:\n",
    "                continue\n",
    "            d = v[j]-v[i]\n",
    "            norm_d = np.linalg.norm(d) \n",
    "            ax.arrow(\n",
    "                *tuple(v[i]), \n",
    "                *tuple(((norm_d - arrow_offset)/norm_d)*d), \n",
    "                fc = edge_color, \n",
    "                ec = edge_color, \n",
    "                head_width = head_width, \n",
    "                head_length = head_length, \n",
    "                lw = 4,\n",
    "                zorder = 0\n",
    "            )\n",
    "\n",
    "        return fig\n"
   ]
  },
  {
   "cell_type": "code",
   "execution_count": 973,
   "metadata": {
    "scrolled": false
   },
   "outputs": [
    {
     "name": "stdout",
     "output_type": "stream",
     "text": [
      "[[0 0 1 1 0]\n",
      " [0 0 0 0 1]\n",
      " [1 1 0 0 1]\n",
      " [0 0 1 0 1]\n",
      " [0 1 1 1 0]]\n",
      "[0.07692307692307655, 0.19230769230769226, 0.23076923076923073, 0.1538461538461538, 0.3461538461538462]\n"
     ]
    },
    {
     "data": {
      "text/plain": [
       "0.9999999999999996"
      ]
     },
     "execution_count": 973,
     "metadata": {},
     "output_type": "execute_result"
    },
    {
     "data": {
      "image/png": "[encoded data removed]",
      "text/plain": [
       "<Figure size 504x504 with 1 Axes>"
      ]
     },
     "metadata": {},
     "output_type": "display_data"
    }
   ],
   "source": [
    "x = WebPages(N=5,edges=11, simple=True)\n",
    "print(x.incidence)\n",
    "f = x.plot_web()\n",
    "r = x.simple_page_rank()\n",
    "print(r)\n",
    "sum(r)"
   ]
  },
  {
   "cell_type": "code",
   "execution_count": 954,
   "metadata": {},
   "outputs": [
    {
     "data": {
      "text/plain": [
       "[0.07692307692307682,\n",
       " 0.07692307692307683,\n",
       " 0.07692307692307711,\n",
       " 0.15384615384615374,\n",
       " 0.15384615384615383,\n",
       " 0.23076923076923087,\n",
       " 0.23076923076923106]"
      ]
     },
     "execution_count": 954,
     "metadata": {},
     "output_type": "execute_result"
    }
   ],
   "source": [
    "sorted([float(r) for r in x.simple_page_rank()[0]])"
   ]
  },
  {
   "cell_type": "code",
   "execution_count": 905,
   "metadata": {},
   "outputs": [],
   "source": [
    "a[1] = 0"
   ]
  },
  {
   "cell_type": "code",
   "execution_count": 907,
   "metadata": {},
   "outputs": [],
   "source": [
    "b = np.flatnonzero(a==1)"
   ]
  },
  {
   "cell_type": "code",
   "execution_count": 908,
   "metadata": {},
   "outputs": [
    {
     "data": {
      "text/plain": [
       "0"
      ]
     },
     "execution_count": 908,
     "metadata": {},
     "output_type": "execute_result"
    }
   ],
   "source": [
    "len(b) "
   ]
  },
  {
   "cell_type": "code",
   "execution_count": 901,
   "metadata": {},
   "outputs": [
    {
     "data": {
      "text/plain": [
       "4"
      ]
     },
     "execution_count": 901,
     "metadata": {},
     "output_type": "execute_result"
    }
   ],
   "source": [
    "len(a)"
   ]
  },
  {
   "cell_type": "code",
   "execution_count": 1,
   "metadata": {},
   "outputs": [],
   "source": [
    "#load SymPy module content\n",
    "from sympy import *\n",
    "\n",
    "#this makes printouts of matrices and vectors more readeable:\n",
    "init_printing(use_latex='mathjax')"
   ]
  },
  {
   "cell_type": "code",
   "execution_count": 63,
   "metadata": {},
   "outputs": [
    {
     "data": {
      "text/latex": [
       "$$\\left[\\begin{matrix}-1 & 0 & \\frac{1}{2} & \\frac{1}{2} & 0\\\\\\frac{1}{3} & -1 & \\frac{1}{2} & 0 & 0\\\\\\frac{1}{3} & 0 & -1 & 0 & 1\\\\0 & 1 & 0 & -1 & 0\\\\\\frac{1}{3} & 0 & 0 & \\frac{1}{2} & -1\\\\1 & 1 & 1 & 1 & 1\\end{matrix}\\right]$$"
      ],
      "text/plain": [
       "⎡-1   0   1/2  1/2  0 ⎤\n",
       "⎢                     ⎥\n",
       "⎢1/3  -1  1/2   0   0 ⎥\n",
       "⎢                     ⎥\n",
       "⎢1/3  0   -1    0   1 ⎥\n",
       "⎢                     ⎥\n",
       "⎢ 0   1    0   -1   0 ⎥\n",
       "⎢                     ⎥\n",
       "⎢1/3  0    0   1/2  -1⎥\n",
       "⎢                     ⎥\n",
       "⎣ 1   1    1    1   1 ⎦"
      ]
     },
     "execution_count": 63,
     "metadata": {},
     "output_type": "execute_result"
    }
   ],
   "source": [
    "D = zeros(6, 5)\n",
    "D[1, 0] = Rational(1,3)\n",
    "D[2, 0] = Rational(1,3)\n",
    "D[4, 0] = Rational(1,3)\n",
    "\n",
    "D[3,1] = 1\n",
    "\n",
    "D[0,2] = Rational(1,2)\n",
    "D[1,2] = Rational(1,2)\n",
    "\n",
    "D[0,3] = Rational(1,2)\n",
    "D[4,3] = Rational(1,2)\n",
    "\n",
    "D[2,4] = 1\n",
    "\n",
    "\n",
    "D[5, :] = Matrix([[1, 1, 1, 1, 1]])\n",
    "for i in range(5):\n",
    "    D[i, i] = D[i, i] - 1\n",
    "D"
   ]
  },
  {
   "cell_type": "code",
   "execution_count": 64,
   "metadata": {},
   "outputs": [],
   "source": [
    "b = Matrix([0,0,0,0,0, 1])"
   ]
  },
  {
   "cell_type": "code",
   "execution_count": 71,
   "metadata": {},
   "outputs": [],
   "source": [
    "x = linsolve((D, b))"
   ]
  },
  {
   "cell_type": "code",
   "execution_count": 76,
   "metadata": {},
   "outputs": [
    {
     "data": {
      "text/plain": [
       "['__add__',\n",
       " '__and__',\n",
       " '__class__',\n",
       " '__contains__',\n",
       " '__delattr__',\n",
       " '__dict__',\n",
       " '__dir__',\n",
       " '__doc__',\n",
       " '__eq__',\n",
       " '__format__',\n",
       " '__ge__',\n",
       " '__getattribute__',\n",
       " '__getnewargs__',\n",
       " '__getstate__',\n",
       " '__gt__',\n",
       " '__hash__',\n",
       " '__init__',\n",
       " '__init_subclass__',\n",
       " '__iter__',\n",
       " '__le__',\n",
       " '__len__',\n",
       " '__lt__',\n",
       " '__module__',\n",
       " '__mul__',\n",
       " '__ne__',\n",
       " '__new__',\n",
       " '__or__',\n",
       " '__pow__',\n",
       " '__reduce__',\n",
       " '__reduce_ex__',\n",
       " '__repr__',\n",
       " '__setattr__',\n",
       " '__setstate__',\n",
       " '__sizeof__',\n",
       " '__slots__',\n",
       " '__str__',\n",
       " '__sub__',\n",
       " '__subclasshook__',\n",
       " '__weakref__',\n",
       " '__xor__',\n",
       " '_accept_eval_derivative',\n",
       " '_args',\n",
       " '_assumptions',\n",
       " '_boundary',\n",
       " '_compare_pretty',\n",
       " '_complement',\n",
       " '_constructor_postprocessor_mapping',\n",
       " '_contains',\n",
       " '_elements',\n",
       " '_eval_Eq',\n",
       " '_eval_derivative_n_times',\n",
       " '_eval_evalf',\n",
       " '_eval_powerset',\n",
       " '_eval_rewrite',\n",
       " '_eval_subs',\n",
       " '_evalf',\n",
       " '_exec_constructor_postprocessors',\n",
       " '_explicit_class_assumptions',\n",
       " '_has',\n",
       " '_has_matcher',\n",
       " '_hashable_content',\n",
       " '_inf',\n",
       " '_infimum_key',\n",
       " '_measure',\n",
       " '_mhash',\n",
       " '_prop_handler',\n",
       " '_recursive_call',\n",
       " '_sorted_args',\n",
       " '_subs',\n",
       " '_sup',\n",
       " '_symmetric_difference',\n",
       " '_to_mpmath',\n",
       " '_visit_eval_derivative_array',\n",
       " '_visit_eval_derivative_scalar',\n",
       " '_xreplace',\n",
       " 'args',\n",
       " 'as_content_primitive',\n",
       " 'as_poly',\n",
       " 'as_relational',\n",
       " 'assumptions0',\n",
       " 'atoms',\n",
       " 'boundary',\n",
       " 'canonical_variables',\n",
       " 'class_key',\n",
       " 'closure',\n",
       " 'compare',\n",
       " 'complement',\n",
       " 'contains',\n",
       " 'copy',\n",
       " 'count',\n",
       " 'count_ops',\n",
       " 'default_assumptions',\n",
       " 'doit',\n",
       " 'dummy_eq',\n",
       " 'evalf',\n",
       " 'expr_free_symbols',\n",
       " 'find',\n",
       " 'free_symbols',\n",
       " 'fromiter',\n",
       " 'func',\n",
       " 'has',\n",
       " 'inf',\n",
       " 'interior',\n",
       " 'intersect',\n",
       " 'intersection',\n",
       " 'is_Add',\n",
       " 'is_AlgebraicNumber',\n",
       " 'is_Atom',\n",
       " 'is_Boolean',\n",
       " 'is_Complement',\n",
       " 'is_ComplexRegion',\n",
       " 'is_Derivative',\n",
       " 'is_Dummy',\n",
       " 'is_EmptySet',\n",
       " 'is_Equality',\n",
       " 'is_FiniteSet',\n",
       " 'is_Float',\n",
       " 'is_Function',\n",
       " 'is_Indexed',\n",
       " 'is_Integer',\n",
       " 'is_Intersection',\n",
       " 'is_Interval',\n",
       " 'is_MatAdd',\n",
       " 'is_MatMul',\n",
       " 'is_Matrix',\n",
       " 'is_Mul',\n",
       " 'is_Not',\n",
       " 'is_Number',\n",
       " 'is_NumberSymbol',\n",
       " 'is_Order',\n",
       " 'is_Piecewise',\n",
       " 'is_Point',\n",
       " 'is_Poly',\n",
       " 'is_Pow',\n",
       " 'is_ProductSet',\n",
       " 'is_Rational',\n",
       " 'is_Relational',\n",
       " 'is_Symbol',\n",
       " 'is_Union',\n",
       " 'is_UniversalSet',\n",
       " 'is_Vector',\n",
       " 'is_Wild',\n",
       " 'is_algebraic',\n",
       " 'is_antihermitian',\n",
       " 'is_closed',\n",
       " 'is_commutative',\n",
       " 'is_comparable',\n",
       " 'is_complex',\n",
       " 'is_composite',\n",
       " 'is_disjoint',\n",
       " 'is_even',\n",
       " 'is_finite',\n",
       " 'is_hermitian',\n",
       " 'is_hypergeometric',\n",
       " 'is_imaginary',\n",
       " 'is_infinite',\n",
       " 'is_integer',\n",
       " 'is_interval',\n",
       " 'is_irrational',\n",
       " 'is_iterable',\n",
       " 'is_negative',\n",
       " 'is_noninteger',\n",
       " 'is_nonnegative',\n",
       " 'is_nonpositive',\n",
       " 'is_nonzero',\n",
       " 'is_number',\n",
       " 'is_odd',\n",
       " 'is_open',\n",
       " 'is_polar',\n",
       " 'is_positive',\n",
       " 'is_prime',\n",
       " 'is_proper_subset',\n",
       " 'is_proper_superset',\n",
       " 'is_rational',\n",
       " 'is_real',\n",
       " 'is_subset',\n",
       " 'is_superset',\n",
       " 'is_symbol',\n",
       " 'is_transcendental',\n",
       " 'is_zero',\n",
       " 'isdisjoint',\n",
       " 'issubset',\n",
       " 'issuperset',\n",
       " 'match',\n",
       " 'matches',\n",
       " 'measure',\n",
       " 'n',\n",
       " 'powerset',\n",
       " 'rcall',\n",
       " 'replace',\n",
       " 'rewrite',\n",
       " 'sort_key',\n",
       " 'subs',\n",
       " 'sup',\n",
       " 'symmetric_difference',\n",
       " 'union',\n",
       " 'xreplace']"
      ]
     },
     "execution_count": 76,
     "metadata": {},
     "output_type": "execute_result"
    }
   ],
   "source": [
    "dir(x)"
   ]
  },
  {
   "cell_type": "code",
   "execution_count": 79,
   "metadata": {},
   "outputs": [
    {
     "data": {
      "text/latex": [
       "$$\\frac{3}{14}$$"
      ],
      "text/plain": [
       "3/14"
      ]
     },
     "execution_count": 79,
     "metadata": {},
     "output_type": "execute_result"
    }
   ],
   "source": [
    "x.args[0][0]"
   ]
  },
  {
   "cell_type": "code",
   "execution_count": 70,
   "metadata": {},
   "outputs": [
    {
     "data": {
      "text/latex": [
       "$$0.16666666666666666$$"
      ],
      "text/plain": [
       "0.16666666666666666"
      ]
     },
     "execution_count": 70,
     "metadata": {},
     "output_type": "execute_result"
    }
   ],
   "source": [
    "1/6"
   ]
  },
  {
   "cell_type": "code",
   "execution_count": 88,
   "metadata": {},
   "outputs": [
    {
     "data": {
      "text/latex": [
       "$$\\left[\\begin{matrix}\\frac{3}{14}\\\\\\frac{4}{21}\\\\\\frac{5}{21}\\\\\\frac{4}{21}\\\\\\frac{1}{6}\\end{matrix}\\right]$$"
      ],
      "text/plain": [
       "⎡3/14⎤\n",
       "⎢    ⎥\n",
       "⎢4/21⎥\n",
       "⎢    ⎥\n",
       "⎢5/21⎥\n",
       "⎢    ⎥\n",
       "⎢4/21⎥\n",
       "⎢    ⎥\n",
       "⎣1/6 ⎦"
      ]
     },
     "execution_count": 88,
     "metadata": {},
     "output_type": "execute_result"
    }
   ],
   "source": [
    "D = zeros(5, 5)\n",
    "D[1, 0] = Rational(1,3)\n",
    "D[2, 0] = Rational(1,3)\n",
    "D[4, 0] = Rational(1,3)\n",
    "\n",
    "D[3,1] = 1\n",
    "\n",
    "D[0,2] = Rational(1,2)\n",
    "D[1,2] = Rational(1,2)\n",
    "\n",
    "D[0,3] = Rational(1,2)\n",
    "D[4,3] = Rational(1,2)\n",
    "\n",
    "D[2,4] = 1\n",
    "\n",
    "D.eigenvects()[0][2][0]/sum(D.eigenvects()[0][2][0])"
   ]
  },
  {
   "cell_type": "code",
   "execution_count": null,
   "metadata": {},
   "outputs": [],
   "source": []
  }
 ],
 "metadata": {
  "kernelspec": {
   "display_name": "Python 3",
   "language": "python",
   "name": "python3"
  },
  "language_info": {
   "codemirror_mode": {
    "name": "ipython",
    "version": 3
   },
   "file_extension": ".py",
   "mimetype": "text/x-python",
   "name": "python",
   "nbconvert_exporter": "python",
   "pygments_lexer": "ipython3",
   "version": "3.7.1"
  }
 },
 "nbformat": 4,
 "nbformat_minor": 2
}
