{
 "cells": [
  {
   "cell_type": "code",
   "execution_count": 2,
   "metadata": {},
   "outputs": [],
   "source": [
    "import sympy\n",
    "sympy.init_printing(use_latex='mathjax')\n",
    "import numpy as np"
   ]
  },
  {
   "cell_type": "markdown",
   "metadata": {},
   "source": [
    "## Pivot columns\n",
    "\n",
    "<p>Determine which columns of the following matrix are pivot colummns.</p>  \n",
    "\n",
    "$$\n",
    "\\begin{bmatrix}\n",
    "1 & 3 & 2 & 3 & 4 \\\\\n",
    "2 & 6 & 1 & 3 & 3 \\\\\n",
    "1 & 3 & 3 & 4 & 6 \\\\\n",
    "1 & 3 & 1 & 2 & 1 \\\\\n",
    "\\end{bmatrix}\n",
    "$$"
   ]
  },
  {
   "cell_type": "code",
   "execution_count": 45,
   "metadata": {},
   "outputs": [
    {
     "data": {
      "text/latex": [
       "$$\\left ( \\left[\\begin{matrix}1 & 3 & 0 & 1 & 0\\\\0 & 0 & 1 & 1 & 0\\\\0 & 0 & 0 & 0 & 1\\\\0 & 0 & 0 & 0 & 0\\end{matrix}\\right], \\quad \\left ( 0, \\quad 2, \\quad 4\\right )\\right )$$"
      ],
      "text/plain": [
       "⎛⎡1  3  0  1  0⎤           ⎞\n",
       "⎜⎢             ⎥           ⎟\n",
       "⎜⎢0  0  1  1  0⎥           ⎟\n",
       "⎜⎢             ⎥, (0, 2, 4)⎟\n",
       "⎜⎢0  0  0  0  1⎥           ⎟\n",
       "⎜⎢             ⎥           ⎟\n",
       "⎝⎣0  0  0  0  0⎦           ⎠"
      ]
     },
     "execution_count": 45,
     "metadata": {},
     "output_type": "execute_result"
    }
   ],
   "source": [
    "A = Matrix([[1, 3, 2, 3, 4],\n",
    "           [2, 6, 1, 3, 3],\n",
    "           [1, 3, 3, 4, 6],\n",
    "           [1, 3, 1, 2, 1]]\n",
    "          )\n",
    "A.rref()"
   ]
  },
  {
   "cell_type": "markdown",
   "metadata": {},
   "source": [
    "## Vectors in Span\n",
    "\n",
    "<p>Consider the following vectors:\n",
    "$$\n",
    "{\\mathbf v}_1 = \n",
    "\\begin{bmatrix}\n",
    "\\phantom{-}1\\\\\n",
    "\\phantom{-}2\\\\\n",
    "\\phantom{-}3\\\\\n",
    "\\end{bmatrix}\n",
    "\\hskip 4mm\n",
    "{\\mathbf v}_2 = \n",
    "\\begin{bmatrix}\n",
    "\\phantom{-}2\\\\\n",
    "\\phantom{-}2\\\\\n",
    "\\phantom{-}3\\\\\n",
    "\\end{bmatrix}\n",
    "\\hskip 4mm\n",
    "{\\mathbf v}_3 = \n",
    "\\begin{bmatrix}\n",
    "\\phantom{-}1\\\\\n",
    "-2\\\\\n",
    "-3\\\\\n",
    "\\end{bmatrix}\n",
    "$$\n",
    "</p>\n",
    "<p>\n",
    "Determine which of the following vectors are in \\(\\text{Span}({\\mathbf v}_1, {\\mathbf v}_2, {\\mathbf v}_3)\\).\n",
    "\n",
    "$$\n",
    "{\\mathbf w}_1 = \n",
    "\\begin{bmatrix}\n",
    "-2\\\\\n",
    "-2\\\\\n",
    "-3\\\\\n",
    "\\end{bmatrix}\n",
    "\\hskip 4mm\n",
    "{\\mathbf w}_2 = \n",
    "\\begin{bmatrix}\n",
    "\\phantom{-}0\\\\\n",
    "\\phantom{-}1\\\\\n",
    "\\phantom{-}0\\\\\n",
    "\\end{bmatrix}\n",
    "\\hskip 4mm\n",
    "{\\mathbf w}_3 = \n",
    "\\begin{bmatrix}\n",
    "\\phantom{-}1\\\\\n",
    "\\phantom{-}0\\\\\n",
    "\\phantom{-}0\\\\\n",
    "\\end{bmatrix}\n",
    "\\hskip 4mm\n",
    "{\\mathbf w}_4 = \n",
    "\\begin{bmatrix}\n",
    "\\phantom{-}0\\\\\n",
    "\\phantom{-}0\\\\\n",
    "\\phantom{-}0\\\\\n",
    "\\end{bmatrix}\n",
    "\\hskip 4mm\n",
    "{\\mathbf w}_5 = \n",
    "\\begin{bmatrix}\n",
    "-1\\\\\n",
    "\\phantom{-}1\\\\\n",
    "\\phantom{-}1\\\\\n",
    "\\end{bmatrix}\n",
    "\\hskip 4mm\n",
    "{\\mathbf w}_6 = \n",
    "\\begin{bmatrix}\n",
    "\\phantom{-}5\\\\\n",
    "\\phantom{-}2\\\\\n",
    "\\phantom{-}3\\\\\n",
    "\\end{bmatrix}\n",
    "$$   \n",
    "\n",
    "</p>"
   ]
  },
  {
   "cell_type": "markdown",
   "metadata": {},
   "source": [
    "## Solutions of linear equations"
   ]
  },
  {
   "cell_type": "code",
   "execution_count": 29,
   "metadata": {},
   "outputs": [],
   "source": [
    "import math\n",
    "class FormatError(Exception):\n",
    "    pass\n",
    "\n",
    "def scrub_string(s, glob_dir={}, loc_dir={}, clear=False):\n",
    "    \"\"\"\n",
    "    Scrubs a string, evaluates it, and returns the\n",
    "    evaluated expression. It also replaces \"^\" with \"**\" in the string.\n",
    "\n",
    "    :s:\n",
    "        A string.\n",
    "    :glob_dir:\n",
    "        A directory of global objects permitted in the string\n",
    "    :local_dir:\n",
    "        A directory of local objects names permitted in the string\n",
    "    :clear: Boolean.\n",
    "        If False all objects from the math module as well as the abs\n",
    "        and pow functions are inserted in glob_dir.\n",
    "\n",
    "    Returns:\n",
    "        The evaluated string.\n",
    "    \"\"\"\n",
    "\n",
    "    if not clear:\n",
    "        allowed_builtins = {\"abs\":abs, \"pow\":pow, }\n",
    "        math_dir = {s:getattr(math, s) for s in dir(math) if \"__\" not in s}\n",
    "        glob_dir[\"__builtins__\"] = allowed_builtins\n",
    "        glob_dir.update(math_dir)\n",
    "\n",
    "    # disable double underscores since can be used to get object attributes\n",
    "    if \"__\" in s:\n",
    "        raise FormatError(\"Invalid input\")\n",
    "\n",
    "    try:\n",
    "        s.strip()\n",
    "        s.replace(\" \", \"\")\n",
    "        s = s.replace(\"^\", \"**\")\n",
    "        return eval(s ,glob_dir, loc_dir)\n",
    "    except Exception:\n",
    "        raise FormatError(\"Invalid input\")\n",
    "\n",
    "\n",
    "\n",
    "\n",
    "\n",
    "import sympy\n",
    "import numpy as np\n",
    "\n",
    "def linear_eqs_grader(A, b, symb = \"x\", atol=0.1, rtol=0):\n",
    "    \n",
    "    A = sympy.Matrix(A)\n",
    "    b = sympy.Matrix(b)\n",
    "    n = A.shape[1]\n",
    "    Ab = A.col_insert(n, b)\n",
    "    no_solutions = (n in Ab.rref()[1])\n",
    "    rank = len(A.rref()[1])\n",
    "    nullity = n - rank\n",
    "    \n",
    "    \n",
    "    # columns of the test matrix give test values of free variables \n",
    "    # for checking the solution\n",
    "    if nullity > 0:\n",
    "        test_matrix = sympy.eye(nullity).col_insert(0, sympy.Matrix([0]*nullity))\n",
    "    else:\n",
    "        test_matrix = sympy.Matrix([0])\n",
    "        \n",
    "    # prepare a disctionary of names of variables appearing in the system of equations \n",
    "    # and their associated sympy symbols; this is used for parsing answer strings\n",
    "    variables = {}\n",
    "    for i in range(n):\n",
    "        variables[\"{0}_{1}\".format(symb, i+1)] = sympy.Symbol(\"{0}_{1}\".format(symb, i+1))\n",
    "    \n",
    "    # convert the coefficient matrix and the vector of constants into \n",
    "    # numpy array - it is more convenient to test the solution in this form\n",
    "    A_arr = np.array(A).astype(float)\n",
    "    b_arr = np.array(b).astype(float).ravel()\n",
    "    \n",
    "    def check_answer(expect, ans):\n",
    "        \n",
    "        # test for no solutions\n",
    "        ans_str = [s.strip().lower() for s in ans]\n",
    "        if \"none\" in ans_str:\n",
    "            if no_solutions:\n",
    "                return True\n",
    "            else:\n",
    "                return False\n",
    "        \n",
    "        # number of entries in the answer must match the number of variables. \n",
    "        if len(ans) != n:\n",
    "            return False\n",
    "        \n",
    "        # convert answer entries into sympy expressions \n",
    "        # and collect free variables appearing in the answer\n",
    "        free_vars = set()\n",
    "        eval_ans = []\n",
    "        \n",
    "\n",
    "        for i in range(n):\n",
    "            y = scrub_string(ans[i], glob_dir=variables)\n",
    "            try :\n",
    "                fy = y.free_symbols\n",
    "            except AttributeError:\n",
    "                fy = set()\n",
    "            free_vars.update(fy)\n",
    "            eval_ans.append(y)\n",
    "        \n",
    "        free_vars = list(free_vars)\n",
    "        \n",
    "        # the number of free variables in the answer must match the nullity \n",
    "        # of the coefficient matrix\n",
    "        if len(free_vars) != nullity:\n",
    "            return False\n",
    "         \n",
    "        # plug in test values into free variables in the answer\n",
    "        # check is the resulting vector is a solution of the system\n",
    "        for i in range(nullity+1):\n",
    "            test_vals = test_matrix[:, i]\n",
    "            test_sub = list(zip(free_vars, test_vals))\n",
    "            ans_subs = []\n",
    "            for y in eval_ans:\n",
    "                try:\n",
    "                    ys = y.subs(test_sub)\n",
    "                except AttributeError:\n",
    "                    ys = y\n",
    "                ans_subs.append(ys)\n",
    "            ans_subs_arr = np.array(ans_subs).astype(float)\n",
    "            ans_prod = np.dot(A_arr, ans_subs_arr)\n",
    "            if not np.allclose(ans_prod, b_arr, atol= atol, rtol=rtol):\n",
    "                return False\n",
    "        \n",
    "        return True\n",
    "    \n",
    "    return check_answer"
   ]
  },
  {
   "cell_type": "markdown",
   "metadata": {},
   "source": [
    "#### Testing"
   ]
  },
  {
   "cell_type": "code",
   "execution_count": 30,
   "metadata": {},
   "outputs": [
    {
     "name": "stdout",
     "output_type": "stream",
     "text": [
      "False\n"
     ]
    }
   ],
   "source": [
    "A = [[1, 0, 0], [0, 1, 0], [0, 0, 1]]\n",
    "b = [1, 2, 3]\n",
    "ans = [\"none\", \"2\", \"3\"]\n",
    "foo = linear_eqs_grader(A, b)\n",
    "print(foo(expect=None, ans=ans))"
   ]
  },
  {
   "cell_type": "code",
   "execution_count": 31,
   "metadata": {},
   "outputs": [
    {
     "name": "stdout",
     "output_type": "stream",
     "text": [
      "True\n"
     ]
    }
   ],
   "source": [
    "A = [[0, 0, 0, 1, -1],\n",
    "     [1, 1, 0, 0, 0],\n",
    "     [1, 0, 1, 0, 0],\n",
    "     [0, 1, -1,1, 0],\n",
    "     [0, 0, 0, 0, 1]\n",
    "    ]\n",
    "b = [35, 85, 75, 70, 25]\n",
    "b = [35, 85, 75, 70, 25]\n",
    "ans = [\"85-x_2\", \"x_2\", \"x_2-10\", \"60\", \"25\"]\n",
    "foo = linear_eqs_grader(A, b)\n",
    "print(foo(expect=None, ans=ans))"
   ]
  },
  {
   "cell_type": "code",
   "execution_count": 32,
   "metadata": {},
   "outputs": [
    {
     "name": "stdout",
     "output_type": "stream",
     "text": [
      "True\n"
     ]
    }
   ],
   "source": [
    "A = [[-1,  1,  1,  0,  0,  0],\n",
    "             [ 1,  0,  0,  1,  0,  0],\n",
    "             [ 0, -1,  0,  0,  0,  1],\n",
    "             [ 0,  0,  0,  0, -1, -1],\n",
    "             [ 0,  0, -1, -1,  1,  0],\n",
    "            ]\n",
    "b = [100, 80, -30, -100, -50]\n",
    "ans = [\"80-x_4\", \"30+x_6\", \"150-x_4-x_6\", \"x_4\", \"100-x_6\", \"x_6\"]\n",
    "foo = linear_eqs_grader(A, b)\n",
    "print(foo(expect=None, ans=ans))"
   ]
  },
  {
   "cell_type": "code",
   "execution_count": 33,
   "metadata": {},
   "outputs": [
    {
     "name": "stdout",
     "output_type": "stream",
     "text": [
      "True\n"
     ]
    }
   ],
   "source": [
    "import sympy\n",
    "\n",
    "A = sympy.Matrix([\n",
    "[ -1,  1, 1, 0, 0, 0], \n",
    "[  1,  0, 0, 1, 0, 0],\n",
    "[  0, -1, 0, 0, 0, 1],\n",
    "[  0,  0, 0, 0,-1,-1],\n",
    "[  0,  0,-1,-1, 1, 0]])\n",
    "\n",
    "b = sympy.Matrix([100, 80, -30, -100, -50]) \n",
    "ans = [\"80-x_4\", \"30+x_6\", \"150-x_4 - x_6\", \"x_4\", \"100 - x_6\", \"x_6\"]\n",
    "foo = linear_eqs_grader(A, b)\n",
    "print(foo(expect=None, ans=ans))"
   ]
  },
  {
   "cell_type": "code",
   "execution_count": 44,
   "metadata": {},
   "outputs": [
    {
     "name": "stdout",
     "output_type": "stream",
     "text": [
      "True\n"
     ]
    }
   ],
   "source": [
    "A = [[1, 3,   5, -2],\n",
    "     [2, 7,   3,  1],\n",
    "     [1, 5,  -9,  8],\n",
    "     [5, 18,  4,  5]]   \n",
    "  \n",
    "b = [3, 5, 1, 12]  \n",
    "\n",
    "ans = [\"6- 26*x_3 + 17*x_4\", \"-1 + 7*x_3 - 5*x_4\", \"x_3\", \"x_4\"] \n",
    "foo = linear_eqs_grader(A, b)\n",
    "print(foo(expect=None, ans=ans))"
   ]
  },
  {
   "cell_type": "code",
   "execution_count": 39,
   "metadata": {},
   "outputs": [
    {
     "name": "stdout",
     "output_type": "stream",
     "text": [
      "True\n"
     ]
    }
   ],
   "source": [
    "sol = [\"-2\", \"1\", \"4\", \"3\"]\n",
    "foo = linear_eqs_grader(A, b)\n",
    "print(foo(expect=None, ans=sol))"
   ]
  },
  {
   "cell_type": "code",
   "execution_count": 2,
   "metadata": {},
   "outputs": [],
   "source": [
    "x = [ u'none', u'', u'', u'', u'', u'' ]"
   ]
  },
  {
   "cell_type": "code",
   "execution_count": 3,
   "metadata": {},
   "outputs": [
    {
     "data": {
      "text/plain": [
       "True"
      ]
     },
     "execution_count": 3,
     "metadata": {},
     "output_type": "execute_result"
    }
   ],
   "source": [
    "\"none\" in x"
   ]
  },
  {
   "cell_type": "code",
   "execution_count": 4,
   "metadata": {},
   "outputs": [],
   "source": [
    "import graders309 as gr  \n",
    "  \n",
    "gr.np_randomizer()  \n",
    "    \n",
    "B = gr.random_int_matrix(m=3, n=3, matrix_min=-3, matrix_max=4, invertible=True)\n",
    "v, c = gr.random_int_combination(B, coeff_min = -6, coeff_max = 7)\n",
    "\n",
    "b11, b12, b13 = [int(b) for b in B[0]]\n",
    "b21, b22, b23 = [int(b) for b in B[1]]\n",
    "b31, b32, b33 = [int(b) for b in B[2]]\n",
    "\n",
    "ssc = str(c)\n",
    "sB = str(B)\n",
    "sv = str(v)\n",
    "v1, v2, v3 = [int(y) for y in v]\n",
    "c1, c2, c3 = [int(y) for y in c]\n",
    "  \n",
    "w1, w2 = 1, 2\n",
    "s = int(sum(c))\n",
    "sw1 = s*w1\n",
    "sw2 = s*w2\n",
    "sc = c1 + c2 + c3  \n",
    "  \n",
    "atol = 0.01\n",
    "rtol = 0\n",
    "  \n",
    "def check_answer(expect, ans):\n",
    "    try:\n",
    "        x = eval(\"np.array(\" + ans + \").astype(float)\")\n",
    "    except Exception: \n",
    "        return False\n",
    "    if x.shape != (2,):\n",
    "        return False\n",
    "    if np.allclose(x, sum(c)*np.array([w1, w2]), atol=atol, rtol=rtol): \n",
    "        return True\n",
    "    #raise Exception(\"x={}, ans={}, v={}, B={}\".format(x, (c1+c2+c3)*np.array([w1, w2]), v, B))\n",
    "    return False"
   ]
  },
  {
   "cell_type": "code",
   "execution_count": 5,
   "metadata": {},
   "outputs": [
    {
     "data": {
      "text/plain": [
       "array([[ 4,  2, -1],\n",
       "       [ 0,  1, -3],\n",
       "       [-1, -3, -2]])"
      ]
     },
     "execution_count": 5,
     "metadata": {},
     "output_type": "execute_result"
    }
   ],
   "source": [
    "B"
   ]
  },
  {
   "cell_type": "code",
   "execution_count": 6,
   "metadata": {},
   "outputs": [
    {
     "data": {
      "text/plain": [
       "array([-7, -8, 12])"
      ]
     },
     "execution_count": 6,
     "metadata": {},
     "output_type": "execute_result"
    }
   ],
   "source": [
    "v"
   ]
  },
  {
   "cell_type": "code",
   "execution_count": 7,
   "metadata": {},
   "outputs": [
    {
     "data": {
      "text/plain": [
       "array([ 1, -5,  1])"
      ]
     },
     "execution_count": 7,
     "metadata": {},
     "output_type": "execute_result"
    }
   ],
   "source": [
    "c"
   ]
  },
  {
   "cell_type": "code",
   "execution_count": 10,
   "metadata": {},
   "outputs": [],
   "source": [
    "import numpy as np\n",
    "A = np.arange(9).reshape(3,3)"
   ]
  },
  {
   "cell_type": "code",
   "execution_count": 11,
   "metadata": {},
   "outputs": [
    {
     "data": {
      "text/plain": [
       "array([[0, 1, 2],\n",
       "       [3, 4, 5],\n",
       "       [6, 7, 8]])"
      ]
     },
     "execution_count": 11,
     "metadata": {},
     "output_type": "execute_result"
    }
   ],
   "source": [
    "A"
   ]
  },
  {
   "cell_type": "code",
   "execution_count": 12,
   "metadata": {},
   "outputs": [],
   "source": [
    "b = np.array([10, 20, 30])"
   ]
  },
  {
   "cell_type": "code",
   "execution_count": 22,
   "metadata": {},
   "outputs": [
    {
     "name": "stdout",
     "output_type": "stream",
     "text": [
      "Matrix([[1, 1, -2], [1, 2, -3], [3, 1, -2]]) Matrix([[-5, 0, 0], [0, -5, 0], [0, 0, -2]])\n",
      "sol=  [[10, -6, -3], [45/2, -14, -9/2], [15, -6, -8]]\n"
     ]
    }
   ],
   "source": [
    "import graders309 as gr\n",
    "  \n",
    "import sympy\n",
    "import numpy as np\n",
    "\n",
    "V = gr.random_int_matrix(m=3, n=3, matrix_min=-3, matrix_max=3, invertible=True, max_det=3)\n",
    "L = gr.random_int_matrix(m=2, n=1, matrix_min=-5, matrix_max=5).ravel()\n",
    "v1 = V[:, 0]\n",
    "v2 = V[:, 1]\n",
    "v3 = V[:, 2]\n",
    "L1 = L[0]\n",
    "L2 = L[1]\n",
    "LL = [L1, L1, L2]\n",
    "VLL = V*np.array(LL)\n",
    "\n",
    "MV = sympy.Matrix(V)\n",
    "MLL = sympy.diag(*LL)\n",
    "print(MV, MLL)\n",
    "Msol = MV*MLL*MV**(-1)\n",
    "\n",
    "sol = gr.matrix2str(Msol)\n",
    "print(\"sol= \", sol)  \n",
    "atol = 0.01\n",
    "rtol = 0\n",
    "\n",
    "\n",
    "def check_answer(expect, ans):\n",
    "  \n",
    "    A = str_2_array(ans)\n",
    "    if A.shape != (3, 3):\n",
    "        return False\n",
    "\n",
    "    AV = np.dot(A, V)\n",
    "    if not np.allclose(AV, VLL, atol= atol, rtol=rtol):\n",
    "        return False\n",
    "    else:\n",
    "        return True"
   ]
  },
  {
   "cell_type": "code",
   "execution_count": 17,
   "metadata": {},
   "outputs": [
    {
     "data": {
      "text/plain": [
       "Matrix([\n",
       "[1],\n",
       "[2],\n",
       "[3]])"
      ]
     },
     "execution_count": 17,
     "metadata": {},
     "output_type": "execute_result"
    }
   ],
   "source": [
    "sympy.diag([1, 2, 3])"
   ]
  },
  {
   "cell_type": "code",
   "execution_count": null,
   "metadata": {},
   "outputs": [],
   "source": []
  }
 ],
 "metadata": {
  "kernelspec": {
   "display_name": "Python 3",
   "language": "python",
   "name": "python3"
  },
  "language_info": {
   "codemirror_mode": {
    "name": "ipython",
    "version": 3
   },
   "file_extension": ".py",
   "mimetype": "text/x-python",
   "name": "python",
   "nbconvert_exporter": "python",
   "pygments_lexer": "ipython3",
   "version": "3.7.1"
  }
 },
 "nbformat": 4,
 "nbformat_minor": 2
}
