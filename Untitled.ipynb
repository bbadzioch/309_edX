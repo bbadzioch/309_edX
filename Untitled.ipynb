{
 "cells": [
  {
   "cell_type": "code",
   "execution_count": 1,
   "metadata": {},
   "outputs": [],
   "source": [
    "import sys"
   ]
  },
  {
   "cell_type": "code",
   "execution_count": 4,
   "metadata": {},
   "outputs": [],
   "source": [
    "sys.path.append(\"./python_lib\")"
   ]
  },
  {
   "cell_type": "code",
   "execution_count": 5,
   "metadata": {},
   "outputs": [],
   "source": [
    "import graders309 as gr"
   ]
  },
  {
   "cell_type": "code",
   "execution_count": 19,
   "metadata": {},
   "outputs": [],
   "source": [
    "import graders309 as gr  \n",
    "import numpy as np\n",
    "import random \n",
    "\n",
    "gr.np_randomizer()\n",
    "  \n",
    "m = 2\n",
    "n = 2\n",
    "  \n",
    "A = gr.random_int_matrix(m=m, n=n, matrix_min=-5, matrix_max=5, invertible=True)  \n",
    "\n",
    "x = random.randint(1, 6)\n",
    "r = np.array([x+1,x])\n",
    "rA = np.vstack((r, A))\n",
    "v1 = rA[:, 0]\n",
    "v2 = rA[:, 1]\n",
    "v1 = np.array([7,1, 5])\n",
    "v2 = np.array([6,-2, -3])\n",
    "latex_v1 = gr.vector_2_latex(v1)\n",
    "latex_v2 = gr.vector_2_latex(v2)\n",
    "\n",
    "n = v1 - v2\n",
    "z = v1 - rA[0,0]*n \n",
    "  \n",
    "sol_a = gr.matrix2str(n) \n",
    "sol_b = gr.matrix2str(z) \n",
    "\n",
    "atol = 0.001\n",
    "rtol = 0\n",
    "check_answer_a = gr.basis_grader(n.reshape(-1, 1)) \n",
    "check_answer_b = gr.array_grader(rtol=rtol, atol=atol) "
   ]
  },
  {
   "cell_type": "code",
   "execution_count": 23,
   "metadata": {},
   "outputs": [
    {
     "data": {
      "text/plain": [
       "(array([7, 1, 5]), array([ 6, -2, -3]), array([1, 3, 8]))"
      ]
     },
     "execution_count": 23,
     "metadata": {},
     "output_type": "execute_result"
    }
   ],
   "source": [
    "v1, v2, n"
   ]
  },
  {
   "cell_type": "code",
   "execution_count": 26,
   "metadata": {},
   "outputs": [
    {
     "data": {
      "text/plain": [
       "False"
      ]
     },
     "execution_count": 26,
     "metadata": {},
     "output_type": "execute_result"
    }
   ],
   "source": [
    "check_answer_a(expect=\"\", ans=\"[1,-3,-8]\")"
   ]
  },
  {
   "cell_type": "code",
   "execution_count": null,
   "metadata": {},
   "outputs": [],
   "source": []
  }
 ],
 "metadata": {
  "kernelspec": {
   "display_name": "Python 3",
   "language": "python",
   "name": "python3"
  },
  "language_info": {
   "codemirror_mode": {
    "name": "ipython",
    "version": 3
   },
   "file_extension": ".py",
   "mimetype": "text/x-python",
   "name": "python",
   "nbconvert_exporter": "python",
   "pygments_lexer": "ipython3",
   "version": "3.7.3"
  }
 },
 "nbformat": 4,
 "nbformat_minor": 2
}
